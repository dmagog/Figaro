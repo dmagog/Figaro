{
 "cells": [
  {
   "cell_type": "markdown",
   "id": "6d6fbd9a",
   "metadata": {},
   "source": [
    "# Блок рекомендаций\n",
    "\n",
    "Так как штука сама по себе объемная и загадочная, вынесу ее в отдельный блокнот. Мы снова подгрузим историии о транзакциях, попутаемся оценить, какие концерты пользоваались спросом, как то озарактеризовать этих людей, и понять, какие реальные маршруты у них по факту получились."
   ]
  },
  {
   "cell_type": "code",
   "execution_count": 35,
   "id": "ffa7a9d2",
   "metadata": {},
   "outputs": [],
   "source": [
    "import pandas as pd\n",
    "import numpy as np\n",
    "import datetime\n",
    "\n",
    "# Опишем пути к файлам\n",
    "TRANSACTIONS_PATH = 'data_dirty/bd2022_06072022.xlsx'"
   ]
  },
  {
   "cell_type": "code",
   "execution_count": 36,
   "id": "03bfda5f",
   "metadata": {},
   "outputs": [],
   "source": [
    "transactions = pd.read_excel(TRANSACTIONS_PATH)"
   ]
  },
  {
   "cell_type": "markdown",
   "id": "42b0f2d7",
   "metadata": {},
   "source": [
    "## Подготовка данных\n",
    "\n",
    "В листе операций данных с избытком. НО не всякие нужны нам д ля оценки поведения. Для начала, уберем все возвраты, и оставим только идентифицируемые операции - те, что имею отднозначную связь с пользователем. А не куплены анонимно, например, в кассе."
   ]
  },
  {
   "cell_type": "code",
   "execution_count": 37,
   "id": "3c187dfd",
   "metadata": {},
   "outputs": [],
   "source": [
    "#в названии концертов фестиваля Безумных дней указывается его порядковый номер. Разделим строку на номер и собственно название\n",
    "qq = transactions['ShowName'].str.split('. ', n=1, expand = True)\n",
    "\n",
    "transactions['ShowNum'] = pd.to_numeric(qq[0])\n",
    "transactions['ShowName'] = qq[1]\n",
    "\n",
    "# Назначим в качестве индекса номер концерта и отсортируем список.\n",
    "concerts = transactions.set_index('ShowNum').sort_index()"
   ]
  },
  {
   "cell_type": "code",
   "execution_count": 38,
   "id": "0b4ab38e",
   "metadata": {},
   "outputs": [
    {
     "name": "stdout",
     "output_type": "stream",
     "text": [
      "Всего операций возвратов в выгрузке: 26\n"
     ]
    }
   ],
   "source": [
    "# Операции возврата отложим отдельно\n",
    "Vozvrat = transactions[transactions['Price'] < 0]\n",
    "print(f'Всего операций возвратов в выгрузке: {len(Vozvrat)}')\n",
    "\n",
    "#удалим операции возвратов, чтобы они не влияли на расчет средних значений (напрмиер цены билаов на этот концерт)\n",
    "transactions = transactions.drop(transactions[transactions['Price'] < 0].index)\n"
   ]
  },
  {
   "cell_type": "code",
   "execution_count": null,
   "id": "de7c9941",
   "metadata": {},
   "outputs": [
    {
     "name": "stdout",
     "output_type": "stream",
     "text": [
      "Кокличество операций без привязки к клиенту: 10512\n"
     ]
    }
   ],
   "source": [
    "With_out_clients = transactions[transactions['ClientId'].isna()]\n",
    "\n",
    "print(f'Количество операций без привязки к клиенту: {len(With_out_clients)}')"
   ]
  },
  {
   "cell_type": "code",
   "execution_count": 50,
   "id": "69f23583",
   "metadata": {},
   "outputs": [
    {
     "data": {
      "text/html": [
       "<div>\n",
       "<style scoped>\n",
       "    .dataframe tbody tr th:only-of-type {\n",
       "        vertical-align: middle;\n",
       "    }\n",
       "\n",
       "    .dataframe tbody tr th {\n",
       "        vertical-align: top;\n",
       "    }\n",
       "\n",
       "    .dataframe thead th {\n",
       "        text-align: right;\n",
       "    }\n",
       "</style>\n",
       "<table border=\"1\" class=\"dataframe\">\n",
       "  <thead>\n",
       "    <tr style=\"text-align: right;\">\n",
       "      <th></th>\n",
       "      <th>OpId</th>\n",
       "      <th>OpDate</th>\n",
       "      <th>HallName</th>\n",
       "      <th>ShowDate</th>\n",
       "      <th>ShowName</th>\n",
       "      <th>ShowId</th>\n",
       "      <th>Genre</th>\n",
       "      <th>Price</th>\n",
       "      <th>ShowNum</th>\n",
       "    </tr>\n",
       "    <tr>\n",
       "      <th>ClientId</th>\n",
       "      <th></th>\n",
       "      <th></th>\n",
       "      <th></th>\n",
       "      <th></th>\n",
       "      <th></th>\n",
       "      <th></th>\n",
       "      <th></th>\n",
       "      <th></th>\n",
       "      <th></th>\n",
       "    </tr>\n",
       "  </thead>\n",
       "  <tbody>\n",
       "    <tr>\n",
       "      <th>1.0</th>\n",
       "      <td>31844</td>\n",
       "      <td>2022-04-30 17:59:54</td>\n",
       "      <td>ТЮЗ - Большой</td>\n",
       "      <td>2022-07-01 19:45:00</td>\n",
       "      <td>Фламенко в ритме сердца</td>\n",
       "      <td>17</td>\n",
       "      <td>Танец</td>\n",
       "      <td>200</td>\n",
       "      <td>26</td>\n",
       "    </tr>\n",
       "    <tr>\n",
       "      <th>1.0</th>\n",
       "      <td>31827</td>\n",
       "      <td>2022-04-30 17:56:59</td>\n",
       "      <td>Большой зал филармонии</td>\n",
       "      <td>2022-07-02 22:15:00</td>\n",
       "      <td>Ночной орган и японская флейта</td>\n",
       "      <td>35</td>\n",
       "      <td>Орган и солисты</td>\n",
       "      <td>200</td>\n",
       "      <td>69</td>\n",
       "    </tr>\n",
       "    <tr>\n",
       "      <th>1.0</th>\n",
       "      <td>31828</td>\n",
       "      <td>2022-04-30 17:56:59</td>\n",
       "      <td>Большой зал филармонии</td>\n",
       "      <td>2022-07-02 22:15:00</td>\n",
       "      <td>Ночной орган и японская флейта</td>\n",
       "      <td>35</td>\n",
       "      <td>Орган и солисты</td>\n",
       "      <td>200</td>\n",
       "      <td>69</td>\n",
       "    </tr>\n",
       "    <tr>\n",
       "      <th>1.0</th>\n",
       "      <td>31843</td>\n",
       "      <td>2022-04-30 17:59:54</td>\n",
       "      <td>ТЮЗ - Большой</td>\n",
       "      <td>2022-07-01 19:45:00</td>\n",
       "      <td>Фламенко в ритме сердца</td>\n",
       "      <td>17</td>\n",
       "      <td>Танец</td>\n",
       "      <td>200</td>\n",
       "      <td>26</td>\n",
       "    </tr>\n",
       "    <tr>\n",
       "      <th>190.0</th>\n",
       "      <td>91758</td>\n",
       "      <td>2022-06-30 18:52:03</td>\n",
       "      <td>Большой зал филармонии</td>\n",
       "      <td>2022-07-02 17:15:00</td>\n",
       "      <td>Симфония радости</td>\n",
       "      <td>33</td>\n",
       "      <td>Симфонический оркестр</td>\n",
       "      <td>200</td>\n",
       "      <td>56</td>\n",
       "    </tr>\n",
       "    <tr>\n",
       "      <th>...</th>\n",
       "      <td>...</td>\n",
       "      <td>...</td>\n",
       "      <td>...</td>\n",
       "      <td>...</td>\n",
       "      <td>...</td>\n",
       "      <td>...</td>\n",
       "      <td>...</td>\n",
       "      <td>...</td>\n",
       "      <td>...</td>\n",
       "    </tr>\n",
       "    <tr>\n",
       "      <th>99984.0</th>\n",
       "      <td>99141</td>\n",
       "      <td>2022-07-03 13:09:43</td>\n",
       "      <td>ТЮЗ - Большой</td>\n",
       "      <td>2022-07-03 14:30:00</td>\n",
       "      <td>Пляж на Лебедином озере</td>\n",
       "      <td>88</td>\n",
       "      <td>Камерные программы</td>\n",
       "      <td>200</td>\n",
       "      <td>86</td>\n",
       "    </tr>\n",
       "    <tr>\n",
       "      <th>99988.0</th>\n",
       "      <td>99163</td>\n",
       "      <td>2022-07-03 13:34:41.037</td>\n",
       "      <td>ТЮЗ - Большой</td>\n",
       "      <td>2022-07-03 14:30:00</td>\n",
       "      <td>Пляж на Лебедином озере</td>\n",
       "      <td>88</td>\n",
       "      <td>Камерные программы</td>\n",
       "      <td>200</td>\n",
       "      <td>86</td>\n",
       "    </tr>\n",
       "    <tr>\n",
       "      <th>99988.0</th>\n",
       "      <td>99164</td>\n",
       "      <td>2022-07-03 13:34:41.043</td>\n",
       "      <td>ТЮЗ - Большой</td>\n",
       "      <td>2022-07-03 14:30:00</td>\n",
       "      <td>Пляж на Лебедином озере</td>\n",
       "      <td>88</td>\n",
       "      <td>Камерные программы</td>\n",
       "      <td>200</td>\n",
       "      <td>86</td>\n",
       "    </tr>\n",
       "    <tr>\n",
       "      <th>100009.0</th>\n",
       "      <td>75643</td>\n",
       "      <td>2022-06-18 21:49:16</td>\n",
       "      <td>Большой зал филармонии</td>\n",
       "      <td>2022-07-02 15:00:00</td>\n",
       "      <td>Неоконченная</td>\n",
       "      <td>32</td>\n",
       "      <td>Симфонический оркестр</td>\n",
       "      <td>200</td>\n",
       "      <td>49</td>\n",
       "    </tr>\n",
       "    <tr>\n",
       "      <th>100009.0</th>\n",
       "      <td>75642</td>\n",
       "      <td>2022-06-18 21:49:16</td>\n",
       "      <td>Большой зал филармонии</td>\n",
       "      <td>2022-07-02 15:00:00</td>\n",
       "      <td>Неоконченная</td>\n",
       "      <td>32</td>\n",
       "      <td>Симфонический оркестр</td>\n",
       "      <td>200</td>\n",
       "      <td>49</td>\n",
       "    </tr>\n",
       "  </tbody>\n",
       "</table>\n",
       "<p>25830 rows × 9 columns</p>\n",
       "</div>"
      ],
      "text/plain": [
       "           OpId                   OpDate                HallName  \\\n",
       "ClientId                                                           \n",
       "1.0       31844      2022-04-30 17:59:54           ТЮЗ - Большой   \n",
       "1.0       31827      2022-04-30 17:56:59  Большой зал филармонии   \n",
       "1.0       31828      2022-04-30 17:56:59  Большой зал филармонии   \n",
       "1.0       31843      2022-04-30 17:59:54           ТЮЗ - Большой   \n",
       "190.0     91758      2022-06-30 18:52:03  Большой зал филармонии   \n",
       "...         ...                      ...                     ...   \n",
       "99984.0   99141      2022-07-03 13:09:43           ТЮЗ - Большой   \n",
       "99988.0   99163  2022-07-03 13:34:41.037           ТЮЗ - Большой   \n",
       "99988.0   99164  2022-07-03 13:34:41.043           ТЮЗ - Большой   \n",
       "100009.0  75643      2022-06-18 21:49:16  Большой зал филармонии   \n",
       "100009.0  75642      2022-06-18 21:49:16  Большой зал филармонии   \n",
       "\n",
       "                    ShowDate                        ShowName  ShowId  \\\n",
       "ClientId                                                               \n",
       "1.0      2022-07-01 19:45:00         Фламенко в ритме сердца      17   \n",
       "1.0      2022-07-02 22:15:00  Ночной орган и японская флейта      35   \n",
       "1.0      2022-07-02 22:15:00  Ночной орган и японская флейта      35   \n",
       "1.0      2022-07-01 19:45:00         Фламенко в ритме сердца      17   \n",
       "190.0    2022-07-02 17:15:00                Симфония радости      33   \n",
       "...                      ...                             ...     ...   \n",
       "99984.0  2022-07-03 14:30:00         Пляж на Лебедином озере      88   \n",
       "99988.0  2022-07-03 14:30:00         Пляж на Лебедином озере      88   \n",
       "99988.0  2022-07-03 14:30:00         Пляж на Лебедином озере      88   \n",
       "100009.0 2022-07-02 15:00:00                    Неоконченная      32   \n",
       "100009.0 2022-07-02 15:00:00                    Неоконченная      32   \n",
       "\n",
       "                          Genre  Price  ShowNum  \n",
       "ClientId                                         \n",
       "1.0                       Танец    200       26  \n",
       "1.0             Орган и солисты    200       69  \n",
       "1.0             Орган и солисты    200       69  \n",
       "1.0                       Танец    200       26  \n",
       "190.0     Симфонический оркестр    200       56  \n",
       "...                         ...    ...      ...  \n",
       "99984.0      Камерные программы    200       86  \n",
       "99988.0      Камерные программы    200       86  \n",
       "99988.0      Камерные программы    200       86  \n",
       "100009.0  Симфонический оркестр    200       49  \n",
       "100009.0  Симфонический оркестр    200       49  \n",
       "\n",
       "[25830 rows x 9 columns]"
      ]
     },
     "execution_count": 50,
     "metadata": {},
     "output_type": "execute_result"
    }
   ],
   "source": [
    "# уберем пока из рассмотрения факультатиыне параметры с ряд\\место, колчиества билетов и пр.\n",
    "GoodOperetions = transactions[transactions['ClientId'] > 0].drop(['WebOrderId', 'Fest', 'TicketType', 'TicketNum', 'ZoneName', 'RowNum', 'SeatNum', 'Pushkin'], axis=1).set_index('ClientId').sort_index()\n",
    "GoodOperetions.to_excel('data_clean/GoodOperetions.xlsx')\n",
    "GoodOperetions"
   ]
  },
  {
   "cell_type": "code",
   "execution_count": 53,
   "id": "f33cf9d7",
   "metadata": {},
   "outputs": [
    {
     "data": {
      "text/plain": [
       "ClientId  ShowNum\n",
       "1.0       26         2\n",
       "          69         2\n",
       "190.0     56         1\n",
       "198.0     4          2\n",
       "          10         1\n",
       "          80         2\n",
       "218.0     25         2\n",
       "          32         2\n",
       "          39         2\n",
       "          42         2\n",
       "238.0     10         1\n",
       "283.0     1          1\n",
       "288.0     1          1\n",
       "          60         2\n",
       "          80         1\n",
       "309.0     4          2\n",
       "          42         2\n",
       "          98         2\n",
       "327.0     21         2\n",
       "          26         2\n",
       "Name: OpId, dtype: int64"
      ]
     },
     "execution_count": 53,
     "metadata": {},
     "output_type": "execute_result"
    }
   ],
   "source": [
    "GoodOperetions.reset_index().groupby(['ClientId', 'ShowNum']).count()['OpId'].head(20)"
   ]
  },
  {
   "cell_type": "code",
   "execution_count": 59,
   "id": "0fb215aa",
   "metadata": {},
   "outputs": [
    {
     "data": {
      "text/html": [
       "<div>\n",
       "<style scoped>\n",
       "    .dataframe tbody tr th:only-of-type {\n",
       "        vertical-align: middle;\n",
       "    }\n",
       "\n",
       "    .dataframe tbody tr th {\n",
       "        vertical-align: top;\n",
       "    }\n",
       "\n",
       "    .dataframe thead th {\n",
       "        text-align: right;\n",
       "    }\n",
       "</style>\n",
       "<table border=\"1\" class=\"dataframe\">\n",
       "  <thead>\n",
       "    <tr style=\"text-align: right;\">\n",
       "      <th></th>\n",
       "      <th>ClientId</th>\n",
       "      <th>OpId</th>\n",
       "      <th>OpDate</th>\n",
       "      <th>HallName</th>\n",
       "      <th>ShowDate</th>\n",
       "      <th>ShowName</th>\n",
       "      <th>ShowId</th>\n",
       "      <th>Genre</th>\n",
       "      <th>Price</th>\n",
       "      <th>ShowNum</th>\n",
       "    </tr>\n",
       "  </thead>\n",
       "  <tbody>\n",
       "    <tr>\n",
       "      <th>0</th>\n",
       "      <td>1.0</td>\n",
       "      <td>31844</td>\n",
       "      <td>2022-04-30 17:59:54</td>\n",
       "      <td>ТЮЗ - Большой</td>\n",
       "      <td>2022-07-01 19:45:00</td>\n",
       "      <td>Фламенко в ритме сердца</td>\n",
       "      <td>17</td>\n",
       "      <td>Танец</td>\n",
       "      <td>200</td>\n",
       "      <td>26</td>\n",
       "    </tr>\n",
       "    <tr>\n",
       "      <th>1</th>\n",
       "      <td>1.0</td>\n",
       "      <td>31827</td>\n",
       "      <td>2022-04-30 17:56:59</td>\n",
       "      <td>Большой зал филармонии</td>\n",
       "      <td>2022-07-02 22:15:00</td>\n",
       "      <td>Ночной орган и японская флейта</td>\n",
       "      <td>35</td>\n",
       "      <td>Орган и солисты</td>\n",
       "      <td>200</td>\n",
       "      <td>69</td>\n",
       "    </tr>\n",
       "    <tr>\n",
       "      <th>2</th>\n",
       "      <td>1.0</td>\n",
       "      <td>31828</td>\n",
       "      <td>2022-04-30 17:56:59</td>\n",
       "      <td>Большой зал филармонии</td>\n",
       "      <td>2022-07-02 22:15:00</td>\n",
       "      <td>Ночной орган и японская флейта</td>\n",
       "      <td>35</td>\n",
       "      <td>Орган и солисты</td>\n",
       "      <td>200</td>\n",
       "      <td>69</td>\n",
       "    </tr>\n",
       "    <tr>\n",
       "      <th>3</th>\n",
       "      <td>1.0</td>\n",
       "      <td>31843</td>\n",
       "      <td>2022-04-30 17:59:54</td>\n",
       "      <td>ТЮЗ - Большой</td>\n",
       "      <td>2022-07-01 19:45:00</td>\n",
       "      <td>Фламенко в ритме сердца</td>\n",
       "      <td>17</td>\n",
       "      <td>Танец</td>\n",
       "      <td>200</td>\n",
       "      <td>26</td>\n",
       "    </tr>\n",
       "    <tr>\n",
       "      <th>4</th>\n",
       "      <td>190.0</td>\n",
       "      <td>91758</td>\n",
       "      <td>2022-06-30 18:52:03</td>\n",
       "      <td>Большой зал филармонии</td>\n",
       "      <td>2022-07-02 17:15:00</td>\n",
       "      <td>Симфония радости</td>\n",
       "      <td>33</td>\n",
       "      <td>Симфонический оркестр</td>\n",
       "      <td>200</td>\n",
       "      <td>56</td>\n",
       "    </tr>\n",
       "    <tr>\n",
       "      <th>...</th>\n",
       "      <td>...</td>\n",
       "      <td>...</td>\n",
       "      <td>...</td>\n",
       "      <td>...</td>\n",
       "      <td>...</td>\n",
       "      <td>...</td>\n",
       "      <td>...</td>\n",
       "      <td>...</td>\n",
       "      <td>...</td>\n",
       "      <td>...</td>\n",
       "    </tr>\n",
       "    <tr>\n",
       "      <th>25825</th>\n",
       "      <td>99984.0</td>\n",
       "      <td>99141</td>\n",
       "      <td>2022-07-03 13:09:43</td>\n",
       "      <td>ТЮЗ - Большой</td>\n",
       "      <td>2022-07-03 14:30:00</td>\n",
       "      <td>Пляж на Лебедином озере</td>\n",
       "      <td>88</td>\n",
       "      <td>Камерные программы</td>\n",
       "      <td>200</td>\n",
       "      <td>86</td>\n",
       "    </tr>\n",
       "    <tr>\n",
       "      <th>25826</th>\n",
       "      <td>99988.0</td>\n",
       "      <td>99163</td>\n",
       "      <td>2022-07-03 13:34:41.037</td>\n",
       "      <td>ТЮЗ - Большой</td>\n",
       "      <td>2022-07-03 14:30:00</td>\n",
       "      <td>Пляж на Лебедином озере</td>\n",
       "      <td>88</td>\n",
       "      <td>Камерные программы</td>\n",
       "      <td>200</td>\n",
       "      <td>86</td>\n",
       "    </tr>\n",
       "    <tr>\n",
       "      <th>25827</th>\n",
       "      <td>99988.0</td>\n",
       "      <td>99164</td>\n",
       "      <td>2022-07-03 13:34:41.043</td>\n",
       "      <td>ТЮЗ - Большой</td>\n",
       "      <td>2022-07-03 14:30:00</td>\n",
       "      <td>Пляж на Лебедином озере</td>\n",
       "      <td>88</td>\n",
       "      <td>Камерные программы</td>\n",
       "      <td>200</td>\n",
       "      <td>86</td>\n",
       "    </tr>\n",
       "    <tr>\n",
       "      <th>25828</th>\n",
       "      <td>100009.0</td>\n",
       "      <td>75643</td>\n",
       "      <td>2022-06-18 21:49:16</td>\n",
       "      <td>Большой зал филармонии</td>\n",
       "      <td>2022-07-02 15:00:00</td>\n",
       "      <td>Неоконченная</td>\n",
       "      <td>32</td>\n",
       "      <td>Симфонический оркестр</td>\n",
       "      <td>200</td>\n",
       "      <td>49</td>\n",
       "    </tr>\n",
       "    <tr>\n",
       "      <th>25829</th>\n",
       "      <td>100009.0</td>\n",
       "      <td>75642</td>\n",
       "      <td>2022-06-18 21:49:16</td>\n",
       "      <td>Большой зал филармонии</td>\n",
       "      <td>2022-07-02 15:00:00</td>\n",
       "      <td>Неоконченная</td>\n",
       "      <td>32</td>\n",
       "      <td>Симфонический оркестр</td>\n",
       "      <td>200</td>\n",
       "      <td>49</td>\n",
       "    </tr>\n",
       "  </tbody>\n",
       "</table>\n",
       "<p>25830 rows × 10 columns</p>\n",
       "</div>"
      ],
      "text/plain": [
       "       ClientId   OpId                   OpDate                HallName  \\\n",
       "0           1.0  31844      2022-04-30 17:59:54           ТЮЗ - Большой   \n",
       "1           1.0  31827      2022-04-30 17:56:59  Большой зал филармонии   \n",
       "2           1.0  31828      2022-04-30 17:56:59  Большой зал филармонии   \n",
       "3           1.0  31843      2022-04-30 17:59:54           ТЮЗ - Большой   \n",
       "4         190.0  91758      2022-06-30 18:52:03  Большой зал филармонии   \n",
       "...         ...    ...                      ...                     ...   \n",
       "25825   99984.0  99141      2022-07-03 13:09:43           ТЮЗ - Большой   \n",
       "25826   99988.0  99163  2022-07-03 13:34:41.037           ТЮЗ - Большой   \n",
       "25827   99988.0  99164  2022-07-03 13:34:41.043           ТЮЗ - Большой   \n",
       "25828  100009.0  75643      2022-06-18 21:49:16  Большой зал филармонии   \n",
       "25829  100009.0  75642      2022-06-18 21:49:16  Большой зал филармонии   \n",
       "\n",
       "                 ShowDate                        ShowName  ShowId  \\\n",
       "0     2022-07-01 19:45:00         Фламенко в ритме сердца      17   \n",
       "1     2022-07-02 22:15:00  Ночной орган и японская флейта      35   \n",
       "2     2022-07-02 22:15:00  Ночной орган и японская флейта      35   \n",
       "3     2022-07-01 19:45:00         Фламенко в ритме сердца      17   \n",
       "4     2022-07-02 17:15:00                Симфония радости      33   \n",
       "...                   ...                             ...     ...   \n",
       "25825 2022-07-03 14:30:00         Пляж на Лебедином озере      88   \n",
       "25826 2022-07-03 14:30:00         Пляж на Лебедином озере      88   \n",
       "25827 2022-07-03 14:30:00         Пляж на Лебедином озере      88   \n",
       "25828 2022-07-02 15:00:00                    Неоконченная      32   \n",
       "25829 2022-07-02 15:00:00                    Неоконченная      32   \n",
       "\n",
       "                       Genre  Price  ShowNum  \n",
       "0                      Танец    200       26  \n",
       "1            Орган и солисты    200       69  \n",
       "2            Орган и солисты    200       69  \n",
       "3                      Танец    200       26  \n",
       "4      Симфонический оркестр    200       56  \n",
       "...                      ...    ...      ...  \n",
       "25825     Камерные программы    200       86  \n",
       "25826     Камерные программы    200       86  \n",
       "25827     Камерные программы    200       86  \n",
       "25828  Симфонический оркестр    200       49  \n",
       "25829  Симфонический оркестр    200       49  \n",
       "\n",
       "[25830 rows x 10 columns]"
      ]
     },
     "execution_count": 59,
     "metadata": {},
     "output_type": "execute_result"
    }
   ],
   "source": [
    "GoodOperetions = GoodOperetions.reset_index()\n",
    "GoodOperetions"
   ]
  },
  {
   "cell_type": "code",
   "execution_count": 60,
   "id": "da221ca5",
   "metadata": {},
   "outputs": [
    {
     "data": {
      "text/html": [
       "<div>\n",
       "<style scoped>\n",
       "    .dataframe tbody tr th:only-of-type {\n",
       "        vertical-align: middle;\n",
       "    }\n",
       "\n",
       "    .dataframe tbody tr th {\n",
       "        vertical-align: top;\n",
       "    }\n",
       "\n",
       "    .dataframe thead th {\n",
       "        text-align: right;\n",
       "    }\n",
       "</style>\n",
       "<table border=\"1\" class=\"dataframe\">\n",
       "  <thead>\n",
       "    <tr style=\"text-align: right;\">\n",
       "      <th>ShowId</th>\n",
       "      <th>1</th>\n",
       "      <th>2</th>\n",
       "      <th>3</th>\n",
       "      <th>4</th>\n",
       "      <th>5</th>\n",
       "      <th>6</th>\n",
       "      <th>7</th>\n",
       "      <th>8</th>\n",
       "      <th>9</th>\n",
       "      <th>10</th>\n",
       "      <th>...</th>\n",
       "      <th>91</th>\n",
       "      <th>92</th>\n",
       "      <th>93</th>\n",
       "      <th>94</th>\n",
       "      <th>95</th>\n",
       "      <th>96</th>\n",
       "      <th>97</th>\n",
       "      <th>98</th>\n",
       "      <th>99</th>\n",
       "      <th>100</th>\n",
       "    </tr>\n",
       "    <tr>\n",
       "      <th>ClientId</th>\n",
       "      <th></th>\n",
       "      <th></th>\n",
       "      <th></th>\n",
       "      <th></th>\n",
       "      <th></th>\n",
       "      <th></th>\n",
       "      <th></th>\n",
       "      <th></th>\n",
       "      <th></th>\n",
       "      <th></th>\n",
       "      <th></th>\n",
       "      <th></th>\n",
       "      <th></th>\n",
       "      <th></th>\n",
       "      <th></th>\n",
       "      <th></th>\n",
       "      <th></th>\n",
       "      <th></th>\n",
       "      <th></th>\n",
       "      <th></th>\n",
       "      <th></th>\n",
       "    </tr>\n",
       "  </thead>\n",
       "  <tbody>\n",
       "    <tr>\n",
       "      <th>1.0</th>\n",
       "      <td>0</td>\n",
       "      <td>0</td>\n",
       "      <td>0</td>\n",
       "      <td>0</td>\n",
       "      <td>0</td>\n",
       "      <td>0</td>\n",
       "      <td>0</td>\n",
       "      <td>0</td>\n",
       "      <td>0</td>\n",
       "      <td>0</td>\n",
       "      <td>...</td>\n",
       "      <td>0</td>\n",
       "      <td>0</td>\n",
       "      <td>0</td>\n",
       "      <td>0</td>\n",
       "      <td>0</td>\n",
       "      <td>0</td>\n",
       "      <td>0</td>\n",
       "      <td>0</td>\n",
       "      <td>0</td>\n",
       "      <td>0</td>\n",
       "    </tr>\n",
       "    <tr>\n",
       "      <th>190.0</th>\n",
       "      <td>0</td>\n",
       "      <td>0</td>\n",
       "      <td>0</td>\n",
       "      <td>0</td>\n",
       "      <td>0</td>\n",
       "      <td>0</td>\n",
       "      <td>0</td>\n",
       "      <td>0</td>\n",
       "      <td>0</td>\n",
       "      <td>0</td>\n",
       "      <td>...</td>\n",
       "      <td>0</td>\n",
       "      <td>0</td>\n",
       "      <td>0</td>\n",
       "      <td>0</td>\n",
       "      <td>0</td>\n",
       "      <td>0</td>\n",
       "      <td>0</td>\n",
       "      <td>0</td>\n",
       "      <td>0</td>\n",
       "      <td>0</td>\n",
       "    </tr>\n",
       "    <tr>\n",
       "      <th>198.0</th>\n",
       "      <td>0</td>\n",
       "      <td>0</td>\n",
       "      <td>0</td>\n",
       "      <td>0</td>\n",
       "      <td>0</td>\n",
       "      <td>0</td>\n",
       "      <td>0</td>\n",
       "      <td>0</td>\n",
       "      <td>0</td>\n",
       "      <td>0</td>\n",
       "      <td>...</td>\n",
       "      <td>0</td>\n",
       "      <td>0</td>\n",
       "      <td>0</td>\n",
       "      <td>0</td>\n",
       "      <td>0</td>\n",
       "      <td>0</td>\n",
       "      <td>0</td>\n",
       "      <td>0</td>\n",
       "      <td>0</td>\n",
       "      <td>0</td>\n",
       "    </tr>\n",
       "    <tr>\n",
       "      <th>218.0</th>\n",
       "      <td>0</td>\n",
       "      <td>0</td>\n",
       "      <td>0</td>\n",
       "      <td>2</td>\n",
       "      <td>0</td>\n",
       "      <td>0</td>\n",
       "      <td>0</td>\n",
       "      <td>0</td>\n",
       "      <td>0</td>\n",
       "      <td>0</td>\n",
       "      <td>...</td>\n",
       "      <td>0</td>\n",
       "      <td>0</td>\n",
       "      <td>0</td>\n",
       "      <td>0</td>\n",
       "      <td>0</td>\n",
       "      <td>0</td>\n",
       "      <td>0</td>\n",
       "      <td>0</td>\n",
       "      <td>0</td>\n",
       "      <td>0</td>\n",
       "    </tr>\n",
       "    <tr>\n",
       "      <th>238.0</th>\n",
       "      <td>0</td>\n",
       "      <td>0</td>\n",
       "      <td>0</td>\n",
       "      <td>0</td>\n",
       "      <td>0</td>\n",
       "      <td>0</td>\n",
       "      <td>0</td>\n",
       "      <td>0</td>\n",
       "      <td>0</td>\n",
       "      <td>0</td>\n",
       "      <td>...</td>\n",
       "      <td>0</td>\n",
       "      <td>0</td>\n",
       "      <td>0</td>\n",
       "      <td>0</td>\n",
       "      <td>0</td>\n",
       "      <td>0</td>\n",
       "      <td>0</td>\n",
       "      <td>0</td>\n",
       "      <td>0</td>\n",
       "      <td>0</td>\n",
       "    </tr>\n",
       "    <tr>\n",
       "      <th>...</th>\n",
       "      <td>...</td>\n",
       "      <td>...</td>\n",
       "      <td>...</td>\n",
       "      <td>...</td>\n",
       "      <td>...</td>\n",
       "      <td>...</td>\n",
       "      <td>...</td>\n",
       "      <td>...</td>\n",
       "      <td>...</td>\n",
       "      <td>...</td>\n",
       "      <td>...</td>\n",
       "      <td>...</td>\n",
       "      <td>...</td>\n",
       "      <td>...</td>\n",
       "      <td>...</td>\n",
       "      <td>...</td>\n",
       "      <td>...</td>\n",
       "      <td>...</td>\n",
       "      <td>...</td>\n",
       "      <td>...</td>\n",
       "      <td>...</td>\n",
       "    </tr>\n",
       "    <tr>\n",
       "      <th>99981.0</th>\n",
       "      <td>0</td>\n",
       "      <td>0</td>\n",
       "      <td>0</td>\n",
       "      <td>0</td>\n",
       "      <td>0</td>\n",
       "      <td>0</td>\n",
       "      <td>0</td>\n",
       "      <td>0</td>\n",
       "      <td>0</td>\n",
       "      <td>0</td>\n",
       "      <td>...</td>\n",
       "      <td>0</td>\n",
       "      <td>0</td>\n",
       "      <td>0</td>\n",
       "      <td>0</td>\n",
       "      <td>0</td>\n",
       "      <td>0</td>\n",
       "      <td>0</td>\n",
       "      <td>0</td>\n",
       "      <td>0</td>\n",
       "      <td>0</td>\n",
       "    </tr>\n",
       "    <tr>\n",
       "      <th>99983.0</th>\n",
       "      <td>0</td>\n",
       "      <td>0</td>\n",
       "      <td>0</td>\n",
       "      <td>0</td>\n",
       "      <td>0</td>\n",
       "      <td>0</td>\n",
       "      <td>0</td>\n",
       "      <td>0</td>\n",
       "      <td>0</td>\n",
       "      <td>0</td>\n",
       "      <td>...</td>\n",
       "      <td>0</td>\n",
       "      <td>0</td>\n",
       "      <td>0</td>\n",
       "      <td>0</td>\n",
       "      <td>0</td>\n",
       "      <td>0</td>\n",
       "      <td>0</td>\n",
       "      <td>0</td>\n",
       "      <td>0</td>\n",
       "      <td>0</td>\n",
       "    </tr>\n",
       "    <tr>\n",
       "      <th>99984.0</th>\n",
       "      <td>0</td>\n",
       "      <td>0</td>\n",
       "      <td>0</td>\n",
       "      <td>0</td>\n",
       "      <td>0</td>\n",
       "      <td>0</td>\n",
       "      <td>0</td>\n",
       "      <td>0</td>\n",
       "      <td>0</td>\n",
       "      <td>0</td>\n",
       "      <td>...</td>\n",
       "      <td>0</td>\n",
       "      <td>0</td>\n",
       "      <td>0</td>\n",
       "      <td>0</td>\n",
       "      <td>0</td>\n",
       "      <td>0</td>\n",
       "      <td>0</td>\n",
       "      <td>0</td>\n",
       "      <td>0</td>\n",
       "      <td>0</td>\n",
       "    </tr>\n",
       "    <tr>\n",
       "      <th>99988.0</th>\n",
       "      <td>0</td>\n",
       "      <td>0</td>\n",
       "      <td>0</td>\n",
       "      <td>0</td>\n",
       "      <td>0</td>\n",
       "      <td>0</td>\n",
       "      <td>0</td>\n",
       "      <td>0</td>\n",
       "      <td>0</td>\n",
       "      <td>0</td>\n",
       "      <td>...</td>\n",
       "      <td>0</td>\n",
       "      <td>0</td>\n",
       "      <td>0</td>\n",
       "      <td>0</td>\n",
       "      <td>0</td>\n",
       "      <td>0</td>\n",
       "      <td>0</td>\n",
       "      <td>0</td>\n",
       "      <td>0</td>\n",
       "      <td>0</td>\n",
       "    </tr>\n",
       "    <tr>\n",
       "      <th>100009.0</th>\n",
       "      <td>0</td>\n",
       "      <td>0</td>\n",
       "      <td>0</td>\n",
       "      <td>0</td>\n",
       "      <td>0</td>\n",
       "      <td>0</td>\n",
       "      <td>0</td>\n",
       "      <td>0</td>\n",
       "      <td>0</td>\n",
       "      <td>0</td>\n",
       "      <td>...</td>\n",
       "      <td>0</td>\n",
       "      <td>0</td>\n",
       "      <td>0</td>\n",
       "      <td>0</td>\n",
       "      <td>0</td>\n",
       "      <td>0</td>\n",
       "      <td>0</td>\n",
       "      <td>0</td>\n",
       "      <td>0</td>\n",
       "      <td>0</td>\n",
       "    </tr>\n",
       "  </tbody>\n",
       "</table>\n",
       "<p>4231 rows × 100 columns</p>\n",
       "</div>"
      ],
      "text/plain": [
       "ShowId    1    2    3    4    5    6    7    8    9    10   ...  91   92   \\\n",
       "ClientId                                                    ...             \n",
       "1.0         0    0    0    0    0    0    0    0    0    0  ...    0    0   \n",
       "190.0       0    0    0    0    0    0    0    0    0    0  ...    0    0   \n",
       "198.0       0    0    0    0    0    0    0    0    0    0  ...    0    0   \n",
       "218.0       0    0    0    2    0    0    0    0    0    0  ...    0    0   \n",
       "238.0       0    0    0    0    0    0    0    0    0    0  ...    0    0   \n",
       "...       ...  ...  ...  ...  ...  ...  ...  ...  ...  ...  ...  ...  ...   \n",
       "99981.0     0    0    0    0    0    0    0    0    0    0  ...    0    0   \n",
       "99983.0     0    0    0    0    0    0    0    0    0    0  ...    0    0   \n",
       "99984.0     0    0    0    0    0    0    0    0    0    0  ...    0    0   \n",
       "99988.0     0    0    0    0    0    0    0    0    0    0  ...    0    0   \n",
       "100009.0    0    0    0    0    0    0    0    0    0    0  ...    0    0   \n",
       "\n",
       "ShowId    93   94   95   96   97   98   99   100  \n",
       "ClientId                                          \n",
       "1.0         0    0    0    0    0    0    0    0  \n",
       "190.0       0    0    0    0    0    0    0    0  \n",
       "198.0       0    0    0    0    0    0    0    0  \n",
       "218.0       0    0    0    0    0    0    0    0  \n",
       "238.0       0    0    0    0    0    0    0    0  \n",
       "...       ...  ...  ...  ...  ...  ...  ...  ...  \n",
       "99981.0     0    0    0    0    0    0    0    0  \n",
       "99983.0     0    0    0    0    0    0    0    0  \n",
       "99984.0     0    0    0    0    0    0    0    0  \n",
       "99988.0     0    0    0    0    0    0    0    0  \n",
       "100009.0    0    0    0    0    0    0    0    0  \n",
       "\n",
       "[4231 rows x 100 columns]"
      ]
     },
     "execution_count": 60,
     "metadata": {},
     "output_type": "execute_result"
    }
   ],
   "source": [
    "# Построим бинарную матрицу: строки — пользователи, колонки — концерты\n",
    "user_item_matrix = pd.crosstab(GoodOperetions['ClientId'], GoodOperetions['ShowId'])\n",
    "user_item_matrix\n",
    "\n",
    "# # Сохраняем результат (опционально)\n",
    "# user_item_matrix.to_csv(\"user_item_matrix.csv\")"
   ]
  },
  {
   "cell_type": "markdown",
   "id": "37608e91",
   "metadata": {},
   "source": [
    "##  Item-based рекомендации на основе co-visitation.\n",
    "\n",
    "Для каждого концерта (ShowId) определим, какие другие концерты чаще всего посещались теми же пользователями.\n",
    "\n",
    "*Например:*\n",
    "если 100 человек были на концерте 35, и 50 из них также были на концерте 17,\n",
    "→ значит 17 — хороший кандидат в рекомендацию к 35."
   ]
  },
  {
   "cell_type": "markdown",
   "id": "21a7363b",
   "metadata": {},
   "source": [
    "Сейчас построим:\n",
    "\n",
    "* Матрицу соприсутствия (co-visitation): concert_i × concert_j\n",
    "\n",
    "* Для каждого концерта — топ-N связанных концертов"
   ]
  },
  {
   "cell_type": "code",
   "execution_count": 64,
   "id": "8d4b9ac5",
   "metadata": {},
   "outputs": [
    {
     "name": "stdout",
     "output_type": "stream",
     "text": [
      "🎵 Концерт 1 → рекомендовать: [71, 30, 38, 2, 7]\n",
      "🎵 Концерт 2 → рекомендовать: [8, 14, 1, 50, 30]\n",
      "🎵 Концерт 3 → рекомендовать: [71, 100, 70, 79, 72]\n",
      "🎵 Концерт 4 → рекомендовать: [68, 49, 16, 2, 60]\n",
      "🎵 Концерт 5 → рекомендовать: [69, 100, 29, 54, 17]\n"
     ]
    }
   ],
   "source": [
    "from sklearn.metrics.pairwise import cosine_similarity\n",
    "\n",
    "# === Косинусное сходство между концертами ===\n",
    "# Столбцы — концерты, строки — пользователи\n",
    "item_item_sim = cosine_similarity(user_item_matrix.T)\n",
    "\n",
    "# Оформим в DataFrame\n",
    "concert_ids = user_item_matrix.columns\n",
    "item_sim_df = pd.DataFrame(item_item_sim, index=concert_ids, columns=concert_ids)\n",
    "\n",
    "# === Построим top-N рекомендации для каждого концерта ===\n",
    "top_n = 5  # можно изменить\n",
    "recommendations = {\n",
    "    concert: item_sim_df[concert]\n",
    "        .drop(concert)  # исключаем сам концерт\n",
    "        .sort_values(ascending=False)\n",
    "        .head(top_n)\n",
    "        .index.tolist()\n",
    "    for concert in concert_ids\n",
    "}\n",
    "\n",
    "# === Пример вывода: рекомендации для первых 5 концертов ===\n",
    "for concert in list(recommendations.keys())[:5]:\n",
    "    print(f\"🎵 Концерт {concert} → рекомендовать: {recommendations[concert]}\")\n"
   ]
  },
  {
   "cell_type": "code",
   "execution_count": 83,
   "id": "4311b183",
   "metadata": {},
   "outputs": [],
   "source": [
    "# Пусть у пользователя есть список уже купленных концертов:\n",
    "user_concerts = [1, 14, 30]  \n",
    "\n",
    "min_concerts = 5  # не показывать маршруты короче 5 концертов"
   ]
  },
  {
   "cell_type": "markdown",
   "id": "e73237c0",
   "metadata": {},
   "source": [
    "Что дальше:\n",
    "\n",
    "* Объединяем все рекомендации к этим концертам → получаем множество рекомендованных концертов.\n",
    "\n",
    "* Фильтруем маршруты, которые содержат все концерты из user_concerts.\n",
    "\n",
    "* Считаем, сколько из рекомендованных ещё попадает в маршрут.\n",
    "\n",
    "* Сортируем по:\n",
    "\n",
    "    * MatchCount (совпадения с рекомендованными)\n",
    "\n",
    "    * IntellectScore\n",
    "\n",
    "    * ComfortScore"
   ]
  },
  {
   "cell_type": "code",
   "execution_count": 84,
   "id": "5f8d216b",
   "metadata": {},
   "outputs": [
    {
     "name": "stderr",
     "output_type": "stream",
     "text": [
      "/var/folders/ph/7m0lcx1d1_q_2b1f5fzxch7m0000gn/T/ipykernel_82224/129765656.py:5: DtypeWarning: Columns (40) have mixed types. Specify dtype option on import or set low_memory=False.\n",
      "  df_routes = pd.read_csv(routes_path)\n"
     ]
    },
    {
     "name": "stdout",
     "output_type": "stream",
     "text": [
      "Имеющиеся концерты пользователя: [1, 14, 30]\n",
      "\n",
      "                           Sostav  MatchCount  IntellectScore  ComfortScore  \\\n",
      "23625      [1, 7, 14, 20, 26, 30]           1            62.8          40.5   \n",
      "23628      [1, 7, 14, 20, 28, 30]           1            61.4          43.3   \n",
      "23627      [1, 7, 14, 20, 27, 30]           1            61.1          60.1   \n",
      "34480  [1, 7, 14, 20, 24, 28, 30]           1            60.7          44.0   \n",
      "34479  [1, 7, 14, 20, 23, 28, 30]           1            60.4          33.3   \n",
      "23618      [1, 7, 14, 20, 23, 30]           1            59.3          16.7   \n",
      "10303          [1, 7, 14, 20, 30]           1            59.2          46.0   \n",
      "23621      [1, 7, 14, 20, 24, 30]           1            58.8          58.2   \n",
      "23623      [1, 7, 14, 20, 25, 30]           1            58.7          60.1   \n",
      "23596      [1, 7, 14, 18, 27, 30]           1            55.3          48.4   \n",
      "\n",
      "          IntellectScoreLabel        ComfortScoreLabel  \n",
      "23625  🧠 Насыщенный (Top 10%)      ⚖️ Базовый (30–60%)  \n",
      "23628  🧠 Насыщенный (Top 10%)      ⚖️ Базовый (30–60%)  \n",
      "23627  🧠 Насыщенный (Top 10%)    🎯 Интересный (60–90%)  \n",
      "34480   🎯 Интересный (60–90%)      ⚖️ Базовый (30–60%)  \n",
      "34479   🎯 Интересный (60–90%)  💤 Поверхностный (0–30%)  \n",
      "23618   🎯 Интересный (60–90%)  💤 Поверхностный (0–30%)  \n",
      "10303   🎯 Интересный (60–90%)      ⚖️ Базовый (30–60%)  \n",
      "23621   🎯 Интересный (60–90%)    🎯 Интересный (60–90%)  \n",
      "23623   🎯 Интересный (60–90%)    🎯 Интересный (60–90%)  \n",
      "23596   🎯 Интересный (60–90%)      ⚖️ Базовый (30–60%)  \n"
     ]
    }
   ],
   "source": [
    "import ast\n",
    "\n",
    "# === Загрузка маршрутов ===\n",
    "routes_path = \"RouteRange_with_GMM.csv\"  # путь к CSV с маршрутами\n",
    "df_routes = pd.read_csv(routes_path)\n",
    "\n",
    "# Преобразуем колонку Sostav (она хранится как строка, содержащая список)\n",
    "df_routes[\"Sostav\"] = df_routes[\"Sostav\"].apply(ast.literal_eval)\n",
    "\n",
    "# === Пример: подбираем маршруты по концертам, рекомендованным к концерту X ===\n",
    "concert_of_interest = 1  # допустим, пользователь посетил концерт 1\n",
    "\n",
    "recommended_concerts = recommendations[concert_of_interest]\n",
    "\n",
    "# Объединяем все рекомендованные концерты\n",
    "# === Подготовка множеств ===\n",
    "recommended_concerts = set()\n",
    "for cid in user_concerts:\n",
    "    recommended_concerts.update(recommendations.get(cid, []))\n",
    "recommended_concerts -= set(user_concerts)\n",
    "\n",
    "# === Вспомогательные функции ===\n",
    "def contains_all(route_sostav, required_ids):\n",
    "    return set(required_ids).issubset(route_sostav)\n",
    "\n",
    "def count_overlap(route_sostav, candidates):\n",
    "    return len(set(route_sostav) & set(candidates))\n",
    "\n",
    "# === Обработка маршрутов ===\n",
    "df_routes = df_routes.copy()\n",
    "df_routes[\"ContainsAllUserConcerts\"] = df_routes[\"Sostav\"].apply(lambda s: contains_all(s, user_concerts))\n",
    "df_routes[\"MatchCount\"] = df_routes[\"Sostav\"].apply(lambda s: count_overlap(s, recommended_concerts))\n",
    "\n",
    "# Фильтрация по наличию всех купленных концертов и минимальной длине\n",
    "matched_routes = df_routes[\n",
    "    (df_routes[\"ContainsAllUserConcerts\"]) &\n",
    "    (df_routes[\"Concerts\"] >= min_concerts)\n",
    "].copy()\n",
    "\n",
    "# Заполнение NaN и сортировка\n",
    "matched_routes[\"IntellectScore\"] = matched_routes[\"IntellectScore\"].fillna(0)\n",
    "matched_routes[\"ComfortScore\"] = matched_routes[\"ComfortScore\"].fillna(0)\n",
    "\n",
    "matched_routes = matched_routes.sort_values(\n",
    "    by=[\"MatchCount\", \"IntellectScore\", \"ComfortScore\"],\n",
    "    ascending=[False, False, False]\n",
    ")\n",
    "\n",
    "# Вывод топ-N маршрутов\n",
    "top_n = 10\n",
    "print(f'Имеющиеся концерты пользователя: {user_concerts}\\n')\n",
    "print(matched_routes[[\"Sostav\", \"MatchCount\", \"IntellectScore\", \"ComfortScore\", \"IntellectScoreLabel\", \"ComfortScoreLabel\"]].head(top_n))"
   ]
  },
  {
   "cell_type": "code",
   "execution_count": 85,
   "id": "0e1bc901",
   "metadata": {},
   "outputs": [
    {
     "data": {
      "image/png": "[encoded data removed]",
      "text/plain": [
       "<Figure size 1000x600 with 2 Axes>"
      ]
     },
     "metadata": {},
     "output_type": "display_data"
    }
   ],
   "source": [
    "import matplotlib.pyplot as plt\n",
    "\n",
    "# === Параметры ===\n",
    "top_n = 20  # сколько маршрутов отобразить\n",
    "\n",
    "# Выбираем топ-N маршрутов после фильтрации и сортировки\n",
    "viz_df = matched_routes.head(top_n).copy()\n",
    "\n",
    "# Строим scatter plot\n",
    "plt.figure(figsize=(10, 6))\n",
    "scatter = plt.scatter(\n",
    "    viz_df[\"IntellectScore\"],\n",
    "    viz_df[\"ComfortScore\"],\n",
    "    c=viz_df[\"MatchCount\"],\n",
    "    s=viz_df[\"Concerts\"] * 30,  # масштабируем размер по числу концертов\n",
    "    cmap=\"viridis\",\n",
    "    alpha=0.7,\n",
    "    edgecolors=\"k\"\n",
    ")\n",
    "\n",
    "# Подписи точек — первые 3 концерта маршрута\n",
    "for idx, row in viz_df.iterrows():\n",
    "    label = ','.join(map(str, row[\"Sostav\"][:3])) + ('...' if len(row[\"Sostav\"]) > 3 else '')\n",
    "    plt.text(\n",
    "        row[\"IntellectScore\"] + 0.2, \n",
    "        row[\"ComfortScore\"] + 0.2, \n",
    "        label, \n",
    "        fontsize=8\n",
    "    )\n",
    "\n",
    "plt.colorbar(scatter, label=\"MatchCount (рекомендованные концерты в маршруте)\")\n",
    "plt.xlabel(\"IntellectScore\")\n",
    "plt.ylabel(\"ComfortScore\")\n",
    "plt.title(\"Визуализация маршрутов: интеллект vs комфорт\")\n",
    "plt.grid(True)\n",
    "plt.tight_layout()\n",
    "plt.show()\n"
   ]
  },
  {
   "cell_type": "markdown",
   "id": "daa2b5db",
   "metadata": {},
   "source": [
    "Попытаемся не только визуализировать предложенные маршруты, но и дадим какие то нравственные ориентирвы в этой схеие.\n",
    "Добавим диагональ (или смещённую диагональ), отражающую баланс между IntellectScore и ComfortScore.\n",
    "\n",
    "Грандиозная идея:\n",
    "* Всё, что выше линии — более интеллектуально и комфортно.\n",
    "\n",
    "* Всё, что ниже линии — уступает по суммарной \"ценности\"."
   ]
  },
  {
   "cell_type": "code",
   "execution_count": 103,
   "id": "f32938ff",
   "metadata": {},
   "outputs": [
    {
     "name": "stderr",
     "output_type": "stream",
     "text": [
      "/var/folders/ph/7m0lcx1d1_q_2b1f5fzxch7m0000gn/T/ipykernel_82224/2298395606.py:45: UserWarning: Glyph 127925 (\\N{MUSICAL NOTE}) missing from current font.\n",
      "  plt.tight_layout()\n",
      "/Users/georgijmamarin/Library/Python/3.10/lib/python/site-packages/IPython/core/pylabtools.py:152: UserWarning: Glyph 127925 (\\N{MUSICAL NOTE}) missing from current font.\n",
      "  fig.canvas.print_figure(bytes_io, **kw)\n"
     ]
    },
    {
     "data": {
      "image/png": "[encoded data removed]",
      "text/plain": [
       "<Figure size 1000x600 with 2 Axes>"
      ]
     },
     "metadata": {},
     "output_type": "display_data"
    }
   ],
   "source": [
    "import matplotlib.pyplot as plt\n",
    "\n",
    "# Топ-N маршрутов по MatchCount + интеллект + комфорт (без агрегирования)\n",
    "top_n = 20\n",
    "viz_df = matched_routes.sort_values(\n",
    "    by=[\"MatchCount\", \"IntellectScore\", \"ComfortScore\"], \n",
    "    ascending=[False, False, False]\n",
    ").head(top_n).copy()\n",
    "\n",
    "# Построение scatter plot\n",
    "plt.figure(figsize=(10, 6))\n",
    "scatter = plt.scatter(\n",
    "    viz_df[\"IntellectScore\"],\n",
    "    viz_df[\"ComfortScore\"],\n",
    "    c=viz_df[\"MatchCount\"],\n",
    "    s=viz_df[\"Concerts\"] * 30,\n",
    "    cmap=\"viridis\",\n",
    "    alpha=0.8,\n",
    "    edgecolors=\"k\"\n",
    ")\n",
    "\n",
    "# Подписи: первые 3 концерта\n",
    "for idx, row in viz_df.iterrows():\n",
    "    label = ','.join(map(str, row[\"Sostav\"][:3])) + ('...' if len(row[\"Sostav\"]) > 3 else '')\n",
    "    plt.text(\n",
    "        row[\"IntellectScore\"] + 0.2,\n",
    "        row[\"ComfortScore\"] + 0.2,\n",
    "        label,\n",
    "        fontsize=8\n",
    "    )\n",
    "\n",
    "# Диагональная линия-ориентир\n",
    "x_vals = plt.xlim()\n",
    "y_vals = plt.ylim()\n",
    "min_val = min(x_vals[0], y_vals[0])\n",
    "max_val = max(x_vals[1], y_vals[1])\n",
    "plt.plot([min_val, max_val], [min_val, max_val], '--', color='gray', label=\"Интеллект = Комфорт\")\n",
    "\n",
    "plt.colorbar(scatter, label=\"MatchCount (совпадения с рекомендациями)\")\n",
    "plt.xlabel(\"IntellectScore\")\n",
    "plt.ylabel(\"ComfortScore\")\n",
    "plt.title(\"🎵 Рассеяние маршрутов: интеллект vs комфорт\")\n",
    "plt.legend()\n",
    "plt.grid(True)\n",
    "plt.tight_layout()\n",
    "plt.show()\n"
   ]
  },
  {
   "cell_type": "code",
   "execution_count": 108,
   "id": "c0bd5d81",
   "metadata": {},
   "outputs": [
    {
     "name": "stderr",
     "output_type": "stream",
     "text": [
      "/var/folders/ph/7m0lcx1d1_q_2b1f5fzxch7m0000gn/T/ipykernel_82224/1345048047.py:51: UserWarning: Glyph 127925 (\\N{MUSICAL NOTE}) missing from current font.\n",
      "  plt.tight_layout()\n",
      "/Users/georgijmamarin/Library/Python/3.10/lib/python/site-packages/IPython/core/pylabtools.py:152: UserWarning: Glyph 127925 (\\N{MUSICAL NOTE}) missing from current font.\n",
      "  fig.canvas.print_figure(bytes_io, **kw)\n"
     ]
    },
    {
     "data": {
      "image/png": "[encoded data removed]",
      "text/plain": [
       "<Figure size 1000x600 with 2 Axes>"
      ]
     },
     "metadata": {},
     "output_type": "display_data"
    }
   ],
   "source": [
    "import matplotlib.pyplot as plt\n",
    "\n",
    " # Топ-N маршрутов по MatchCount + интеллект + комфорт (без агрегирования)\n",
    "top_n = 20\n",
    "viz_df = matched_routes.sort_values(\n",
    "    by=[\"MatchCount\", \"IntellectScore\", \"ComfortScore\"], \n",
    "    ascending=[False, False, False]\n",
    ").head(top_n).copy()\n",
    "\n",
    "# Построение scatter plot\n",
    "plt.figure(figsize=(10, 6))\n",
    "scatter = plt.scatter(\n",
    "    viz_df[\"IntellectScore\"],\n",
    "    viz_df[\"ComfortScore\"],\n",
    "    c=viz_df[\"MatchCount\"],\n",
    "    s=viz_df[\"Concerts\"] * 30,\n",
    "    cmap=\"viridis\",\n",
    "    alpha=0.8,\n",
    "    edgecolors=\"k\"\n",
    ")\n",
    "\n",
    "# Подписи: первые 3 концерта в маршруте\n",
    "for idx, row in viz_df.iterrows():\n",
    "    label = ','.join(map(str, row[\"Sostav\"][:3])) + ('...' if len(row[\"Sostav\"]) > 3 else '')\n",
    "    plt.text(\n",
    "        row[\"IntellectScore\"] + 0.2,\n",
    "        row[\"ComfortScore\"] + 0.2,\n",
    "        label,\n",
    "        fontsize=8\n",
    "    )\n",
    "\n",
    "# Диагональная линия: Интеллект = Комфорт\n",
    "x_min, x_max = plt.xlim()\n",
    "zone_x = [x_min, x_max]\n",
    "\n",
    "# Зона сбалансированных маршрутов: ±5 от диагонали\n",
    "zone_y_lower = [x - 5 for x in zone_x]\n",
    "zone_y_upper = [x + 5 for x in zone_x]\n",
    "plt.fill_between(zone_x, zone_y_lower, zone_y_upper, color='gray', alpha=0.2, label=\"Сбалансированная зона\")\n",
    "\n",
    "# Линия-ориентир\n",
    "plt.plot(zone_x, zone_x, '--', color='gray')\n",
    "\n",
    "# Оформление\n",
    "plt.colorbar(scatter, label=\"MatchCount (совпадения с рекомендациями)\")\n",
    "plt.xlabel(\"IntellectScore\")\n",
    "plt.ylabel(\"ComfortScore\")\n",
    "plt.title(\"🎵 Рассеяние маршрутов: интеллект vs комфорт с зоной баланса\")\n",
    "plt.legend()\n",
    "plt.grid(True)\n",
    "plt.tight_layout()\n",
    "plt.show()\n"
   ]
  },
  {
   "cell_type": "code",
   "execution_count": 106,
   "id": "0e829ba7",
   "metadata": {},
   "outputs": [
    {
     "name": "stderr",
     "output_type": "stream",
     "text": [
      "/var/folders/ph/7m0lcx1d1_q_2b1f5fzxch7m0000gn/T/ipykernel_82224/1044935022.py:43: UserWarning: Glyph 127925 (\\N{MUSICAL NOTE}) missing from current font.\n",
      "  plt.tight_layout()\n",
      "/Users/georgijmamarin/Library/Python/3.10/lib/python/site-packages/IPython/core/pylabtools.py:152: UserWarning: Glyph 127925 (\\N{MUSICAL NOTE}) missing from current font.\n",
      "  fig.canvas.print_figure(bytes_io, **kw)\n"
     ]
    },
    {
     "data": {
      "image/png": "[encoded data removed]",
      "text/plain": [
       "<Figure size 1000x600 with 2 Axes>"
      ]
     },
     "metadata": {},
     "output_type": "display_data"
    }
   ],
   "source": [
    "# Сначала отрисовка scatter\n",
    "plt.figure(figsize=(10, 6))\n",
    "scatter = plt.scatter(\n",
    "    viz_df[\"IntellectScore\"],\n",
    "    viz_df[\"ComfortScore\"],\n",
    "    c=viz_df[\"MatchCount\"],\n",
    "    s=viz_df[\"Concerts\"] * 30,\n",
    "    cmap=\"viridis\",\n",
    "    alpha=0.8,\n",
    "    edgecolors=\"k\"\n",
    ")\n",
    "\n",
    "# Подписи точек\n",
    "for idx, row in viz_df.iterrows():\n",
    "    label = ','.join(map(str, row[\"Sostav\"][:3])) + ('...' if len(row[\"Sostav\"]) > 3 else '')\n",
    "    plt.text(\n",
    "        row[\"IntellectScore\"] + 0.2,\n",
    "        row[\"ComfortScore\"] + 0.2,\n",
    "        label,\n",
    "        fontsize=8\n",
    "    )\n",
    "\n",
    "# После scatter() — зафиксировать границы\n",
    "x_min, x_max = plt.xlim()\n",
    "y_min, y_max = plt.ylim()\n",
    "zone_x = [x_min, x_max]\n",
    "\n",
    "# Зона ±5\n",
    "zone_y_lower = [x - 5 for x in zone_x]\n",
    "zone_y_upper = [x + 5 for x in zone_x]\n",
    "plt.fill_between(zone_x, zone_y_lower, zone_y_upper, color='gray', alpha=0.2, label=\"Сбалансированная зона\")\n",
    "\n",
    "# Диагональная линия\n",
    "plt.plot(zone_x, zone_x, '--', color='gray')\n",
    "\n",
    "# Остальное оформление\n",
    "plt.colorbar(scatter, label=\"MatchCount (совпадения с рекомендациями)\")\n",
    "plt.xlabel(\"IntellectScore\")\n",
    "plt.ylabel(\"ComfortScore\")\n",
    "plt.title(\"🎵 Рассеяние маршрутов: интеллект vs комфорт с зоной баланса\")\n",
    "plt.legend()\n",
    "plt.grid(True)\n",
    "plt.tight_layout()\n",
    "plt.show()\n"
   ]
  },
  {
   "cell_type": "code",
   "execution_count": 91,
   "id": "a457848f",
   "metadata": {},
   "outputs": [
    {
     "name": "stderr",
     "output_type": "stream",
     "text": [
      "/var/folders/ph/7m0lcx1d1_q_2b1f5fzxch7m0000gn/T/ipykernel_82224/4100926047.py:44: UserWarning: Glyph 127925 (\\N{MUSICAL NOTE}) missing from current font.\n",
      "  plt.tight_layout()\n",
      "/Users/georgijmamarin/Library/Python/3.10/lib/python/site-packages/IPython/core/pylabtools.py:152: UserWarning: Glyph 127925 (\\N{MUSICAL NOTE}) missing from current font.\n",
      "  fig.canvas.print_figure(bytes_io, **kw)\n"
     ]
    },
    {
     "data": {
      "image/png": "[encoded data removed]",
      "text/plain": [
       "<Figure size 1000x600 with 2 Axes>"
      ]
     },
     "metadata": {},
     "output_type": "display_data"
    }
   ],
   "source": [
    "# это была шальная модель, где я попробоваал ввести еще один интегральный показатель на основе других показателей, получить какие то очки и назвать это лучшим\n",
    "# === Весовые коэффициенты ===\n",
    "w1, w2, w3 = 10, 1.0, 0.5\n",
    "\n",
    "# === Добавим RouteScore\n",
    "matched_routes[\"RouteScore\"] = (\n",
    "    w1 * matched_routes[\"MatchCount\"] +\n",
    "    w2 * matched_routes[\"IntellectScore\"] +\n",
    "    w3 * matched_routes[\"ComfortScore\"]\n",
    ")\n",
    "\n",
    "# === Визуализация лучших маршрутов по RouteScore\n",
    "top_n = 20\n",
    "viz_df = matched_routes.sort_values(by=\"RouteScore\", ascending=False).head(top_n).copy()\n",
    "\n",
    "import matplotlib.pyplot as plt\n",
    "\n",
    "plt.figure(figsize=(10, 6))\n",
    "scatter = plt.scatter(\n",
    "    viz_df[\"IntellectScore\"],\n",
    "    viz_df[\"ComfortScore\"],\n",
    "    c=viz_df[\"RouteScore\"],\n",
    "    s=viz_df[\"Concerts\"] * 30,\n",
    "    cmap=\"plasma\",\n",
    "    alpha=0.8,\n",
    "    edgecolors=\"k\"\n",
    ")\n",
    "\n",
    "# Подписи: RouteScore и короткий состав\n",
    "for idx, row in viz_df.iterrows():\n",
    "    label = f\"{row['RouteScore']:.1f}\"\n",
    "    plt.text(\n",
    "        row[\"IntellectScore\"] + 0.2,\n",
    "        row[\"ComfortScore\"] + 0.2,\n",
    "        label,\n",
    "        fontsize=8\n",
    "    )\n",
    "\n",
    "plt.colorbar(scatter, label=\"RouteScore (сводная оценка)\")\n",
    "plt.xlabel(\"IntellectScore\")\n",
    "plt.ylabel(\"ComfortScore\")\n",
    "plt.title(\"🎵 Сводная оценка маршрутов (RouteScore)\")\n",
    "plt.grid(True)\n",
    "plt.tight_layout()\n",
    "plt.show()\n"
   ]
  },
  {
   "cell_type": "markdown",
   "id": "408f0105",
   "metadata": {},
   "source": [
    "## Альтернативные маршруты"
   ]
  },
  {
   "cell_type": "markdown",
   "id": "c8a1d10c",
   "metadata": {},
   "source": [
    "В предыдущем случае мы смотрели на рекомендации исходя из того, что пользователь уже жестко имеет сколько то концертов и хочет докупить еще сколько то, чтобы его маршрут был лучше.\n",
    "\n",
    "Сейчас мы попытаемся решить задачу с другой стороны: пользователь выбрал какой то маршрут, который ему чем-то нравится. И мы хотим ему предложить не жесткое сравнение, где будут еще какие то маршруты может чуть с иными параметрами, но в целом близкие по характеристикам."
   ]
  },
  {
   "cell_type": "markdown",
   "id": "6f8f7274",
   "metadata": {},
   "source": [
    "**Цель:**\n",
    "Пользователь уже выбрал целый маршрут, но хочет посмотреть похожие маршруты — например:\n",
    "\n",
    "* чуть короче,\n",
    "\n",
    "* с другими исполнителями,\n",
    "\n",
    "* более сбалансированный по залам,\n",
    "\n",
    "* или с чуть меньшими затратами.\n",
    "\n",
    "**Механика:**\n",
    "\n",
    "* Не требуем полного включения концертов\n",
    "\n",
    "* Ищем маршруты с перекрытием концертов\n",
    "\n",
    "* Сравниваем по схожести состава, но допускаем разницу\n",
    "\n",
    "* Добавляем метрики расстояния/разности (например, по числу концертов, баллам, времени переходов и т.п.)\n",
    "\n",
    "**Аналогия:**\n",
    "\n",
    "«Вот мой маршрут. Есть что-то похожее, но может получше?»"
   ]
  },
  {
   "cell_type": "code",
   "execution_count": 129,
   "id": "d03e3c34",
   "metadata": {},
   "outputs": [],
   "source": [
    "# === Исходный маршрут пользователя ===\n",
    "reference_route = [1, 14, 30]"
   ]
  },
  {
   "cell_type": "code",
   "execution_count": 130,
   "id": "c239de82",
   "metadata": {},
   "outputs": [
    {
     "name": "stderr",
     "output_type": "stream",
     "text": [
      "/var/folders/ph/7m0lcx1d1_q_2b1f5fzxch7m0000gn/T/ipykernel_82224/2320736864.py:8: DtypeWarning: Columns (40) have mixed types. Specify dtype option on import or set low_memory=False.\n",
      "  df_routes = pd.read_csv(routes_path)\n"
     ]
    },
    {
     "name": "stdout",
     "output_type": "stream",
     "text": [
      "               Sostav  Concerts  JaccardSimilarity  IntellectScore  \\\n",
      "3352  [1, 14, 20, 30]         4               0.75            59.8   \n",
      "3335  [1, 14, 18, 30]         4               0.75            51.1   \n",
      "3377  [1, 14, 27, 30]         4               0.75            50.1   \n",
      "3375  [1, 14, 26, 30]         4               0.75            49.9   \n",
      "3360  [1, 14, 21, 30]         4               0.75            47.7   \n",
      "3378  [1, 14, 28, 30]         4               0.75            46.1   \n",
      "3371  [1, 14, 24, 30]         4               0.75            46.0   \n",
      "2674   [1, 7, 14, 30]         4               0.75            45.7   \n",
      "2787   [1, 8, 14, 30]         4               0.75            45.7   \n",
      "3373  [1, 14, 25, 30]         4               0.75            45.7   \n",
      "\n",
      "      ComfortScore  \n",
      "3352          25.3  \n",
      "3335          48.0  \n",
      "3377          25.3  \n",
      "3375          41.8  \n",
      "3360          47.4  \n",
      "3378          48.3  \n",
      "3371          37.6  \n",
      "2674          47.4  \n",
      "2787          47.4  \n",
      "3373          47.4  \n"
     ]
    }
   ],
   "source": [
    "import pandas as pd\n",
    "import ast\n",
    "from sklearn.metrics import jaccard_score\n",
    "from sklearn.preprocessing import MultiLabelBinarizer\n",
    "\n",
    "# === Загрузка маршрутов ===\n",
    "routes_path = \"RouteRange_with_GMM.csv\"\n",
    "df_routes = pd.read_csv(routes_path)\n",
    "df_routes[\"Sostav\"] = df_routes[\"Sostav\"].apply(ast.literal_eval)\n",
    "\n",
    "\n",
    "# === Бинаризация маршрутов для Jaccard-похожести ===\n",
    "mlb = MultiLabelBinarizer()\n",
    "binary_matrix = mlb.fit_transform(df_routes[\"Sostav\"])\n",
    "reference_binary = mlb.transform([reference_route])[0]\n",
    "\n",
    "# === Расчёт Jaccard-похожести\n",
    "similarities = []\n",
    "for row in binary_matrix:\n",
    "    score = jaccard_score(reference_binary, row)\n",
    "    similarities.append(score)\n",
    "\n",
    "df_routes[\"JaccardSimilarity\"] = similarities\n",
    "\n",
    "# === Исключаем полностью идентичные маршруты и оставляем только частично совпадающие\n",
    "similar_alternatives = df_routes[\n",
    "    (df_routes[\"JaccardSimilarity\"] < 1.0) & \n",
    "    (df_routes[\"JaccardSimilarity\"] > 0)\n",
    "].copy()\n",
    "\n",
    "# === Дополнительные метрики: разница в длине маршрута\n",
    "similar_alternatives[\"ConcertsDiff\"] = (\n",
    "    similar_alternatives[\"Concerts\"] - len(reference_route)\n",
    ").abs()\n",
    "\n",
    "# === Сортировка по сходству, близости длины, интеллекту и комфорту\n",
    "similar_alternatives = similar_alternatives.sort_values(\n",
    "    by=[\"JaccardSimilarity\", \"ConcertsDiff\", \"IntellectScore\", \"ComfortScore\"],\n",
    "    ascending=[False, True, False, False]\n",
    ")\n",
    "\n",
    "# === Вывод топ-N маршрутов\n",
    "top_n = 10\n",
    "print(similar_alternatives[[\"Sostav\", \"Concerts\", \"JaccardSimilarity\", \"IntellectScore\", \"ComfortScore\"]].head(top_n))\n"
   ]
  },
  {
   "cell_type": "markdown",
   "id": "5af97771",
   "metadata": {},
   "source": [
    "### Надо объясниться"
   ]
  },
  {
   "cell_type": "markdown",
   "id": "156111ce",
   "metadata": {},
   "source": [
    "Вот все вроде здорово. Вбрали один маршрут. Показали ему альтернативу. Но пользователь же должен понять и содержательную часть изменений в последовательности номеров концертов.\n",
    "\n",
    "Вот функция describe_alternative(), которая:\n",
    "\n",
    "* сравнивает два маршрута по составу концертов,\n",
    "\n",
    "* считает разницу в числовых характеристиках,\n",
    "\n",
    "* возвращает структурированное описание изменений."
   ]
  },
  {
   "cell_type": "code",
   "execution_count": 137,
   "id": "8f7ef2b4",
   "metadata": {},
   "outputs": [
    {
     "name": "stdout",
     "output_type": "stream",
     "text": [
      "– 🎉 Добавлены: Шуман; Барток;  Струнный квартет № 3 ля мажор, ор. 41/3;  Румынские народные танцы\n",
      "– 👨‍🎤 Новые исполнители: Квартет имени Давида Ойстраха\n",
      "– 🔺 🎟️ Кол-во концертов: +1\n",
      "– 🔺 🧠 Интеллект: +14.2 баллов\n",
      "– 🔺 🛋️ Комфорт: +3.0 баллов\n",
      "– 🔺 🚶 Переходы: +6.0\n",
      "– 🔻 ⏱️ Ожидание: -45.0\n",
      "– 🔺 💰 Затраты: +200\n"
     ]
    }
   ],
   "source": [
    "print(df_result.loc[0]['Пояснение'])"
   ]
  },
  {
   "cell_type": "code",
   "execution_count": null,
   "id": "d0e46fb6",
   "metadata": {},
   "outputs": [
    {
     "name": "stdout",
     "output_type": "stream",
     "text": [
      "Альтернативный маршрут  JaccardSimilarity                                                                                                                                                     Пояснение\n",
      "       [1, 14, 20, 30]               0.75 – ✅ Добавлены: Концерт 20\\n– 🔺 Маршрут: +1\\n– 🔺 Интеллект: +14.2 баллов\\n– 🔺 Комфорт: +3.0 баллов\\n– 🔺 Переходы: +6.0\\n– 🔻 Ожидание: -45.0\\n– 🔺 Затраты: +200\n",
      "       [1, 14, 18, 30]               0.75                     – ✅ Добавлены: Концерт 18\\n– 🔺 Маршрут: +1\\n– 🔺 Интеллект: +5.5 баллов\\n– 🔺 Комфорт: +25.7 баллов\\n– 🔻 Ожидание: -50.0\\n– 🔺 Затраты: +200\n",
      "       [1, 14, 27, 30]               0.75  – ✅ Добавлены: Концерт 27\\n– 🔺 Маршрут: +1\\n– 🔺 Интеллект: +4.5 баллов\\n– 🔺 Комфорт: +3.0 баллов\\n– 🔺 Переходы: +6.0\\n– 🔻 Ожидание: -45.0\\n– 🔺 Затраты: +200\n",
      "       [1, 14, 26, 30]               0.75 – ✅ Добавлены: Концерт 26\\n– 🔺 Маршрут: +1\\n– 🔺 Интеллект: +4.3 баллов\\n– 🔺 Комфорт: +19.5 баллов\\n– 🔺 Переходы: +1.0\\n– 🔻 Ожидание: -45.0\\n– 🔺 Затраты: +200\n",
      "       [1, 14, 21, 30]               0.75                     – ✅ Добавлены: Концерт 21\\n– 🔺 Маршрут: +1\\n– 🔺 Интеллект: +2.1 баллов\\n– 🔺 Комфорт: +25.1 баллов\\n– 🔻 Ожидание: -45.0\\n– 🔺 Затраты: +200\n",
      "       [1, 14, 28, 30]               0.75                     – ✅ Добавлены: Концерт 28\\n– 🔺 Маршрут: +1\\n– 🔺 Интеллект: +0.5 баллов\\n– 🔺 Комфорт: +26.0 баллов\\n– 🔻 Ожидание: -65.0\\n– 🔺 Затраты: +200\n",
      "       [1, 14, 24, 30]               0.75 – ✅ Добавлены: Концерт 24\\n– 🔺 Маршрут: +1\\n– 🔺 Интеллект: +0.4 баллов\\n– 🔺 Комфорт: +15.3 баллов\\n– 🔺 Переходы: +2.0\\n– 🔻 Ожидание: -45.0\\n– 🔺 Затраты: +200\n",
      "        [1, 7, 14, 30]               0.75                      – ✅ Добавлены: Концерт 7\\n– 🔺 Маршрут: +1\\n– 🔺 Интеллект: +0.1 баллов\\n– 🔺 Комфорт: +25.1 баллов\\n– 🔻 Ожидание: -45.0\\n– 🔺 Затраты: +200\n",
      "        [1, 8, 14, 30]               0.75                      – ✅ Добавлены: Концерт 8\\n– 🔺 Маршрут: +1\\n– 🔺 Интеллект: +0.1 баллов\\n– 🔺 Комфорт: +25.1 баллов\\n– 🔻 Ожидание: -45.0\\n– 🔺 Затраты: +200\n",
      "       [1, 14, 25, 30]               0.75                     – ✅ Добавлены: Концерт 25\\n– 🔺 Маршрут: +1\\n– 🔺 Интеллект: +0.1 баллов\\n– 🔺 Комфорт: +25.1 баллов\\n– 🔻 Ожидание: -45.0\\n– 🔺 Затраты: +200\n"
     ]
    }
   ],
   "source": [
    "import pandas as pd\n",
    "import ast\n",
    "from sklearn.metrics import jaccard_score\n",
    "from sklearn.preprocessing import MultiLabelBinarizer\n",
    "\n",
    "# === Вход: маршрут пользователя ===\n",
    "\n",
    "ref_row = df_routes[df_routes[\"Sostav\"].apply(lambda s: set(s) == set(reference_route))].iloc[0]\n",
    "\n",
    "# === Поиск альтернатив по Jaccard-сходству ===\n",
    "mlb = MultiLabelBinarizer()\n",
    "binary_matrix = mlb.fit_transform(df_routes[\"Sostav\"])\n",
    "ref_binary = mlb.transform([reference_route])[0]\n",
    "\n",
    "similarities = [jaccard_score(ref_binary, row) for row in binary_matrix]\n",
    "df_routes[\"JaccardSimilarity\"] = similarities\n",
    "\n",
    "similar_alts = df_routes[(df_routes[\"JaccardSimilarity\"] < 1.0) & (df_routes[\"JaccardSimilarity\"] > 0)].copy()\n",
    "similar_alts[\"ConcertsDiff\"] = (similar_alts[\"Concerts\"] - len(reference_route)).abs()\n",
    "similar_alts = similar_alts.sort_values(\n",
    "    by=[\"JaccardSimilarity\", \"ConcertsDiff\", \"IntellectScore\", \"ComfortScore\"],\n",
    "    ascending=[False, True, False, False]\n",
    ")\n",
    "\n",
    "# === Функция описания отличий ===\n",
    "def describe_alternative(ref_row, alt_row, name_map):\n",
    "    ref_sostav = set(ref_row[\"Sostav\"])\n",
    "    alt_sostav = set(alt_row[\"Sostav\"])\n",
    "    removed = sorted(ref_sostav - alt_sostav)\n",
    "    added = sorted(alt_sostav - ref_sostav)\n",
    "\n",
    "    def fmt_names(ids):\n",
    "        return \", \".join(name_map.get(i, f\"#{i}\") for i in ids)\n",
    "\n",
    "    summary = []\n",
    "    if removed:\n",
    "        summary.append(f\"– ❌ Убраны: {fmt_names(removed)}\")\n",
    "    if added:\n",
    "        summary.append(f\"– ✅ Добавлены: {fmt_names(added)}\")\n",
    "\n",
    "    # Основные числовые метрики\n",
    "    score_keys = {\n",
    "        \"Concerts\": \"Маршрут\",\n",
    "        \"IntellectScore\": \"Интеллект\",\n",
    "        \"ComfortScore\": \"Комфорт\",\n",
    "        \"TransTime\": \"Переходы\",\n",
    "        \"WaitTime\": \"Ожидание\",\n",
    "        \"Costs\": \"Затраты\"\n",
    "    }\n",
    "\n",
    "    def delta(a, b): return round(b - a, 1)\n",
    "\n",
    "    for key, label in score_keys.items():\n",
    "        old = ref_row.get(key, 0)\n",
    "        new = alt_row.get(key, 0)\n",
    "        diff = delta(old, new)\n",
    "        if diff != 0:\n",
    "            arrow = \"🔺\" if diff > 0 else \"🔻\"\n",
    "            unit = \" баллов\" if \"Score\" in key else \"\"\n",
    "            summary.append(f\"– {arrow} {label}: {diff:+}{unit}\")\n",
    "\n",
    "    return \"\\n\".join(summary)\n",
    "\n",
    "\n",
    "# === Применим ко всем альтернативам\n",
    "top_n = 10\n",
    "output = []\n",
    "for _, alt_row in similar_alts.head(top_n).iterrows():\n",
    "    description = describe_alternative(ref_row, alt_row, concert_names)\n",
    "    output.append({\n",
    "        \"Альтернативный маршрут\": alt_row[\"Sostav\"],\n",
    "        \"JaccardSimilarity\": round(alt_row[\"JaccardSimilarity\"], 2),\n",
    "        \"Пояснение\": description\n",
    "    })\n",
    "\n",
    "# === Вывод альтернатив и пояснений\n",
    "df_result = pd.DataFrame(output)\n",
    "pd.set_option(\"display.max_colwidth\", None)\n",
    "print(df_result.to_string(index=False))"
   ]
  },
  {
   "cell_type": "markdown",
   "id": "493ceaea",
   "metadata": {},
   "source": [
    "Сделаем теперь то же самое но постараемся более подробно развернуть изменение в авторах и программах"
   ]
  },
  {
   "cell_type": "code",
   "execution_count": 136,
   "id": "ea35b345",
   "metadata": {},
   "outputs": [
    {
     "name": "stderr",
     "output_type": "stream",
     "text": [
      "/var/folders/ph/7m0lcx1d1_q_2b1f5fzxch7m0000gn/T/ipykernel_82224/2579405505.py:8: DtypeWarning: Columns (40) have mixed types. Specify dtype option on import or set low_memory=False.\n",
      "  df_routes = pd.read_csv(\"RouteRange_with_GMM.csv\")\n"
     ]
    },
    {
     "name": "stdout",
     "output_type": "stream",
     "text": [
      "Альтернативный маршрут  JaccardSimilarity                                                                                                                                                                                                                                                                                                                                                                                                                                                                                                                Пояснение\n",
      "       [1, 14, 20, 30]               0.75                                                                                                                                                                                                    – 🎉 Добавлены: Шуман; Барток;  Струнный квартет № 3 ля мажор, ор. 41/3;  Румынские народные танцы\\n– 👨‍🎤 Новые исполнители: Квартет имени Давида Ойстраха\\n– 🔺 🎟️ Кол-во концертов: +1\\n– 🔺 🧠 Интеллект: +14.2 баллов\\n– 🔺 🛋️ Комфорт: +3.0 баллов\\n– 🔺 🚶 Переходы: +6.0\\n– 🔻 ⏱️ Ожидание: -45.0\\n– 🔺 💰 Затраты: +200\n",
      "       [1, 14, 18, 30]               0.75 – 🎉 Добавлены: Шопен;  Вариации на тему из оперы Моцарта «Дон Жуан» для фортепиано с оркестром;  Анданте спианато и большой блестящий полонез для фортепиано с оркестром, op. 22;  Краковяк, концертное рондо для фортепиано с оркестром фа мажор, op. 14\\n– 👨‍🎤 Новые исполнители: Дирижёр — Дмитрий Филатов, Рэм Урасин (фортепиано), Уральский молодёжный симфонический оркестр\\n– 🔺 🎟️ Кол-во концертов: +1\\n– 🔺 🧠 Интеллект: +5.5 баллов\\n– 🔺 🛋️ Комфорт: +25.7 баллов\\n– 🔻 ⏱️ Ожидание: -50.0\\n– 🔺 💰 Затраты: +200\n",
      "       [1, 14, 27, 30]               0.75                                                                                                                                 – 🎉 Добавлены: Лист—Холмс; Шуман; Ди Бакко; Шопен; Бах И; Штраус И;  Венгерская рапсодия № 2;  «Детские сцены»;  Фантазия на темы из опер;  Вальс, op.70 № 3; С. Ария из Сюиты № 3 для оркестра ре мажор;  Полька «Трик-трак»\\n– 🔺 🎟️ Кол-во концертов: +1\\n– 🔺 🧠 Интеллект: +4.5 баллов\\n– 🔺 🛋️ Комфорт: +3.0 баллов\\n– 🔺 🚶 Переходы: +6.0\\n– 🔻 ⏱️ Ожидание: -45.0\\n– 🔺 💰 Затраты: +200\n",
      "       [1, 14, 26, 30]               0.75                                                                                                                                                                                                                              – 🎉 Добавлены: _Прочее;  Авторские композиции и традиционные стили фламенко\\n– 👨‍🎤 Новые исполнители: Алексей Корбанов & Сovara\\n– 🔺 🎟️ Кол-во концертов: +1\\n– 🔺 🧠 Интеллект: +4.3 баллов\\n– 🔺 🛋️ Комфорт: +19.5 баллов\\n– 🔺 🚶 Переходы: +1.0\\n– 🔻 ⏱️ Ожидание: -45.0\\n– 🔺 💰 Затраты: +200\n",
      "       [1, 14, 21, 30]               0.75                                                                           – 🎉 Добавлены: Бетховен; Шуман; Шопен;  Вариации на тему дуэта Церлины и Дон Жуана из оперы Моцарта «Дон Жуан»;  «Детские сцены»;  Шесть пьес канонической формы (II, IV части);  Этюд, op. 10 № 3;  Этюд, op. 25 № 9;  Мазурка, op. 24 № 2;  Мазурка, op. 7 № 1\\n– 👨‍🎤 Новые исполнители: Shepherd trio\\n– 🔺 🎟️ Кол-во концертов: +1\\n– 🔺 🧠 Интеллект: +2.1 баллов\\n– 🔺 🛋️ Комфорт: +25.1 баллов\\n– 🔻 ⏱️ Ожидание: -45.0\\n– 🔺 💰 Затраты: +200\n",
      "       [1, 14, 28, 30]               0.75                                                                                                                                                                                                                                            – 🎉 Добавлены: _Прочее;  Музыкально-хореографический спектакль о Красоте в танцевальных движениях\\n– 👨‍🎤 Новые исполнители: «ТанцТеатр»\\n– 🔺 🎟️ Кол-во концертов: +1\\n– 🔺 🧠 Интеллект: +0.5 баллов\\n– 🔺 🛋️ Комфорт: +26.0 баллов\\n– 🔻 ⏱️ Ожидание: -65.0\\n– 🔺 💰 Затраты: +200\n",
      "       [1, 14, 24, 30]               0.75                                                                                                               – 🎉 Добавлены: Мендельсон; Бах И;  Симфония № 10 для струнного оркестра си минор; С. Бранденбургский концерт № 6; С. Бранденбургский концерт № 3\\n– 👨‍🎤 Новые исполнители: Дирижёр — Леонид Казаков, Московский камерный оркестр «Musica Viva»\\n– 🔺 🎟️ Кол-во концертов: +1\\n– 🔺 🧠 Интеллект: +0.4 баллов\\n– 🔺 🛋️ Комфорт: +15.3 баллов\\n– 🔺 🚶 Переходы: +2.0\\n– 🔻 ⏱️ Ожидание: -45.0\\n– 🔺 💰 Затраты: +200\n",
      "        [1, 7, 14, 30]               0.75                                                                                                                                                                                                                                                                 – 🎉 Добавлены: _Прочее;  Музыка эпохи Возрождения\\n– 👨‍🎤 Новые исполнители: Ансамбль ранней музыки «Insula Magica»\\n– 🔺 🎟️ Кол-во концертов: +1\\n– 🔺 🧠 Интеллект: +0.1 баллов\\n– 🔺 🛋️ Комфорт: +25.1 баллов\\n– 🔻 ⏱️ Ожидание: -45.0\\n– 🔺 💰 Затраты: +200\n",
      "        [1, 8, 14, 30]               0.75                                                                                                                                                                      – 🎉 Добавлены: Шуман;  Три фантастические пьесы для виолончели и фортепиано;  Фортепианный квинтет ми-бемоль мажор, ор. 44\\n– 👨‍🎤 Новые исполнители: Квартет имени Давида Ойстраха, Юрий Фаворин (фортепиано)\\n– 🔺 🎟️ Кол-во концертов: +1\\n– 🔺 🧠 Интеллект: +0.1 баллов\\n– 🔺 🛋️ Комфорт: +25.1 баллов\\n– 🔻 ⏱️ Ожидание: -45.0\\n– 🔺 💰 Затраты: +200\n",
      "       [1, 14, 25, 30]               0.75                                                                                                                                                                                                                                                 – 🎉 Добавлены: _Прочее;  Музыка средневековья и эпохи Возрождения\\n– 👨‍🎤 Новые исполнители: Ансамбль ранней музыки «Insula Magica»\\n– 🔺 🎟️ Кол-во концертов: +1\\n– 🔺 🧠 Интеллект: +0.1 баллов\\n– 🔺 🛋️ Комфорт: +25.1 баллов\\n– 🔻 ⏱️ Ожидание: -45.0\\n– 🔺 💰 Затраты: +200\n"
     ]
    }
   ],
   "source": [
    "import pandas as pd\n",
    "import ast\n",
    "from sklearn.metrics import jaccard_score\n",
    "from sklearn.preprocessing import MultiLabelBinarizer\n",
    "from collections import defaultdict\n",
    "\n",
    "# === Загрузка всех данных ===\n",
    "df_routes = pd.read_csv(\"RouteRange_with_GMM.csv\")\n",
    "df_routes[\"Sostav\"] = df_routes[\"Sostav\"].apply(ast.literal_eval)\n",
    "\n",
    "df_shows = pd.read_excel(\"data_clean/show_details.xlsx\")\n",
    "df_artists = pd.read_excel(\"data_clean/artist_details.xlsx\")\n",
    "df_shows.columns = df_shows.columns.str.strip()\n",
    "df_artists.columns = df_artists.columns.str.strip()\n",
    "\n",
    "# === Справочники названий концертов и артистов ===\n",
    "concert_name_map = defaultdict(str)\n",
    "for show_id, group in df_shows.groupby(\"ShowNum\"):\n",
    "    authors = group[\"Author\"].dropna().unique()\n",
    "    programs = group[\"Programm\"].dropna().unique()\n",
    "    parts = list(authors) + list(programs)\n",
    "    concert_name_map[show_id] = \"; \".join(parts)\n",
    "\n",
    "artist_map = defaultdict(list)\n",
    "for show_id, group in df_artists.groupby(\"ShowNum\"):\n",
    "    artists = group[\"Artists\"].dropna().tolist()\n",
    "    artist_map[show_id] = artists\n",
    "\n",
    "# === Функция описания различий ===\n",
    "def describe_alternative(ref_row, alt_row, concert_name_map, artist_map):\n",
    "    ref_set = set(ref_row[\"Sostav\"])\n",
    "    alt_set = set(alt_row[\"Sostav\"])\n",
    "    removed_ids = sorted(ref_set - alt_set)\n",
    "    added_ids = sorted(alt_set - ref_set)\n",
    "\n",
    "    def fmt_names(ids):\n",
    "        return \"; \".join(concert_name_map.get(i, f\"Концерт #{i}\") for i in ids)\n",
    "\n",
    "    summary = []\n",
    "    if removed_ids:\n",
    "        summary.append(f\"– 🎭 Убраны: {fmt_names(removed_ids)}\")\n",
    "    if added_ids:\n",
    "        summary.append(f\"– 🎉 Добавлены: {fmt_names(added_ids)}\")\n",
    "\n",
    "    def get_artists(ids):\n",
    "        result = set()\n",
    "        for i in ids:\n",
    "            result.update(artist_map.get(i, []))\n",
    "        return result\n",
    "\n",
    "    removed_artists = get_artists(removed_ids)\n",
    "    added_artists = get_artists(added_ids)\n",
    "    common_artists = get_artists(ref_set & alt_set)\n",
    "\n",
    "    new_artists = added_artists - common_artists\n",
    "    gone_artists = removed_artists - common_artists\n",
    "\n",
    "    if gone_artists:\n",
    "        summary.append(f\"– 🎤 Без: {', '.join(sorted(gone_artists))}\")\n",
    "    if new_artists:\n",
    "        summary.append(f\"– 👨‍🎤 Новые исполнители: {', '.join(sorted(new_artists))}\")\n",
    "\n",
    "    score_keys = {\n",
    "        \"Concerts\": \"🎟️ Кол-во концертов\",\n",
    "        \"IntellectScore\": \"🧠 Интеллект\",\n",
    "        \"ComfortScore\": \"🛋️ Комфорт\",\n",
    "        \"TransTime\": \"🚶 Переходы\",\n",
    "        \"WaitTime\": \"⏱️ Ожидание\",\n",
    "        \"Costs\": \"💰 Затраты\"\n",
    "    }\n",
    "\n",
    "    def delta(a, b): return round(b - a, 1)\n",
    "\n",
    "    for key, label in score_keys.items():\n",
    "        old = ref_row.get(key, 0)\n",
    "        new = alt_row.get(key, 0)\n",
    "        diff = delta(old, new)\n",
    "        if diff != 0:\n",
    "            arrow = \"🔺\" if diff > 0 else \"🔻\"\n",
    "            unit = \" баллов\" if \"Score\" in key else \"\"\n",
    "            summary.append(f\"– {arrow} {label}: {diff:+}{unit}\")\n",
    "\n",
    "    return \"\\n\".join(summary)\n",
    "\n",
    "# === Исходный маршрут пользователя ===\n",
    "reference_route = [1, 14, 30]\n",
    "ref_row = df_routes[df_routes[\"Sostav\"].apply(lambda s: set(s) == set(reference_route))].iloc[0]\n",
    "\n",
    "# === Поиск альтернатив ===\n",
    "mlb = MultiLabelBinarizer()\n",
    "binary_matrix = mlb.fit_transform(df_routes[\"Sostav\"])\n",
    "ref_binary = mlb.transform([reference_route])[0]\n",
    "df_routes[\"JaccardSimilarity\"] = [jaccard_score(ref_binary, row) for row in binary_matrix]\n",
    "\n",
    "similar_alts = df_routes[(df_routes[\"JaccardSimilarity\"] < 1.0) & (df_routes[\"JaccardSimilarity\"] > 0)].copy()\n",
    "similar_alts[\"ConcertsDiff\"] = (similar_alts[\"Concerts\"] - len(reference_route)).abs()\n",
    "similar_alts = similar_alts.sort_values(\n",
    "    by=[\"JaccardSimilarity\", \"ConcertsDiff\", \"IntellectScore\", \"ComfortScore\"],\n",
    "    ascending=[False, True, False, False]\n",
    ")\n",
    "\n",
    "# === Сравнение альтернатив\n",
    "top_n = 10\n",
    "output = []\n",
    "for _, alt_row in similar_alts.head(top_n).iterrows():\n",
    "    description = describe_alternative(ref_row, alt_row, concert_name_map, artist_map)\n",
    "    output.append({\n",
    "        \"Альтернативный маршрут\": alt_row[\"Sostav\"],\n",
    "        \"JaccardSimilarity\": round(alt_row[\"JaccardSimilarity\"], 2),\n",
    "        \"Пояснение\": description\n",
    "    })\n",
    "\n",
    "# === Вывод альтернатив и пояснений\n",
    "df_result = pd.DataFrame(output)\n",
    "pd.set_option(\"display.max_colwidth\", None)\n",
    "print(df_result.to_string(index=False))"
   ]
  },
  {
   "cell_type": "code",
   "execution_count": 138,
   "id": "87a1d41d",
   "metadata": {},
   "outputs": [
    {
     "name": "stdout",
     "output_type": "stream",
     "text": [
      "– 🎉 Добавлены: Шопен;  Вариации на тему из оперы Моцарта «Дон Жуан» для фортепиано с оркестром;  Анданте спианато и большой блестящий полонез для фортепиано с оркестром, op. 22;  Краковяк, концертное рондо для фортепиано с оркестром фа мажор, op. 14\n",
      "– 👨‍🎤 Новые исполнители: Дирижёр — Дмитрий Филатов, Рэм Урасин (фортепиано), Уральский молодёжный симфонический оркестр\n",
      "– 🔺 🎟️ Кол-во концертов: +1\n",
      "– 🔺 🧠 Интеллект: +5.5 баллов\n",
      "– 🔺 🛋️ Комфорт: +25.7 баллов\n",
      "– 🔻 ⏱️ Ожидание: -50.0\n",
      "– 🔺 💰 Затраты: +200\n"
     ]
    }
   ],
   "source": [
    "print(df_result.loc[1]['Пояснение'])"
   ]
  },
  {
   "cell_type": "code",
   "execution_count": 143,
   "id": "c5aceb23",
   "metadata": {},
   "outputs": [
    {
     "name": "stderr",
     "output_type": "stream",
     "text": [
      "/var/folders/ph/7m0lcx1d1_q_2b1f5fzxch7m0000gn/T/ipykernel_82224/185473258.py:9: DtypeWarning:\n",
      "\n",
      "Columns (40) have mixed types. Specify dtype option on import or set low_memory=False.\n",
      "\n"
     ]
    },
    {
     "data": {
      "application/vnd.plotly.v1+json": {
       "config": {
        "plotlyServerURL": "https://plot.ly"
       },
       "data": [
        {
         "alignmentgroup": "True",
         "customdata": [
          [
           "IntellectScore",
           "– 🎉 Добавлены: Шуман; Барток;  Струнный квартет № 3 ля мажор, ор. 41/3;  Румынские народные танцы\n– 👨‍🎤 Новые исполнители: Квартет имени Давида Ойстраха\n– 🔺 🎟️ Концертов: +1\n– 🔺 🧠 Интеллект: +14.2 баллов\n– 🔺 🛋️ Комфорт: +3.0 баллов\n– 🔺 🚶 Переходы: +6.0\n– 🔻 ⏱️ Ожидание: -45.0\n– 🔺 💰 Затраты: +200"
          ],
          [
           "IntellectScore",
           "– 🎉 Добавлены: Шопен;  Вариации на тему из оперы Моцарта «Дон Жуан» для фортепиано с оркестром;  Анданте спианато и большой блестящий полонез для фортепиано с оркестром, op. 22;  Краковяк, концертное рондо для фортепиано с оркестром фа мажор, op. 14\n– 👨‍🎤 Новые исполнители: Дирижёр — Дмитрий Филатов, Рэм Урасин (фортепиано), Уральский молодёжный симфонический оркестр\n– 🔺 🎟️ Концертов: +1\n– 🔺 🧠 Интеллект: +5.5 баллов\n– 🔺 🛋️ Комфорт: +25.7 баллов\n– 🔻 ⏱️ Ожидание: -50.0\n– 🔺 💰 Затраты: +200"
          ],
          [
           "IntellectScore",
           "– 🎉 Добавлены: Лист—Холмс; Шуман; Ди Бакко; Шопен; Бах И; Штраус И;  Венгерская рапсодия № 2;  «Детские сцены»;  Фантазия на темы из опер;  Вальс, op.70 № 3; С. Ария из Сюиты № 3 для оркестра ре мажор;  Полька «Трик-трак»\n– 🔺 🎟️ Концертов: +1\n– 🔺 🧠 Интеллект: +4.5 баллов\n– 🔺 🛋️ Комфорт: +3.0 баллов\n– 🔺 🚶 Переходы: +6.0\n– 🔻 ⏱️ Ожидание: -45.0\n– 🔺 💰 Затраты: +200"
          ],
          [
           "IntellectScore",
           "– 🎉 Добавлены: _Прочее;  Авторские композиции и традиционные стили фламенко\n– 👨‍🎤 Новые исполнители: Алексей Корбанов & Сovara\n– 🔺 🎟️ Концертов: +1\n– 🔺 🧠 Интеллект: +4.3 баллов\n– 🔺 🛋️ Комфорт: +19.5 баллов\n– 🔺 🚶 Переходы: +1.0\n– 🔻 ⏱️ Ожидание: -45.0\n– 🔺 💰 Затраты: +200"
          ],
          [
           "IntellectScore",
           "– 🎉 Добавлены: Бетховен; Шуман; Шопен;  Вариации на тему дуэта Церлины и Дон Жуана из оперы Моцарта «Дон Жуан»;  «Детские сцены»;  Шесть пьес канонической формы (II, IV части);  Этюд, op. 10 № 3;  Этюд, op. 25 № 9;  Мазурка, op. 24 № 2;  Мазурка, op. 7 № 1\n– 👨‍🎤 Новые исполнители: Shepherd trio\n– 🔺 🎟️ Концертов: +1\n– 🔺 🧠 Интеллект: +2.1 баллов\n– 🔺 🛋️ Комфорт: +25.1 баллов\n– 🔻 ⏱️ Ожидание: -45.0\n– 🔺 💰 Затраты: +200"
          ],
          [
           "IntellectScore",
           "– 🎉 Добавлены: _Прочее;  Музыкально-хореографический спектакль о Красоте в танцевальных движениях\n– 👨‍🎤 Новые исполнители: «ТанцТеатр»\n– 🔺 🎟️ Концертов: +1\n– 🔺 🧠 Интеллект: +0.5 баллов\n– 🔺 🛋️ Комфорт: +26.0 баллов\n– 🔻 ⏱️ Ожидание: -65.0\n– 🔺 💰 Затраты: +200"
          ],
          [
           "IntellectScore",
           "– 🎉 Добавлены: Мендельсон; Бах И;  Симфония № 10 для струнного оркестра си минор; С. Бранденбургский концерт № 6; С. Бранденбургский концерт № 3\n– 👨‍🎤 Новые исполнители: Дирижёр — Леонид Казаков, Московский камерный оркестр «Musica Viva»\n– 🔺 🎟️ Концертов: +1\n– 🔺 🧠 Интеллект: +0.4 баллов\n– 🔺 🛋️ Комфорт: +15.3 баллов\n– 🔺 🚶 Переходы: +2.0\n– 🔻 ⏱️ Ожидание: -45.0\n– 🔺 💰 Затраты: +200"
          ],
          [
           "IntellectScore",
           "– 🎉 Добавлены: _Прочее;  Музыка эпохи Возрождения\n– 👨‍🎤 Новые исполнители: Ансамбль ранней музыки «Insula Magica»\n– 🔺 🎟️ Концертов: +1\n– 🔺 🧠 Интеллект: +0.1 баллов\n– 🔺 🛋️ Комфорт: +25.1 баллов\n– 🔻 ⏱️ Ожидание: -45.0\n– 🔺 💰 Затраты: +200"
          ],
          [
           "IntellectScore",
           "– 🎉 Добавлены: Шуман;  Три фантастические пьесы для виолончели и фортепиано;  Фортепианный квинтет ми-бемоль мажор, ор. 44\n– 👨‍🎤 Новые исполнители: Квартет имени Давида Ойстраха, Юрий Фаворин (фортепиано)\n– 🔺 🎟️ Концертов: +1\n– 🔺 🧠 Интеллект: +0.1 баллов\n– 🔺 🛋️ Комфорт: +25.1 баллов\n– 🔻 ⏱️ Ожидание: -45.0\n– 🔺 💰 Затраты: +200"
          ],
          [
           "IntellectScore",
           "– 🎉 Добавлены: _Прочее;  Музыка средневековья и эпохи Возрождения\n– 👨‍🎤 Новые исполнители: Ансамбль ранней музыки «Insula Magica»\n– 🔺 🎟️ Концертов: +1\n– 🔺 🧠 Интеллект: +0.1 баллов\n– 🔺 🛋️ Комфорт: +25.1 баллов\n– 🔻 ⏱️ Ожидание: -45.0\n– 🔺 💰 Затраты: +200"
          ]
         ],
         "hovertemplate": "<b>%{hovertext}</b><br><br>Метрика=%{customdata[0]}<br>Альтернатива=%{x}<br>Изменение=%{y}<br>Подсказка=%{customdata[1]}<extra></extra>",
         "hovertext": [
          "Альт #1",
          "Альт #2",
          "Альт #3",
          "Альт #4",
          "Альт #5",
          "Альт #6",
          "Альт #7",
          "Альт #8",
          "Альт #9",
          "Альт #10"
         ],
         "legendgroup": "IntellectScore",
         "marker": {
          "color": "#636efa",
          "pattern": {
           "shape": ""
          }
         },
         "name": "IntellectScore",
         "offsetgroup": "IntellectScore",
         "orientation": "v",
         "showlegend": true,
         "textposition": "auto",
         "type": "bar",
         "x": [
          "Альт #1",
          "Альт #2",
          "Альт #3",
          "Альт #4",
          "Альт #5",
          "Альт #6",
          "Альт #7",
          "Альт #8",
          "Альт #9",
          "Альт #10"
         ],
         "xaxis": "x",
         "y": [
          14.2,
          5.5,
          4.5,
          4.3,
          2.1,
          0.5,
          0.4,
          0.1,
          0.1,
          0.1
         ],
         "yaxis": "y"
        },
        {
         "alignmentgroup": "True",
         "customdata": [
          [
           "ComfortScore",
           "– 🎉 Добавлены: Шуман; Барток;  Струнный квартет № 3 ля мажор, ор. 41/3;  Румынские народные танцы\n– 👨‍🎤 Новые исполнители: Квартет имени Давида Ойстраха\n– 🔺 🎟️ Концертов: +1\n– 🔺 🧠 Интеллект: +14.2 баллов\n– 🔺 🛋️ Комфорт: +3.0 баллов\n– 🔺 🚶 Переходы: +6.0\n– 🔻 ⏱️ Ожидание: -45.0\n– 🔺 💰 Затраты: +200"
          ],
          [
           "ComfortScore",
           "– 🎉 Добавлены: Шопен;  Вариации на тему из оперы Моцарта «Дон Жуан» для фортепиано с оркестром;  Анданте спианато и большой блестящий полонез для фортепиано с оркестром, op. 22;  Краковяк, концертное рондо для фортепиано с оркестром фа мажор, op. 14\n– 👨‍🎤 Новые исполнители: Дирижёр — Дмитрий Филатов, Рэм Урасин (фортепиано), Уральский молодёжный симфонический оркестр\n– 🔺 🎟️ Концертов: +1\n– 🔺 🧠 Интеллект: +5.5 баллов\n– 🔺 🛋️ Комфорт: +25.7 баллов\n– 🔻 ⏱️ Ожидание: -50.0\n– 🔺 💰 Затраты: +200"
          ],
          [
           "ComfortScore",
           "– 🎉 Добавлены: Лист—Холмс; Шуман; Ди Бакко; Шопен; Бах И; Штраус И;  Венгерская рапсодия № 2;  «Детские сцены»;  Фантазия на темы из опер;  Вальс, op.70 № 3; С. Ария из Сюиты № 3 для оркестра ре мажор;  Полька «Трик-трак»\n– 🔺 🎟️ Концертов: +1\n– 🔺 🧠 Интеллект: +4.5 баллов\n– 🔺 🛋️ Комфорт: +3.0 баллов\n– 🔺 🚶 Переходы: +6.0\n– 🔻 ⏱️ Ожидание: -45.0\n– 🔺 💰 Затраты: +200"
          ],
          [
           "ComfortScore",
           "– 🎉 Добавлены: _Прочее;  Авторские композиции и традиционные стили фламенко\n– 👨‍🎤 Новые исполнители: Алексей Корбанов & Сovara\n– 🔺 🎟️ Концертов: +1\n– 🔺 🧠 Интеллект: +4.3 баллов\n– 🔺 🛋️ Комфорт: +19.5 баллов\n– 🔺 🚶 Переходы: +1.0\n– 🔻 ⏱️ Ожидание: -45.0\n– 🔺 💰 Затраты: +200"
          ],
          [
           "ComfortScore",
           "– 🎉 Добавлены: Бетховен; Шуман; Шопен;  Вариации на тему дуэта Церлины и Дон Жуана из оперы Моцарта «Дон Жуан»;  «Детские сцены»;  Шесть пьес канонической формы (II, IV части);  Этюд, op. 10 № 3;  Этюд, op. 25 № 9;  Мазурка, op. 24 № 2;  Мазурка, op. 7 № 1\n– 👨‍🎤 Новые исполнители: Shepherd trio\n– 🔺 🎟️ Концертов: +1\n– 🔺 🧠 Интеллект: +2.1 баллов\n– 🔺 🛋️ Комфорт: +25.1 баллов\n– 🔻 ⏱️ Ожидание: -45.0\n– 🔺 💰 Затраты: +200"
          ],
          [
           "ComfortScore",
           "– 🎉 Добавлены: _Прочее;  Музыкально-хореографический спектакль о Красоте в танцевальных движениях\n– 👨‍🎤 Новые исполнители: «ТанцТеатр»\n– 🔺 🎟️ Концертов: +1\n– 🔺 🧠 Интеллект: +0.5 баллов\n– 🔺 🛋️ Комфорт: +26.0 баллов\n– 🔻 ⏱️ Ожидание: -65.0\n– 🔺 💰 Затраты: +200"
          ],
          [
           "ComfortScore",
           "– 🎉 Добавлены: Мендельсон; Бах И;  Симфония № 10 для струнного оркестра си минор; С. Бранденбургский концерт № 6; С. Бранденбургский концерт № 3\n– 👨‍🎤 Новые исполнители: Дирижёр — Леонид Казаков, Московский камерный оркестр «Musica Viva»\n– 🔺 🎟️ Концертов: +1\n– 🔺 🧠 Интеллект: +0.4 баллов\n– 🔺 🛋️ Комфорт: +15.3 баллов\n– 🔺 🚶 Переходы: +2.0\n– 🔻 ⏱️ Ожидание: -45.0\n– 🔺 💰 Затраты: +200"
          ],
          [
           "ComfortScore",
           "– 🎉 Добавлены: _Прочее;  Музыка эпохи Возрождения\n– 👨‍🎤 Новые исполнители: Ансамбль ранней музыки «Insula Magica»\n– 🔺 🎟️ Концертов: +1\n– 🔺 🧠 Интеллект: +0.1 баллов\n– 🔺 🛋️ Комфорт: +25.1 баллов\n– 🔻 ⏱️ Ожидание: -45.0\n– 🔺 💰 Затраты: +200"
          ],
          [
           "ComfortScore",
           "– 🎉 Добавлены: Шуман;  Три фантастические пьесы для виолончели и фортепиано;  Фортепианный квинтет ми-бемоль мажор, ор. 44\n– 👨‍🎤 Новые исполнители: Квартет имени Давида Ойстраха, Юрий Фаворин (фортепиано)\n– 🔺 🎟️ Концертов: +1\n– 🔺 🧠 Интеллект: +0.1 баллов\n– 🔺 🛋️ Комфорт: +25.1 баллов\n– 🔻 ⏱️ Ожидание: -45.0\n– 🔺 💰 Затраты: +200"
          ],
          [
           "ComfortScore",
           "– 🎉 Добавлены: _Прочее;  Музыка средневековья и эпохи Возрождения\n– 👨‍🎤 Новые исполнители: Ансамбль ранней музыки «Insula Magica»\n– 🔺 🎟️ Концертов: +1\n– 🔺 🧠 Интеллект: +0.1 баллов\n– 🔺 🛋️ Комфорт: +25.1 баллов\n– 🔻 ⏱️ Ожидание: -45.0\n– 🔺 💰 Затраты: +200"
          ]
         ],
         "hovertemplate": "<b>%{hovertext}</b><br><br>Метрика=%{customdata[0]}<br>Альтернатива=%{x}<br>Изменение=%{y}<br>Подсказка=%{customdata[1]}<extra></extra>",
         "hovertext": [
          "Альт #1",
          "Альт #2",
          "Альт #3",
          "Альт #4",
          "Альт #5",
          "Альт #6",
          "Альт #7",
          "Альт #8",
          "Альт #9",
          "Альт #10"
         ],
         "legendgroup": "ComfortScore",
         "marker": {
          "color": "#EF553B",
          "pattern": {
           "shape": ""
          }
         },
         "name": "ComfortScore",
         "offsetgroup": "ComfortScore",
         "orientation": "v",
         "showlegend": true,
         "textposition": "auto",
         "type": "bar",
         "x": [
          "Альт #1",
          "Альт #2",
          "Альт #3",
          "Альт #4",
          "Альт #5",
          "Альт #6",
          "Альт #7",
          "Альт #8",
          "Альт #9",
          "Альт #10"
         ],
         "xaxis": "x",
         "y": [
          3,
          25.7,
          3,
          19.5,
          25.1,
          26,
          15.3,
          25.1,
          25.1,
          25.1
         ],
         "yaxis": "y"
        },
        {
         "alignmentgroup": "True",
         "customdata": [
          [
           "TransTime",
           "– 🎉 Добавлены: Шуман; Барток;  Струнный квартет № 3 ля мажор, ор. 41/3;  Румынские народные танцы\n– 👨‍🎤 Новые исполнители: Квартет имени Давида Ойстраха\n– 🔺 🎟️ Концертов: +1\n– 🔺 🧠 Интеллект: +14.2 баллов\n– 🔺 🛋️ Комфорт: +3.0 баллов\n– 🔺 🚶 Переходы: +6.0\n– 🔻 ⏱️ Ожидание: -45.0\n– 🔺 💰 Затраты: +200"
          ],
          [
           "TransTime",
           "– 🎉 Добавлены: Шопен;  Вариации на тему из оперы Моцарта «Дон Жуан» для фортепиано с оркестром;  Анданте спианато и большой блестящий полонез для фортепиано с оркестром, op. 22;  Краковяк, концертное рондо для фортепиано с оркестром фа мажор, op. 14\n– 👨‍🎤 Новые исполнители: Дирижёр — Дмитрий Филатов, Рэм Урасин (фортепиано), Уральский молодёжный симфонический оркестр\n– 🔺 🎟️ Концертов: +1\n– 🔺 🧠 Интеллект: +5.5 баллов\n– 🔺 🛋️ Комфорт: +25.7 баллов\n– 🔻 ⏱️ Ожидание: -50.0\n– 🔺 💰 Затраты: +200"
          ],
          [
           "TransTime",
           "– 🎉 Добавлены: Лист—Холмс; Шуман; Ди Бакко; Шопен; Бах И; Штраус И;  Венгерская рапсодия № 2;  «Детские сцены»;  Фантазия на темы из опер;  Вальс, op.70 № 3; С. Ария из Сюиты № 3 для оркестра ре мажор;  Полька «Трик-трак»\n– 🔺 🎟️ Концертов: +1\n– 🔺 🧠 Интеллект: +4.5 баллов\n– 🔺 🛋️ Комфорт: +3.0 баллов\n– 🔺 🚶 Переходы: +6.0\n– 🔻 ⏱️ Ожидание: -45.0\n– 🔺 💰 Затраты: +200"
          ],
          [
           "TransTime",
           "– 🎉 Добавлены: _Прочее;  Авторские композиции и традиционные стили фламенко\n– 👨‍🎤 Новые исполнители: Алексей Корбанов & Сovara\n– 🔺 🎟️ Концертов: +1\n– 🔺 🧠 Интеллект: +4.3 баллов\n– 🔺 🛋️ Комфорт: +19.5 баллов\n– 🔺 🚶 Переходы: +1.0\n– 🔻 ⏱️ Ожидание: -45.0\n– 🔺 💰 Затраты: +200"
          ],
          [
           "TransTime",
           "– 🎉 Добавлены: Бетховен; Шуман; Шопен;  Вариации на тему дуэта Церлины и Дон Жуана из оперы Моцарта «Дон Жуан»;  «Детские сцены»;  Шесть пьес канонической формы (II, IV части);  Этюд, op. 10 № 3;  Этюд, op. 25 № 9;  Мазурка, op. 24 № 2;  Мазурка, op. 7 № 1\n– 👨‍🎤 Новые исполнители: Shepherd trio\n– 🔺 🎟️ Концертов: +1\n– 🔺 🧠 Интеллект: +2.1 баллов\n– 🔺 🛋️ Комфорт: +25.1 баллов\n– 🔻 ⏱️ Ожидание: -45.0\n– 🔺 💰 Затраты: +200"
          ],
          [
           "TransTime",
           "– 🎉 Добавлены: _Прочее;  Музыкально-хореографический спектакль о Красоте в танцевальных движениях\n– 👨‍🎤 Новые исполнители: «ТанцТеатр»\n– 🔺 🎟️ Концертов: +1\n– 🔺 🧠 Интеллект: +0.5 баллов\n– 🔺 🛋️ Комфорт: +26.0 баллов\n– 🔻 ⏱️ Ожидание: -65.0\n– 🔺 💰 Затраты: +200"
          ],
          [
           "TransTime",
           "– 🎉 Добавлены: Мендельсон; Бах И;  Симфония № 10 для струнного оркестра си минор; С. Бранденбургский концерт № 6; С. Бранденбургский концерт № 3\n– 👨‍🎤 Новые исполнители: Дирижёр — Леонид Казаков, Московский камерный оркестр «Musica Viva»\n– 🔺 🎟️ Концертов: +1\n– 🔺 🧠 Интеллект: +0.4 баллов\n– 🔺 🛋️ Комфорт: +15.3 баллов\n– 🔺 🚶 Переходы: +2.0\n– 🔻 ⏱️ Ожидание: -45.0\n– 🔺 💰 Затраты: +200"
          ],
          [
           "TransTime",
           "– 🎉 Добавлены: _Прочее;  Музыка эпохи Возрождения\n– 👨‍🎤 Новые исполнители: Ансамбль ранней музыки «Insula Magica»\n– 🔺 🎟️ Концертов: +1\n– 🔺 🧠 Интеллект: +0.1 баллов\n– 🔺 🛋️ Комфорт: +25.1 баллов\n– 🔻 ⏱️ Ожидание: -45.0\n– 🔺 💰 Затраты: +200"
          ],
          [
           "TransTime",
           "– 🎉 Добавлены: Шуман;  Три фантастические пьесы для виолончели и фортепиано;  Фортепианный квинтет ми-бемоль мажор, ор. 44\n– 👨‍🎤 Новые исполнители: Квартет имени Давида Ойстраха, Юрий Фаворин (фортепиано)\n– 🔺 🎟️ Концертов: +1\n– 🔺 🧠 Интеллект: +0.1 баллов\n– 🔺 🛋️ Комфорт: +25.1 баллов\n– 🔻 ⏱️ Ожидание: -45.0\n– 🔺 💰 Затраты: +200"
          ],
          [
           "TransTime",
           "– 🎉 Добавлены: _Прочее;  Музыка средневековья и эпохи Возрождения\n– 👨‍🎤 Новые исполнители: Ансамбль ранней музыки «Insula Magica»\n– 🔺 🎟️ Концертов: +1\n– 🔺 🧠 Интеллект: +0.1 баллов\n– 🔺 🛋️ Комфорт: +25.1 баллов\n– 🔻 ⏱️ Ожидание: -45.0\n– 🔺 💰 Затраты: +200"
          ]
         ],
         "hovertemplate": "<b>%{hovertext}</b><br><br>Метрика=%{customdata[0]}<br>Альтернатива=%{x}<br>Изменение=%{y}<br>Подсказка=%{customdata[1]}<extra></extra>",
         "hovertext": [
          "Альт #1",
          "Альт #2",
          "Альт #3",
          "Альт #4",
          "Альт #5",
          "Альт #6",
          "Альт #7",
          "Альт #8",
          "Альт #9",
          "Альт #10"
         ],
         "legendgroup": "TransTime",
         "marker": {
          "color": "#00cc96",
          "pattern": {
           "shape": ""
          }
         },
         "name": "TransTime",
         "offsetgroup": "TransTime",
         "orientation": "v",
         "showlegend": true,
         "textposition": "auto",
         "type": "bar",
         "x": [
          "Альт #1",
          "Альт #2",
          "Альт #3",
          "Альт #4",
          "Альт #5",
          "Альт #6",
          "Альт #7",
          "Альт #8",
          "Альт #9",
          "Альт #10"
         ],
         "xaxis": "x",
         "y": [
          6,
          0,
          6,
          1,
          0,
          0,
          2,
          0,
          0,
          0
         ],
         "yaxis": "y"
        },
        {
         "alignmentgroup": "True",
         "customdata": [
          [
           "WaitTime",
           "– 🎉 Добавлены: Шуман; Барток;  Струнный квартет № 3 ля мажор, ор. 41/3;  Румынские народные танцы\n– 👨‍🎤 Новые исполнители: Квартет имени Давида Ойстраха\n– 🔺 🎟️ Концертов: +1\n– 🔺 🧠 Интеллект: +14.2 баллов\n– 🔺 🛋️ Комфорт: +3.0 баллов\n– 🔺 🚶 Переходы: +6.0\n– 🔻 ⏱️ Ожидание: -45.0\n– 🔺 💰 Затраты: +200"
          ],
          [
           "WaitTime",
           "– 🎉 Добавлены: Шопен;  Вариации на тему из оперы Моцарта «Дон Жуан» для фортепиано с оркестром;  Анданте спианато и большой блестящий полонез для фортепиано с оркестром, op. 22;  Краковяк, концертное рондо для фортепиано с оркестром фа мажор, op. 14\n– 👨‍🎤 Новые исполнители: Дирижёр — Дмитрий Филатов, Рэм Урасин (фортепиано), Уральский молодёжный симфонический оркестр\n– 🔺 🎟️ Концертов: +1\n– 🔺 🧠 Интеллект: +5.5 баллов\n– 🔺 🛋️ Комфорт: +25.7 баллов\n– 🔻 ⏱️ Ожидание: -50.0\n– 🔺 💰 Затраты: +200"
          ],
          [
           "WaitTime",
           "– 🎉 Добавлены: Лист—Холмс; Шуман; Ди Бакко; Шопен; Бах И; Штраус И;  Венгерская рапсодия № 2;  «Детские сцены»;  Фантазия на темы из опер;  Вальс, op.70 № 3; С. Ария из Сюиты № 3 для оркестра ре мажор;  Полька «Трик-трак»\n– 🔺 🎟️ Концертов: +1\n– 🔺 🧠 Интеллект: +4.5 баллов\n– 🔺 🛋️ Комфорт: +3.0 баллов\n– 🔺 🚶 Переходы: +6.0\n– 🔻 ⏱️ Ожидание: -45.0\n– 🔺 💰 Затраты: +200"
          ],
          [
           "WaitTime",
           "– 🎉 Добавлены: _Прочее;  Авторские композиции и традиционные стили фламенко\n– 👨‍🎤 Новые исполнители: Алексей Корбанов & Сovara\n– 🔺 🎟️ Концертов: +1\n– 🔺 🧠 Интеллект: +4.3 баллов\n– 🔺 🛋️ Комфорт: +19.5 баллов\n– 🔺 🚶 Переходы: +1.0\n– 🔻 ⏱️ Ожидание: -45.0\n– 🔺 💰 Затраты: +200"
          ],
          [
           "WaitTime",
           "– 🎉 Добавлены: Бетховен; Шуман; Шопен;  Вариации на тему дуэта Церлины и Дон Жуана из оперы Моцарта «Дон Жуан»;  «Детские сцены»;  Шесть пьес канонической формы (II, IV части);  Этюд, op. 10 № 3;  Этюд, op. 25 № 9;  Мазурка, op. 24 № 2;  Мазурка, op. 7 № 1\n– 👨‍🎤 Новые исполнители: Shepherd trio\n– 🔺 🎟️ Концертов: +1\n– 🔺 🧠 Интеллект: +2.1 баллов\n– 🔺 🛋️ Комфорт: +25.1 баллов\n– 🔻 ⏱️ Ожидание: -45.0\n– 🔺 💰 Затраты: +200"
          ],
          [
           "WaitTime",
           "– 🎉 Добавлены: _Прочее;  Музыкально-хореографический спектакль о Красоте в танцевальных движениях\n– 👨‍🎤 Новые исполнители: «ТанцТеатр»\n– 🔺 🎟️ Концертов: +1\n– 🔺 🧠 Интеллект: +0.5 баллов\n– 🔺 🛋️ Комфорт: +26.0 баллов\n– 🔻 ⏱️ Ожидание: -65.0\n– 🔺 💰 Затраты: +200"
          ],
          [
           "WaitTime",
           "– 🎉 Добавлены: Мендельсон; Бах И;  Симфония № 10 для струнного оркестра си минор; С. Бранденбургский концерт № 6; С. Бранденбургский концерт № 3\n– 👨‍🎤 Новые исполнители: Дирижёр — Леонид Казаков, Московский камерный оркестр «Musica Viva»\n– 🔺 🎟️ Концертов: +1\n– 🔺 🧠 Интеллект: +0.4 баллов\n– 🔺 🛋️ Комфорт: +15.3 баллов\n– 🔺 🚶 Переходы: +2.0\n– 🔻 ⏱️ Ожидание: -45.0\n– 🔺 💰 Затраты: +200"
          ],
          [
           "WaitTime",
           "– 🎉 Добавлены: _Прочее;  Музыка эпохи Возрождения\n– 👨‍🎤 Новые исполнители: Ансамбль ранней музыки «Insula Magica»\n– 🔺 🎟️ Концертов: +1\n– 🔺 🧠 Интеллект: +0.1 баллов\n– 🔺 🛋️ Комфорт: +25.1 баллов\n– 🔻 ⏱️ Ожидание: -45.0\n– 🔺 💰 Затраты: +200"
          ],
          [
           "WaitTime",
           "– 🎉 Добавлены: Шуман;  Три фантастические пьесы для виолончели и фортепиано;  Фортепианный квинтет ми-бемоль мажор, ор. 44\n– 👨‍🎤 Новые исполнители: Квартет имени Давида Ойстраха, Юрий Фаворин (фортепиано)\n– 🔺 🎟️ Концертов: +1\n– 🔺 🧠 Интеллект: +0.1 баллов\n– 🔺 🛋️ Комфорт: +25.1 баллов\n– 🔻 ⏱️ Ожидание: -45.0\n– 🔺 💰 Затраты: +200"
          ],
          [
           "WaitTime",
           "– 🎉 Добавлены: _Прочее;  Музыка средневековья и эпохи Возрождения\n– 👨‍🎤 Новые исполнители: Ансамбль ранней музыки «Insula Magica»\n– 🔺 🎟️ Концертов: +1\n– 🔺 🧠 Интеллект: +0.1 баллов\n– 🔺 🛋️ Комфорт: +25.1 баллов\n– 🔻 ⏱️ Ожидание: -45.0\n– 🔺 💰 Затраты: +200"
          ]
         ],
         "hovertemplate": "<b>%{hovertext}</b><br><br>Метрика=%{customdata[0]}<br>Альтернатива=%{x}<br>Изменение=%{y}<br>Подсказка=%{customdata[1]}<extra></extra>",
         "hovertext": [
          "Альт #1",
          "Альт #2",
          "Альт #3",
          "Альт #4",
          "Альт #5",
          "Альт #6",
          "Альт #7",
          "Альт #8",
          "Альт #9",
          "Альт #10"
         ],
         "legendgroup": "WaitTime",
         "marker": {
          "color": "#ab63fa",
          "pattern": {
           "shape": ""
          }
         },
         "name": "WaitTime",
         "offsetgroup": "WaitTime",
         "orientation": "v",
         "showlegend": true,
         "textposition": "auto",
         "type": "bar",
         "x": [
          "Альт #1",
          "Альт #2",
          "Альт #3",
          "Альт #4",
          "Альт #5",
          "Альт #6",
          "Альт #7",
          "Альт #8",
          "Альт #9",
          "Альт #10"
         ],
         "xaxis": "x",
         "y": [
          -45,
          -50,
          -45,
          -45,
          -45,
          -65,
          -45,
          -45,
          -45,
          -45
         ],
         "yaxis": "y"
        },
        {
         "alignmentgroup": "True",
         "customdata": [
          [
           "Concerts",
           "– 🎉 Добавлены: Шуман; Барток;  Струнный квартет № 3 ля мажор, ор. 41/3;  Румынские народные танцы\n– 👨‍🎤 Новые исполнители: Квартет имени Давида Ойстраха\n– 🔺 🎟️ Концертов: +1\n– 🔺 🧠 Интеллект: +14.2 баллов\n– 🔺 🛋️ Комфорт: +3.0 баллов\n– 🔺 🚶 Переходы: +6.0\n– 🔻 ⏱️ Ожидание: -45.0\n– 🔺 💰 Затраты: +200"
          ],
          [
           "Concerts",
           "– 🎉 Добавлены: Шопен;  Вариации на тему из оперы Моцарта «Дон Жуан» для фортепиано с оркестром;  Анданте спианато и большой блестящий полонез для фортепиано с оркестром, op. 22;  Краковяк, концертное рондо для фортепиано с оркестром фа мажор, op. 14\n– 👨‍🎤 Новые исполнители: Дирижёр — Дмитрий Филатов, Рэм Урасин (фортепиано), Уральский молодёжный симфонический оркестр\n– 🔺 🎟️ Концертов: +1\n– 🔺 🧠 Интеллект: +5.5 баллов\n– 🔺 🛋️ Комфорт: +25.7 баллов\n– 🔻 ⏱️ Ожидание: -50.0\n– 🔺 💰 Затраты: +200"
          ],
          [
           "Concerts",
           "– 🎉 Добавлены: Лист—Холмс; Шуман; Ди Бакко; Шопен; Бах И; Штраус И;  Венгерская рапсодия № 2;  «Детские сцены»;  Фантазия на темы из опер;  Вальс, op.70 № 3; С. Ария из Сюиты № 3 для оркестра ре мажор;  Полька «Трик-трак»\n– 🔺 🎟️ Концертов: +1\n– 🔺 🧠 Интеллект: +4.5 баллов\n– 🔺 🛋️ Комфорт: +3.0 баллов\n– 🔺 🚶 Переходы: +6.0\n– 🔻 ⏱️ Ожидание: -45.0\n– 🔺 💰 Затраты: +200"
          ],
          [
           "Concerts",
           "– 🎉 Добавлены: _Прочее;  Авторские композиции и традиционные стили фламенко\n– 👨‍🎤 Новые исполнители: Алексей Корбанов & Сovara\n– 🔺 🎟️ Концертов: +1\n– 🔺 🧠 Интеллект: +4.3 баллов\n– 🔺 🛋️ Комфорт: +19.5 баллов\n– 🔺 🚶 Переходы: +1.0\n– 🔻 ⏱️ Ожидание: -45.0\n– 🔺 💰 Затраты: +200"
          ],
          [
           "Concerts",
           "– 🎉 Добавлены: Бетховен; Шуман; Шопен;  Вариации на тему дуэта Церлины и Дон Жуана из оперы Моцарта «Дон Жуан»;  «Детские сцены»;  Шесть пьес канонической формы (II, IV части);  Этюд, op. 10 № 3;  Этюд, op. 25 № 9;  Мазурка, op. 24 № 2;  Мазурка, op. 7 № 1\n– 👨‍🎤 Новые исполнители: Shepherd trio\n– 🔺 🎟️ Концертов: +1\n– 🔺 🧠 Интеллект: +2.1 баллов\n– 🔺 🛋️ Комфорт: +25.1 баллов\n– 🔻 ⏱️ Ожидание: -45.0\n– 🔺 💰 Затраты: +200"
          ],
          [
           "Concerts",
           "– 🎉 Добавлены: _Прочее;  Музыкально-хореографический спектакль о Красоте в танцевальных движениях\n– 👨‍🎤 Новые исполнители: «ТанцТеатр»\n– 🔺 🎟️ Концертов: +1\n– 🔺 🧠 Интеллект: +0.5 баллов\n– 🔺 🛋️ Комфорт: +26.0 баллов\n– 🔻 ⏱️ Ожидание: -65.0\n– 🔺 💰 Затраты: +200"
          ],
          [
           "Concerts",
           "– 🎉 Добавлены: Мендельсон; Бах И;  Симфония № 10 для струнного оркестра си минор; С. Бранденбургский концерт № 6; С. Бранденбургский концерт № 3\n– 👨‍🎤 Новые исполнители: Дирижёр — Леонид Казаков, Московский камерный оркестр «Musica Viva»\n– 🔺 🎟️ Концертов: +1\n– 🔺 🧠 Интеллект: +0.4 баллов\n– 🔺 🛋️ Комфорт: +15.3 баллов\n– 🔺 🚶 Переходы: +2.0\n– 🔻 ⏱️ Ожидание: -45.0\n– 🔺 💰 Затраты: +200"
          ],
          [
           "Concerts",
           "– 🎉 Добавлены: _Прочее;  Музыка эпохи Возрождения\n– 👨‍🎤 Новые исполнители: Ансамбль ранней музыки «Insula Magica»\n– 🔺 🎟️ Концертов: +1\n– 🔺 🧠 Интеллект: +0.1 баллов\n– 🔺 🛋️ Комфорт: +25.1 баллов\n– 🔻 ⏱️ Ожидание: -45.0\n– 🔺 💰 Затраты: +200"
          ],
          [
           "Concerts",
           "– 🎉 Добавлены: Шуман;  Три фантастические пьесы для виолончели и фортепиано;  Фортепианный квинтет ми-бемоль мажор, ор. 44\n– 👨‍🎤 Новые исполнители: Квартет имени Давида Ойстраха, Юрий Фаворин (фортепиано)\n– 🔺 🎟️ Концертов: +1\n– 🔺 🧠 Интеллект: +0.1 баллов\n– 🔺 🛋️ Комфорт: +25.1 баллов\n– 🔻 ⏱️ Ожидание: -45.0\n– 🔺 💰 Затраты: +200"
          ],
          [
           "Concerts",
           "– 🎉 Добавлены: _Прочее;  Музыка средневековья и эпохи Возрождения\n– 👨‍🎤 Новые исполнители: Ансамбль ранней музыки «Insula Magica»\n– 🔺 🎟️ Концертов: +1\n– 🔺 🧠 Интеллект: +0.1 баллов\n– 🔺 🛋️ Комфорт: +25.1 баллов\n– 🔻 ⏱️ Ожидание: -45.0\n– 🔺 💰 Затраты: +200"
          ]
         ],
         "hovertemplate": "<b>%{hovertext}</b><br><br>Метрика=%{customdata[0]}<br>Альтернатива=%{x}<br>Изменение=%{y}<br>Подсказка=%{customdata[1]}<extra></extra>",
         "hovertext": [
          "Альт #1",
          "Альт #2",
          "Альт #3",
          "Альт #4",
          "Альт #5",
          "Альт #6",
          "Альт #7",
          "Альт #8",
          "Альт #9",
          "Альт #10"
         ],
         "legendgroup": "Concerts",
         "marker": {
          "color": "#FFA15A",
          "pattern": {
           "shape": ""
          }
         },
         "name": "Concerts",
         "offsetgroup": "Concerts",
         "orientation": "v",
         "showlegend": true,
         "textposition": "auto",
         "type": "bar",
         "x": [
          "Альт #1",
          "Альт #2",
          "Альт #3",
          "Альт #4",
          "Альт #5",
          "Альт #6",
          "Альт #7",
          "Альт #8",
          "Альт #9",
          "Альт #10"
         ],
         "xaxis": "x",
         "y": [
          1,
          1,
          1,
          1,
          1,
          1,
          1,
          1,
          1,
          1
         ],
         "yaxis": "y"
        }
       ],
       "layout": {
        "bargap": 0.2,
        "barmode": "group",
        "height": 600,
        "legend": {
         "title": {
          "text": "Метрика"
         },
         "tracegroupgap": 0
        },
        "margin": {
         "t": 60
        },
        "template": {
         "data": {
          "bar": [
           {
            "error_x": {
             "color": "#2a3f5f"
            },
            "error_y": {
             "color": "#2a3f5f"
            },
            "marker": {
             "line": {
              "color": "#E5ECF6",
              "width": 0.5
             },
             "pattern": {
              "fillmode": "overlay",
              "size": 10,
              "solidity": 0.2
             }
            },
            "type": "bar"
           }
          ],
          "barpolar": [
           {
            "marker": {
             "line": {
              "color": "#E5ECF6",
              "width": 0.5
             },
             "pattern": {
              "fillmode": "overlay",
              "size": 10,
              "solidity": 0.2
             }
            },
            "type": "barpolar"
           }
          ],
          "carpet": [
           {
            "aaxis": {
             "endlinecolor": "#2a3f5f",
             "gridcolor": "white",
             "linecolor": "white",
             "minorgridcolor": "white",
             "startlinecolor": "#2a3f5f"
            },
            "baxis": {
             "endlinecolor": "#2a3f5f",
             "gridcolor": "white",
             "linecolor": "white",
             "minorgridcolor": "white",
             "startlinecolor": "#2a3f5f"
            },
            "type": "carpet"
           }
          ],
          "choropleth": [
           {
            "colorbar": {
             "outlinewidth": 0,
             "ticks": ""
            },
            "type": "choropleth"
           }
          ],
          "contour": [
           {
            "colorbar": {
             "outlinewidth": 0,
             "ticks": ""
            },
            "colorscale": [
             [
              0,
              "#0d0887"
             ],
             [
              0.1111111111111111,
              "#46039f"
             ],
             [
              0.2222222222222222,
              "#7201a8"
             ],
             [
              0.3333333333333333,
              "#9c179e"
             ],
             [
              0.4444444444444444,
              "#bd3786"
             ],
             [
              0.5555555555555556,
              "#d8576b"
             ],
             [
              0.6666666666666666,
              "#ed7953"
             ],
             [
              0.7777777777777778,
              "#fb9f3a"
             ],
             [
              0.8888888888888888,
              "#fdca26"
             ],
             [
              1,
              "#f0f921"
             ]
            ],
            "type": "contour"
           }
          ],
          "contourcarpet": [
           {
            "colorbar": {
             "outlinewidth": 0,
             "ticks": ""
            },
            "type": "contourcarpet"
           }
          ],
          "heatmap": [
           {
            "colorbar": {
             "outlinewidth": 0,
             "ticks": ""
            },
            "colorscale": [
             [
              0,
              "#0d0887"
             ],
             [
              0.1111111111111111,
              "#46039f"
             ],
             [
              0.2222222222222222,
              "#7201a8"
             ],
             [
              0.3333333333333333,
              "#9c179e"
             ],
             [
              0.4444444444444444,
              "#bd3786"
             ],
             [
              0.5555555555555556,
              "#d8576b"
             ],
             [
              0.6666666666666666,
              "#ed7953"
             ],
             [
              0.7777777777777778,
              "#fb9f3a"
             ],
             [
              0.8888888888888888,
              "#fdca26"
             ],
             [
              1,
              "#f0f921"
             ]
            ],
            "type": "heatmap"
           }
          ],
          "heatmapgl": [
           {
            "colorbar": {
             "outlinewidth": 0,
             "ticks": ""
            },
            "colorscale": [
             [
              0,
              "#0d0887"
             ],
             [
              0.1111111111111111,
              "#46039f"
             ],
             [
              0.2222222222222222,
              "#7201a8"
             ],
             [
              0.3333333333333333,
              "#9c179e"
             ],
             [
              0.4444444444444444,
              "#bd3786"
             ],
             [
              0.5555555555555556,
              "#d8576b"
             ],
             [
              0.6666666666666666,
              "#ed7953"
             ],
             [
              0.7777777777777778,
              "#fb9f3a"
             ],
             [
              0.8888888888888888,
              "#fdca26"
             ],
             [
              1,
              "#f0f921"
             ]
            ],
            "type": "heatmapgl"
           }
          ],
          "histogram": [
           {
            "marker": {
             "pattern": {
              "fillmode": "overlay",
              "size": 10,
              "solidity": 0.2
             }
            },
            "type": "histogram"
           }
          ],
          "histogram2d": [
           {
            "colorbar": {
             "outlinewidth": 0,
             "ticks": ""
            },
            "colorscale": [
             [
              0,
              "#0d0887"
             ],
             [
              0.1111111111111111,
              "#46039f"
             ],
             [
              0.2222222222222222,
              "#7201a8"
             ],
             [
              0.3333333333333333,
              "#9c179e"
             ],
             [
              0.4444444444444444,
              "#bd3786"
             ],
             [
              0.5555555555555556,
              "#d8576b"
             ],
             [
              0.6666666666666666,
              "#ed7953"
             ],
             [
              0.7777777777777778,
              "#fb9f3a"
             ],
             [
              0.8888888888888888,
              "#fdca26"
             ],
             [
              1,
              "#f0f921"
             ]
            ],
            "type": "histogram2d"
           }
          ],
          "histogram2dcontour": [
           {
            "colorbar": {
             "outlinewidth": 0,
             "ticks": ""
            },
            "colorscale": [
             [
              0,
              "#0d0887"
             ],
             [
              0.1111111111111111,
              "#46039f"
             ],
             [
              0.2222222222222222,
              "#7201a8"
             ],
             [
              0.3333333333333333,
              "#9c179e"
             ],
             [
              0.4444444444444444,
              "#bd3786"
             ],
             [
              0.5555555555555556,
              "#d8576b"
             ],
             [
              0.6666666666666666,
              "#ed7953"
             ],
             [
              0.7777777777777778,
              "#fb9f3a"
             ],
             [
              0.8888888888888888,
              "#fdca26"
             ],
             [
              1,
              "#f0f921"
             ]
            ],
            "type": "histogram2dcontour"
           }
          ],
          "mesh3d": [
           {
            "colorbar": {
             "outlinewidth": 0,
             "ticks": ""
            },
            "type": "mesh3d"
           }
          ],
          "parcoords": [
           {
            "line": {
             "colorbar": {
              "outlinewidth": 0,
              "ticks": ""
             }
            },
            "type": "parcoords"
           }
          ],
          "pie": [
           {
            "automargin": true,
            "type": "pie"
           }
          ],
          "scatter": [
           {
            "fillpattern": {
             "fillmode": "overlay",
             "size": 10,
             "solidity": 0.2
            },
            "type": "scatter"
           }
          ],
          "scatter3d": [
           {
            "line": {
             "colorbar": {
              "outlinewidth": 0,
              "ticks": ""
             }
            },
            "marker": {
             "colorbar": {
              "outlinewidth": 0,
              "ticks": ""
             }
            },
            "type": "scatter3d"
           }
          ],
          "scattercarpet": [
           {
            "marker": {
             "colorbar": {
              "outlinewidth": 0,
              "ticks": ""
             }
            },
            "type": "scattercarpet"
           }
          ],
          "scattergeo": [
           {
            "marker": {
             "colorbar": {
              "outlinewidth": 0,
              "ticks": ""
             }
            },
            "type": "scattergeo"
           }
          ],
          "scattergl": [
           {
            "marker": {
             "colorbar": {
              "outlinewidth": 0,
              "ticks": ""
             }
            },
            "type": "scattergl"
           }
          ],
          "scattermapbox": [
           {
            "marker": {
             "colorbar": {
              "outlinewidth": 0,
              "ticks": ""
             }
            },
            "type": "scattermapbox"
           }
          ],
          "scatterpolar": [
           {
            "marker": {
             "colorbar": {
              "outlinewidth": 0,
              "ticks": ""
             }
            },
            "type": "scatterpolar"
           }
          ],
          "scatterpolargl": [
           {
            "marker": {
             "colorbar": {
              "outlinewidth": 0,
              "ticks": ""
             }
            },
            "type": "scatterpolargl"
           }
          ],
          "scatterternary": [
           {
            "marker": {
             "colorbar": {
              "outlinewidth": 0,
              "ticks": ""
             }
            },
            "type": "scatterternary"
           }
          ],
          "surface": [
           {
            "colorbar": {
             "outlinewidth": 0,
             "ticks": ""
            },
            "colorscale": [
             [
              0,
              "#0d0887"
             ],
             [
              0.1111111111111111,
              "#46039f"
             ],
             [
              0.2222222222222222,
              "#7201a8"
             ],
             [
              0.3333333333333333,
              "#9c179e"
             ],
             [
              0.4444444444444444,
              "#bd3786"
             ],
             [
              0.5555555555555556,
              "#d8576b"
             ],
             [
              0.6666666666666666,
              "#ed7953"
             ],
             [
              0.7777777777777778,
              "#fb9f3a"
             ],
             [
              0.8888888888888888,
              "#fdca26"
             ],
             [
              1,
              "#f0f921"
             ]
            ],
            "type": "surface"
           }
          ],
          "table": [
           {
            "cells": {
             "fill": {
              "color": "#EBF0F8"
             },
             "line": {
              "color": "white"
             }
            },
            "header": {
             "fill": {
              "color": "#C8D4E3"
             },
             "line": {
              "color": "white"
             }
            },
            "type": "table"
           }
          ]
         },
         "layout": {
          "annotationdefaults": {
           "arrowcolor": "#2a3f5f",
           "arrowhead": 0,
           "arrowwidth": 1
          },
          "autotypenumbers": "strict",
          "coloraxis": {
           "colorbar": {
            "outlinewidth": 0,
            "ticks": ""
           }
          },
          "colorscale": {
           "diverging": [
            [
             0,
             "#8e0152"
            ],
            [
             0.1,
             "#c51b7d"
            ],
            [
             0.2,
             "#de77ae"
            ],
            [
             0.3,
             "#f1b6da"
            ],
            [
             0.4,
             "#fde0ef"
            ],
            [
             0.5,
             "#f7f7f7"
            ],
            [
             0.6,
             "#e6f5d0"
            ],
            [
             0.7,
             "#b8e186"
            ],
            [
             0.8,
             "#7fbc41"
            ],
            [
             0.9,
             "#4d9221"
            ],
            [
             1,
             "#276419"
            ]
           ],
           "sequential": [
            [
             0,
             "#0d0887"
            ],
            [
             0.1111111111111111,
             "#46039f"
            ],
            [
             0.2222222222222222,
             "#7201a8"
            ],
            [
             0.3333333333333333,
             "#9c179e"
            ],
            [
             0.4444444444444444,
             "#bd3786"
            ],
            [
             0.5555555555555556,
             "#d8576b"
            ],
            [
             0.6666666666666666,
             "#ed7953"
            ],
            [
             0.7777777777777778,
             "#fb9f3a"
            ],
            [
             0.8888888888888888,
             "#fdca26"
            ],
            [
             1,
             "#f0f921"
            ]
           ],
           "sequentialminus": [
            [
             0,
             "#0d0887"
            ],
            [
             0.1111111111111111,
             "#46039f"
            ],
            [
             0.2222222222222222,
             "#7201a8"
            ],
            [
             0.3333333333333333,
             "#9c179e"
            ],
            [
             0.4444444444444444,
             "#bd3786"
            ],
            [
             0.5555555555555556,
             "#d8576b"
            ],
            [
             0.6666666666666666,
             "#ed7953"
            ],
            [
             0.7777777777777778,
             "#fb9f3a"
            ],
            [
             0.8888888888888888,
             "#fdca26"
            ],
            [
             1,
             "#f0f921"
            ]
           ]
          },
          "colorway": [
           "#636efa",
           "#EF553B",
           "#00cc96",
           "#ab63fa",
           "#FFA15A",
           "#19d3f3",
           "#FF6692",
           "#B6E880",
           "#FF97FF",
           "#FECB52"
          ],
          "font": {
           "color": "#2a3f5f"
          },
          "geo": {
           "bgcolor": "white",
           "lakecolor": "white",
           "landcolor": "#E5ECF6",
           "showlakes": true,
           "showland": true,
           "subunitcolor": "white"
          },
          "hoverlabel": {
           "align": "left"
          },
          "hovermode": "closest",
          "mapbox": {
           "style": "light"
          },
          "paper_bgcolor": "white",
          "plot_bgcolor": "#E5ECF6",
          "polar": {
           "angularaxis": {
            "gridcolor": "white",
            "linecolor": "white",
            "ticks": ""
           },
           "bgcolor": "#E5ECF6",
           "radialaxis": {
            "gridcolor": "white",
            "linecolor": "white",
            "ticks": ""
           }
          },
          "scene": {
           "xaxis": {
            "backgroundcolor": "#E5ECF6",
            "gridcolor": "white",
            "gridwidth": 2,
            "linecolor": "white",
            "showbackground": true,
            "ticks": "",
            "zerolinecolor": "white"
           },
           "yaxis": {
            "backgroundcolor": "#E5ECF6",
            "gridcolor": "white",
            "gridwidth": 2,
            "linecolor": "white",
            "showbackground": true,
            "ticks": "",
            "zerolinecolor": "white"
           },
           "zaxis": {
            "backgroundcolor": "#E5ECF6",
            "gridcolor": "white",
            "gridwidth": 2,
            "linecolor": "white",
            "showbackground": true,
            "ticks": "",
            "zerolinecolor": "white"
           }
          },
          "shapedefaults": {
           "line": {
            "color": "#2a3f5f"
           }
          },
          "ternary": {
           "aaxis": {
            "gridcolor": "white",
            "linecolor": "white",
            "ticks": ""
           },
           "baxis": {
            "gridcolor": "white",
            "linecolor": "white",
            "ticks": ""
           },
           "bgcolor": "#E5ECF6",
           "caxis": {
            "gridcolor": "white",
            "linecolor": "white",
            "ticks": ""
           }
          },
          "title": {
           "x": 0.05
          },
          "xaxis": {
           "automargin": true,
           "gridcolor": "white",
           "linecolor": "white",
           "ticks": "",
           "title": {
            "standoff": 15
           },
           "zerolinecolor": "white",
           "zerolinewidth": 2
          },
          "yaxis": {
           "automargin": true,
           "gridcolor": "white",
           "linecolor": "white",
           "ticks": "",
           "title": {
            "standoff": 15
           },
           "zerolinecolor": "white",
           "zerolinewidth": 2
          }
         }
        },
        "title": {
         "text": "📊 Отличия альтернативных маршрутов от исходного"
        },
        "xaxis": {
         "anchor": "y",
         "domain": [
          0,
          1
         ],
         "title": {
          "text": "Альтернативы"
         }
        },
        "yaxis": {
         "anchor": "x",
         "domain": [
          0,
          1
         ],
         "showgrid": true,
         "title": {
          "text": "Изменение (альтернатива – исходный)"
         },
         "zeroline": true,
         "zerolinecolor": "gray",
         "zerolinewidth": 2
        }
       }
      }
     },
     "metadata": {},
     "output_type": "display_data"
    }
   ],
   "source": [
    "import pandas as pd\n",
    "import ast\n",
    "from collections import defaultdict\n",
    "from sklearn.metrics import jaccard_score\n",
    "from sklearn.preprocessing import MultiLabelBinarizer\n",
    "import plotly.express as px\n",
    "\n",
    "# === Загрузка данных ===\n",
    "df_routes = pd.read_csv(\"RouteRange_with_GMM.csv\")\n",
    "df_routes[\"Sostav\"] = df_routes[\"Sostav\"].apply(ast.literal_eval)\n",
    "df_shows = pd.read_excel(\"data_clean/show_details.xlsx\")\n",
    "df_artists = pd.read_excel(\"data_clean/artist_details.xlsx\")\n",
    "df_shows.columns = df_shows.columns.str.strip()\n",
    "df_artists.columns = df_artists.columns.str.strip()\n",
    "\n",
    "# === Справочники ===\n",
    "concert_name_map = defaultdict(str)\n",
    "for show_id, group in df_shows.groupby(\"ShowNum\"):\n",
    "    authors = group[\"Author\"].dropna().unique()\n",
    "    programs = group[\"Programm\"].dropna().unique()\n",
    "    parts = list(authors) + list(programs)\n",
    "    concert_name_map[show_id] = \"; \".join(parts)\n",
    "\n",
    "artist_map = defaultdict(list)\n",
    "for show_id, group in df_artists.groupby(\"ShowNum\"):\n",
    "    artists = group[\"Artists\"].dropna().tolist()\n",
    "    artist_map[show_id] = artists\n",
    "\n",
    "# === Описание альтернатив ===\n",
    "def describe_alternative(ref_row, alt_row, concert_name_map, artist_map):\n",
    "    ref_set = set(ref_row[\"Sostav\"])\n",
    "    alt_set = set(alt_row[\"Sostav\"])\n",
    "    removed_ids = sorted(ref_set - alt_set)\n",
    "    added_ids = sorted(alt_set - ref_set)\n",
    "\n",
    "    def fmt_names(ids):\n",
    "        return \"; \".join(concert_name_map.get(i, f\"Концерт #{i}\") for i in ids)\n",
    "\n",
    "    summary = []\n",
    "    if removed_ids:\n",
    "        summary.append(f\"– 🎭 Убраны: {fmt_names(removed_ids)}\")\n",
    "    if added_ids:\n",
    "        summary.append(f\"– 🎉 Добавлены: {fmt_names(added_ids)}\")\n",
    "\n",
    "    def get_artists(ids):\n",
    "        result = set()\n",
    "        for i in ids:\n",
    "            result.update(artist_map.get(i, []))\n",
    "        return result\n",
    "\n",
    "    removed_artists = get_artists(removed_ids)\n",
    "    added_artists = get_artists(added_ids)\n",
    "    common_artists = get_artists(ref_set & alt_set)\n",
    "\n",
    "    new_artists = added_artists - common_artists\n",
    "    gone_artists = removed_artists - common_artists\n",
    "\n",
    "    if gone_artists:\n",
    "        summary.append(f\"– 🎤 Без: {', '.join(sorted(gone_artists))}\")\n",
    "    if new_artists:\n",
    "        summary.append(f\"– 👨‍🎤 Новые исполнители: {', '.join(sorted(new_artists))}\")\n",
    "\n",
    "    score_keys = {\n",
    "        \"Concerts\": \"🎟️ Концертов\",\n",
    "        \"IntellectScore\": \"🧠 Интеллект\",\n",
    "        \"ComfortScore\": \"🛋️ Комфорт\",\n",
    "        \"TransTime\": \"🚶 Переходы\",\n",
    "        \"WaitTime\": \"⏱️ Ожидание\",\n",
    "        \"Costs\": \"💰 Затраты\"\n",
    "    }\n",
    "\n",
    "    def delta(a, b): return round(b - a, 1)\n",
    "\n",
    "    for key, label in score_keys.items():\n",
    "        old = ref_row.get(key, 0)\n",
    "        new = alt_row.get(key, 0)\n",
    "        diff = delta(old, new)\n",
    "        if diff != 0:\n",
    "            arrow = \"🔺\" if diff > 0 else \"🔻\"\n",
    "            unit = \" баллов\" if \"Score\" in key else \"\"\n",
    "            summary.append(f\"– {arrow} {label}: {diff:+}{unit}\")\n",
    "\n",
    "    return \"\\n\".join(summary)\n",
    "\n",
    "# === Поиск альтернатив ===\n",
    "reference_route = [1, 14, 30]\n",
    "ref_row = df_routes[df_routes[\"Sostav\"].apply(lambda s: set(s) == set(reference_route))].iloc[0]\n",
    "\n",
    "mlb = MultiLabelBinarizer()\n",
    "binary_matrix = mlb.fit_transform(df_routes[\"Sostav\"])\n",
    "ref_binary = mlb.transform([reference_route])[0]\n",
    "df_routes[\"JaccardSimilarity\"] = [jaccard_score(ref_binary, row) for row in binary_matrix]\n",
    "\n",
    "similar_alts = df_routes[(df_routes[\"JaccardSimilarity\"] < 1.0) & (df_routes[\"JaccardSimilarity\"] > 0)].copy()\n",
    "similar_alts[\"ConcertsDiff\"] = (similar_alts[\"Concerts\"] - len(reference_route)).abs()\n",
    "similar_alts = similar_alts.sort_values(\n",
    "    by=[\"JaccardSimilarity\", \"ConcertsDiff\", \"IntellectScore\", \"ComfortScore\"],\n",
    "    ascending=[False, True, False, False]\n",
    ")\n",
    "\n",
    "# === Подготовка данных для визуализации ===\n",
    "metrics = [\"IntellectScore\", \"ComfortScore\", \"TransTime\", \"WaitTime\", \"Concerts\"]\n",
    "delta_data = []\n",
    "hover_texts = []\n",
    "\n",
    "for idx, (_, alt_row) in enumerate(similar_alts.head(10).iterrows()):\n",
    "    label = f\"Альт #{idx+1}\"\n",
    "    deltas = {m: round(alt_row[m] - ref_row[m], 1) for m in metrics}\n",
    "    for m, delta in deltas.items():\n",
    "        delta_data.append({\n",
    "            \"Альтернатива\": label,\n",
    "            \"Метрика\": m,\n",
    "            \"Изменение\": delta\n",
    "        })\n",
    "    explanation = describe_alternative(ref_row, alt_row, concert_name_map, artist_map)\n",
    "    hover_texts.append((label, explanation))\n",
    "\n",
    "df_viz = pd.DataFrame(delta_data)\n",
    "df_viz[\"Подсказка\"] = df_viz[\"Альтернатива\"].map(dict(hover_texts))\n",
    "\n",
    "# === Визуализация Plotly ===\n",
    "fig = px.bar(\n",
    "    df_viz,\n",
    "    x=\"Альтернатива\",\n",
    "    y=\"Изменение\",\n",
    "    color=\"Метрика\",\n",
    "    barmode=\"group\",\n",
    "    hover_name=\"Альтернатива\",\n",
    "    hover_data={\"Метрика\": True, \"Изменение\": True, \"Подсказка\": True}\n",
    ")\n",
    "\n",
    "fig.update_layout(\n",
    "    title=\"📊 Отличия альтернативных маршрутов от исходного\",\n",
    "    yaxis_title=\"Изменение (альтернатива – исходный)\",\n",
    "    xaxis_title=\"Альтернативы\",\n",
    "    legend_title=\"Метрика\",\n",
    "    bargap=0.2,\n",
    "    height=600\n",
    ")\n",
    "\n",
    "fig.update_yaxes(showgrid=True, zeroline=True, zerolinewidth=2, zerolinecolor='gray')\n",
    "fig.show()\n"
   ]
  },
  {
   "cell_type": "markdown",
   "id": "27dc38d7",
   "metadata": {},
   "source": [
    "### Реализаци рекомендаций с нуля"
   ]
  },
  {
   "cell_type": "markdown",
   "id": "6d5a01fa",
   "metadata": {},
   "source": [
    "В неком диапазоне концертов покажем три подборки по 5 позиций: лучшие среди интеллектуальных, среди комформтных и среди сбалансирвоанных."
   ]
  },
  {
   "cell_type": "code",
   "execution_count": 148,
   "id": "8ccfddcc",
   "metadata": {},
   "outputs": [
    {
     "name": "stdout",
     "output_type": "stream",
     "text": [
      "                      Логика  Concerts  IntellectScore  ComfortScore  TransTime  WaitTime  Costs\n",
      " 🧠 Интеллектуальные маршруты         6            74.6          76.0       23.0     200.0 1200.0\n",
      " 🧠 Интеллектуальные маршруты         5            74.4          51.6       23.0     245.0 1000.0\n",
      " 🧠 Интеллектуальные маршруты         5            74.4          77.6       14.0     245.0 1000.0\n",
      " 🧠 Интеллектуальные маршруты         5            74.1          54.4       22.0     245.0 1000.0\n",
      " 🧠 Интеллектуальные маршруты         5            74.0          72.1       16.0     240.0 1000.0\n",
      "      🛋️ Комфортные маршруты         4            64.1          98.7        1.0      90.0  800.0\n",
      "      🛋️ Комфортные маршруты         5            67.5          98.6        3.0     120.0 1000.0\n",
      "      🛋️ Комфортные маршруты         6            43.1          98.5        9.0     135.0 1200.0\n",
      "      🛋️ Комфортные маршруты         6            60.0          98.5        9.0     135.0 1200.0\n",
      "      🛋️ Комфортные маршруты         4            42.0          98.5        1.0      95.0  800.0\n",
      "⚖️ Сбалансированные маршруты         6            74.6          76.0       23.0     200.0 1200.0\n",
      "⚖️ Сбалансированные маршруты         5            74.4          77.6       14.0     245.0 1000.0\n",
      "⚖️ Сбалансированные маршруты         5            74.4          51.6       23.0     245.0 1000.0\n",
      "⚖️ Сбалансированные маршруты         5            74.1          54.4       22.0     245.0 1000.0\n",
      "⚖️ Сбалансированные маршруты         5            74.0          72.1       16.0     240.0 1000.0\n"
     ]
    }
   ],
   "source": [
    "import pandas as pd\n",
    "import ast\n",
    "from collections import defaultdict\n",
    "\n",
    "# === Фильтрация разумных маршрутов (2–4 концерта) ===\n",
    "filtered = df_routes[(df_routes[\"Concerts\"] >= 4) & (df_routes[\"Concerts\"] <= 8)].copy()\n",
    "filtered[\"Sostav_str\"] = filtered[\"Sostav\"].apply(lambda s: \",\".join(map(str, sorted(s))))\n",
    "\n",
    "# === Группировка по уникальному составу маршрута ===\n",
    "grouped = filtered.groupby(\"Sostav_str\").agg({\n",
    "    \"Sostav\": \"first\",\n",
    "    \"Concerts\": \"first\",\n",
    "    \"IntellectScore\": \"mean\",\n",
    "    \"ComfortScore\": \"mean\",\n",
    "    \"TransTime\": \"mean\",\n",
    "    \"WaitTime\": \"mean\",\n",
    "    \"Costs\": \"mean\"\n",
    "}).reset_index(drop=True)\n",
    "\n",
    "# === Логики выбора маршрутов ===\n",
    "top_intellect = grouped.sort_values(by=\"IntellectScore\", ascending=False).head(5).copy()\n",
    "top_comfort = grouped.sort_values(by=\"ComfortScore\", ascending=False).head(5).copy()\n",
    "top_balanced = grouped.sort_values(by=[\"IntellectScore\", \"ComfortScore\"], ascending=[False, False]).head(5).copy()\n",
    "\n",
    "top_intellect[\"Логика\"] = \"🧠 Интеллектуальные маршруты\"\n",
    "top_comfort[\"Логика\"] = \"🛋️ Комфортные маршруты\"\n",
    "top_balanced[\"Логика\"] = \"⚖️ Сбалансированные маршруты\"\n",
    "\n",
    "# === Объединение всех результатов ===\n",
    "recommendations_df = pd.concat([top_intellect, top_comfort, top_balanced], ignore_index=True)\n",
    "\n",
    "# === Форматирование состава маршрута для отображения ===\n",
    "def format_sostav(sostav):\n",
    "    return \"; \".join(concert_name_map.get(i, f\"#{i}\") for i in sostav)\n",
    "\n",
    "recommendations_df[\"Состав маршрута\"] = recommendations_df[\"Sostav\"].apply(format_sostav)\n",
    "\n",
    "# === Вывод таблицы ===\n",
    "cols_to_show = [\n",
    "    \"Логика\", \"Состав маршрута\", \"Concerts\", \n",
    "    \"IntellectScore\", \"ComfortScore\", \"TransTime\", \n",
    "    \"WaitTime\", \"Costs\"\n",
    "]\n",
    "print(recommendations_df[cols_to_show].drop(['Состав маршрута'], axis=1).to_string(index=False))\n"
   ]
  },
  {
   "cell_type": "markdown",
   "id": "136fa7f5",
   "metadata": {},
   "source": [
    "### Советуем чуть умнее"
   ]
  },
  {
   "cell_type": "markdown",
   "id": "a224ec55",
   "metadata": {},
   "source": [
    "Предыдущий вариант нам в любом случае пригодиться - клиент может проигнорировать наши умные вопросы. Но сейчас мы попробуем сформулировать какую-то мини анкету, на основании которой чуть лучше рекомендовать варианты на старте предложений."
   ]
  },
  {
   "cell_type": "code",
   "execution_count": null,
   "id": "88b44c86",
   "metadata": {},
   "outputs": [],
   "source": [
    "# === Анкета пользователя ===\n",
    "user_profile = {\n",
    "    \"priority\": \"balance\",  # intellect / comfort / balance\n",
    "    \"max_concerts\": 4,\n",
    "    \"diversity\": \"mono\",  # mono / diverse / flexible\n",
    "    \"include\": {\n",
    "        \"composers\": [\"Шуман\", \"Шуберт\"],\n",
    "        \"artists\": [],\n",
    "        \"concert_ids\": []\n",
    "    },\n",
    "    \"exclude\": {\n",
    "        \"composers\": [],\n",
    "        \"artists\": [],\n",
    "        \"concert_ids\": []\n",
    "    }\n",
    "}"
   ]
  },
  {
   "cell_type": "code",
   "execution_count": null,
   "id": "09c81092",
   "metadata": {},
   "outputs": [
    {
     "name": "stderr",
     "output_type": "stream",
     "text": [
      "/var/folders/ph/7m0lcx1d1_q_2b1f5fzxch7m0000gn/T/ipykernel_82224/2970883474.py:6: DtypeWarning:\n",
      "\n",
      "Columns (40) have mixed types. Specify dtype option on import or set low_memory=False.\n",
      "\n"
     ]
    },
    {
     "name": "stdout",
     "output_type": "stream",
     "text": [
      "                                                                                                                                                                                                                                             Состав маршрута  \\\n",
      "418  Шуман;  Арабески, ор. 18;  Симфонические этюды, op. 13; Шуман;  Три фантастические пьесы для виолончели и фортепиано;  Фортепианный квинтет ми-бемоль мажор, ор. 44; Шуман; Барток;  Струнный квартет № 3 ля мажор, ор. 41/3;  Румынские народные танцы   \n",
      "411                        Шуман;  Арабески, ор. 18;  Симфонические этюды, op. 13; Шуман;  Три фантастические пьесы для виолончели и фортепиано;  Фортепианный квинтет ми-бемоль мажор, ор. 44; _Прочее;  Авторские композиции и традиционные стили фламенко   \n",
      "31                                                                                       Шуман;  Арабески, ор. 18;  Симфонические этюды, op. 13; Шуман;  Три фантастические пьесы для виолончели и фортепиано;  Фортепианный квинтет ми-бемоль мажор, ор. 44   \n",
      "423                                  Шуман;  Арабески, ор. 18;  Симфонические этюды, op. 13; Шуман;  Три фантастические пьесы для виолончели и фортепиано;  Фортепианный квинтет ми-бемоль мажор, ор. 44; _Прочее;  Музыка средневековья и эпохи Возрождения   \n",
      "427     Шуман;  Арабески, ор. 18;  Симфонические этюды, op. 13; Шуман;  Три фантастические пьесы для виолончели и фортепиано;  Фортепианный квинтет ми-бемоль мажор, ор. 44; Мендельсон;  «Сон в летнюю ночь» для чтецов, солистов, женского хора и оркестра   \n",
      "424                        Шуман;  Арабески, ор. 18;  Симфонические этюды, op. 13; Шуман;  Три фантастические пьесы для виолончели и фортепиано;  Фортепианный квинтет ми-бемоль мажор, ор. 44; _Прочее;  Авторские композиции и традиционные стили фламенко   \n",
      "426  Шуман;  Арабески, ор. 18;  Симфонические этюды, op. 13; Шуман;  Три фантастические пьесы для виолончели и фортепиано;  Фортепианный квинтет ми-бемоль мажор, ор. 44; _Прочее;  Музыкально-хореографический спектакль о Красоте в танцевальных движениях   \n",
      "7                                                                                                                                                Шуман;  Три фантастические пьесы для виолончели и фортепиано;  Фортепианный квинтет ми-бемоль мажор, ор. 44   \n",
      "16                                                                                                                                                                                Шуберт;  Фантазия фа минор;  Вариации на оригинальную тему ля-бемоль мажор   \n",
      "0                                                                                                                                                                                                     Шуман;  Арабески, ор. 18;  Симфонические этюды, op. 13   \n",
      "\n",
      "     Concerts  IntellectScore  ComfortScore  ComposerCount  MainComposerShare  \\\n",
      "418         3            60.1          76.2              2               0.83   \n",
      "411         3            47.4          87.2              2               0.80   \n",
      "31          2            43.4          86.9              1               1.00   \n",
      "423         3            43.3          75.4              2               0.80   \n",
      "427         3            49.6          65.5              2               0.80   \n",
      "424         3            47.4          60.1              2               0.80   \n",
      "426         3            43.4          56.9              2               0.80   \n",
      "7           1            47.0          48.3              1               1.00   \n",
      "16          1            47.0          48.3              1               1.00   \n",
      "0           1            42.9          48.3              1               1.00   \n",
      "\n",
      "     TransTime  WaitTime  Costs  \n",
      "418        6.0     210.0    600  \n",
      "411        6.0      90.0    600  \n",
      "31         0.0      75.0    400  \n",
      "423        0.0     315.0    600  \n",
      "427        2.0     390.0    600  \n",
      "424        7.0     315.0    600  \n",
      "426        7.0     360.0    600  \n",
      "7          0.0       0.0    200  \n",
      "16         0.0       0.0    200  \n",
      "0          0.0       0.0    200  \n"
     ]
    }
   ],
   "source": [
    "import pandas as pd\n",
    "import ast\n",
    "from collections import defaultdict\n",
    "\n",
    "# === Загрузка данных ===\n",
    "df_routes = pd.read_csv(\"RouteRange_with_GMM.csv\")\n",
    "df_routes[\"Sostav\"] = df_routes[\"Sostav\"].apply(ast.literal_eval)\n",
    "\n",
    "df_shows = pd.read_excel(\"data_clean/show_details.xlsx\")\n",
    "df_artists = pd.read_excel(\"data_clean/artist_details.xlsx\")\n",
    "df_shows.columns = df_shows.columns.str.strip()\n",
    "df_artists.columns = df_artists.columns.str.strip()\n",
    "\n",
    "# === Словари концертов ===\n",
    "concert_name_map = defaultdict(str)\n",
    "for show_id, group in df_shows.groupby(\"ShowNum\"):\n",
    "    authors = group[\"Author\"].dropna().unique()\n",
    "    programs = group[\"Programm\"].dropna().unique()\n",
    "    parts = list(authors) + list(programs)\n",
    "    concert_name_map[show_id] = \"; \".join(parts)\n",
    "\n",
    "artist_map = df_artists.groupby(\"ShowNum\")[\"Artists\"].apply(list).to_dict()\n",
    "\n",
    "concert_authors = {\n",
    "    cid: df_shows[df_shows[\"ShowNum\"] == cid][\"Author\"].dropna().tolist()\n",
    "    for cid in df_routes[\"Sostav\"].explode().unique()\n",
    "}\n",
    "\n",
    "# === Метрики разнообразия ===\n",
    "def get_composer_metrics_fast(sostav):\n",
    "    composers = []\n",
    "    for cid in sostav:\n",
    "        composers.extend(concert_authors.get(cid, []))\n",
    "    if not composers:\n",
    "        return 0, 0.0\n",
    "    counts = pd.Series(composers).value_counts()\n",
    "    return len(counts), round(counts.iloc[0] / len(composers), 2)\n",
    "\n",
    "df_routes[\"ComposerCount\"], df_routes[\"MainComposerShare\"] = zip(*df_routes[\"Sostav\"].map(get_composer_metrics_fast))\n",
    "\n",
    "\n",
    "\n",
    "# === Фильтрация маршрутов ===\n",
    "def passes_filters(sostav, include, exclude):\n",
    "    composers = []\n",
    "    artists = []\n",
    "    for cid in sostav:\n",
    "        composers.extend(df_shows[df_shows[\"ShowNum\"] == cid][\"Author\"].dropna().tolist())\n",
    "        artists.extend(artist_map.get(cid, []))\n",
    "\n",
    "    composers = set(composers)\n",
    "    artists = set(artists)\n",
    "    ids = set(sostav)\n",
    "\n",
    "    if include[\"composers\"] and not composers.intersection(include[\"composers\"]):\n",
    "        return False\n",
    "    if include[\"artists\"] and not artists.intersection(include[\"artists\"]):\n",
    "        return False\n",
    "    if include[\"concert_ids\"] and not ids.intersection(include[\"concert_ids\"]):\n",
    "        return False\n",
    "\n",
    "    if composers.intersection(exclude[\"composers\"]):\n",
    "        return False\n",
    "    if artists.intersection(exclude[\"artists\"]):\n",
    "        return False\n",
    "    if ids.intersection(exclude[\"concert_ids\"]):\n",
    "        return False\n",
    "\n",
    "    return True\n",
    "\n",
    "# === Применение фильтров ===\n",
    "filtered = df_routes[df_routes[\"Concerts\"] <= user_profile[\"max_concerts\"]].copy()\n",
    "if user_profile[\"diversity\"] == \"diverse\":\n",
    "    filtered = filtered[filtered[\"ComposerCount\"] >= 3]\n",
    "elif user_profile[\"diversity\"] == \"mono\":\n",
    "    filtered = filtered[filtered[\"MainComposerShare\"] >= 0.8]\n",
    "\n",
    "filtered = filtered[filtered[\"Sostav\"].apply(lambda s: passes_filters(s, user_profile[\"include\"], user_profile[\"exclude\"]))]\n",
    "\n",
    "# === Взвешенное ранжирование ===\n",
    "weights = {\n",
    "    \"intellect\": (1.0, 0.0),\n",
    "    \"comfort\": (0.0, 1.0),\n",
    "    \"balance\": (0.5, 0.5)\n",
    "}\n",
    "w_i, w_c = weights[user_profile[\"priority\"]]\n",
    "filtered[\"WeightedScore\"] = w_i * filtered[\"IntellectScore\"] + w_c * filtered[\"ComfortScore\"]\n",
    "\n",
    "# === Финальный вывод ===\n",
    "top_routes = filtered.sort_values(by=\"WeightedScore\", ascending=False).head(10).copy()\n",
    "top_routes[\"Состав маршрута\"] = top_routes[\"Sostav\"].apply(\n",
    "    lambda s: \"; \".join(concert_name_map.get(i, f\"#{i}\") for i in s)\n",
    ")\n",
    "\n",
    "# Вывод на экран\n",
    "print(top_routes[[\n",
    "    \"Состав маршрута\", \"Concerts\", \"IntellectScore\", \"ComfortScore\",\n",
    "    \"ComposerCount\", \"MainComposerShare\", \"TransTime\", \"WaitTime\", \"Costs\"\n",
    "]])\n"
   ]
  },
  {
   "cell_type": "code",
   "execution_count": 152,
   "id": "5aad1faa",
   "metadata": {},
   "outputs": [
    {
     "data": {
      "application/vnd.plotly.v1+json": {
       "config": {
        "plotlyServerURL": "https://plot.ly"
       },
       "data": [
        {
         "customdata": [
          [
           3,
           68.15,
           "Шуман;  Арабески, ор. 18;  Симфонические этюды, op. 13<br>Шуман;  Три фантастические пьесы для виолончели и фортепиано;  Фортепианный квинтет ми-бемоль мажор, ор. 44<br>Шуман; Барток;  Струнный квартет № 3 ля мажор, ор. 41/3;  Румынские народные танцы"
          ],
          [
           3,
           67.3,
           "Шуман;  Арабески, ор. 18;  Симфонические этюды, op. 13<br>Шуман;  Три фантастические пьесы для виолончели и фортепиано;  Фортепианный квинтет ми-бемоль мажор, ор. 44<br>_Прочее;  Авторские композиции и традиционные стили фламенко"
          ],
          [
           2,
           65.15,
           "Шуман;  Арабески, ор. 18;  Симфонические этюды, op. 13<br>Шуман;  Три фантастические пьесы для виолончели и фортепиано;  Фортепианный квинтет ми-бемоль мажор, ор. 44"
          ],
          [
           3,
           59.35,
           "Шуман;  Арабески, ор. 18;  Симфонические этюды, op. 13<br>Шуман;  Три фантастические пьесы для виолончели и фортепиано;  Фортепианный квинтет ми-бемоль мажор, ор. 44<br>_Прочее;  Музыка средневековья и эпохи Возрождения"
          ],
          [
           3,
           57.55,
           "Шуман;  Арабески, ор. 18;  Симфонические этюды, op. 13<br>Шуман;  Три фантастические пьесы для виолончели и фортепиано;  Фортепианный квинтет ми-бемоль мажор, ор. 44<br>Мендельсон;  «Сон в летнюю ночь» для чтецов, солистов, женского хора и оркестра"
          ],
          [
           3,
           53.75,
           "Шуман;  Арабески, ор. 18;  Симфонические этюды, op. 13<br>Шуман;  Три фантастические пьесы для виолончели и фортепиано;  Фортепианный квинтет ми-бемоль мажор, ор. 44<br>_Прочее;  Авторские композиции и традиционные стили фламенко"
          ],
          [
           3,
           50.15,
           "Шуман;  Арабески, ор. 18;  Симфонические этюды, op. 13<br>Шуман;  Три фантастические пьесы для виолончели и фортепиано;  Фортепианный квинтет ми-бемоль мажор, ор. 44<br>_Прочее;  Музыкально-хореографический спектакль о Красоте в танцевальных движениях"
          ],
          [
           1,
           47.65,
           "Шуман;  Три фантастические пьесы для виолончели и фортепиано;  Фортепианный квинтет ми-бемоль мажор, ор. 44"
          ],
          [
           1,
           47.65,
           "Шуберт;  Фантазия фа минор;  Вариации на оригинальную тему ля-бемоль мажор"
          ],
          [
           1,
           45.599999999999994,
           "Шуман;  Арабески, ор. 18;  Симфонические этюды, op. 13"
          ]
         ],
         "hovertemplate": "<b>%{hovertext}</b><br><br>🧠 Intellect Score=%{x}<br>🛋️ Comfort Score=%{y}<br>Concerts=%{customdata[0]}<br>🎯 Weighted Score=%{marker.color}<br>Описание=%{customdata[2]}<extra></extra>",
         "hovertext": [
          "Маршрут #1",
          "Маршрут #2",
          "Маршрут #3",
          "Маршрут #4",
          "Маршрут #5",
          "Маршрут #6",
          "Маршрут #7",
          "Маршрут #8",
          "Маршрут #9",
          "Маршрут #10"
         ],
         "legendgroup": "",
         "marker": {
          "color": [
           68.15,
           67.3,
           65.15,
           59.35,
           57.55,
           53.75,
           50.15,
           47.65,
           47.65,
           45.599999999999994
          ],
          "coloraxis": "coloraxis",
          "line": {
           "color": "DarkSlateGrey",
           "width": 1
          },
          "size": [
           3,
           3,
           2,
           3,
           3,
           3,
           3,
           1,
           1,
           1
          ],
          "sizemode": "area",
          "sizeref": 0.0075,
          "symbol": "circle"
         },
         "mode": "markers",
         "name": "",
         "orientation": "v",
         "showlegend": false,
         "type": "scatter",
         "x": [
          60.1,
          47.4,
          43.4,
          43.3,
          49.6,
          47.4,
          43.4,
          47,
          47,
          42.9
         ],
         "xaxis": "x",
         "y": [
          76.2,
          87.2,
          86.9,
          75.4,
          65.5,
          60.1,
          56.9,
          48.3,
          48.3,
          48.3
         ],
         "yaxis": "y"
        }
       ],
       "layout": {
        "coloraxis": {
         "colorbar": {
          "title": {
           "text": "🎯 Weighted Score"
          }
         },
         "colorscale": [
          [
           0,
           "#0d0887"
          ],
          [
           0.1111111111111111,
           "#46039f"
          ],
          [
           0.2222222222222222,
           "#7201a8"
          ],
          [
           0.3333333333333333,
           "#9c179e"
          ],
          [
           0.4444444444444444,
           "#bd3786"
          ],
          [
           0.5555555555555556,
           "#d8576b"
          ],
          [
           0.6666666666666666,
           "#ed7953"
          ],
          [
           0.7777777777777778,
           "#fb9f3a"
          ],
          [
           0.8888888888888888,
           "#fdca26"
          ],
          [
           1,
           "#f0f921"
          ]
         ]
        },
        "legend": {
         "itemsizing": "constant",
         "title": {
          "text": "Score"
         },
         "tracegroupgap": 0
        },
        "shapes": [
         {
          "line": {
           "color": "gray",
           "dash": "dash"
          },
          "type": "line",
          "x0": 42.9,
          "x1": 60.1,
          "y0": 42.9,
          "y1": 60.1
         }
        ],
        "template": {
         "data": {
          "bar": [
           {
            "error_x": {
             "color": "#2a3f5f"
            },
            "error_y": {
             "color": "#2a3f5f"
            },
            "marker": {
             "line": {
              "color": "#E5ECF6",
              "width": 0.5
             },
             "pattern": {
              "fillmode": "overlay",
              "size": 10,
              "solidity": 0.2
             }
            },
            "type": "bar"
           }
          ],
          "barpolar": [
           {
            "marker": {
             "line": {
              "color": "#E5ECF6",
              "width": 0.5
             },
             "pattern": {
              "fillmode": "overlay",
              "size": 10,
              "solidity": 0.2
             }
            },
            "type": "barpolar"
           }
          ],
          "carpet": [
           {
            "aaxis": {
             "endlinecolor": "#2a3f5f",
             "gridcolor": "white",
             "linecolor": "white",
             "minorgridcolor": "white",
             "startlinecolor": "#2a3f5f"
            },
            "baxis": {
             "endlinecolor": "#2a3f5f",
             "gridcolor": "white",
             "linecolor": "white",
             "minorgridcolor": "white",
             "startlinecolor": "#2a3f5f"
            },
            "type": "carpet"
           }
          ],
          "choropleth": [
           {
            "colorbar": {
             "outlinewidth": 0,
             "ticks": ""
            },
            "type": "choropleth"
           }
          ],
          "contour": [
           {
            "colorbar": {
             "outlinewidth": 0,
             "ticks": ""
            },
            "colorscale": [
             [
              0,
              "#0d0887"
             ],
             [
              0.1111111111111111,
              "#46039f"
             ],
             [
              0.2222222222222222,
              "#7201a8"
             ],
             [
              0.3333333333333333,
              "#9c179e"
             ],
             [
              0.4444444444444444,
              "#bd3786"
             ],
             [
              0.5555555555555556,
              "#d8576b"
             ],
             [
              0.6666666666666666,
              "#ed7953"
             ],
             [
              0.7777777777777778,
              "#fb9f3a"
             ],
             [
              0.8888888888888888,
              "#fdca26"
             ],
             [
              1,
              "#f0f921"
             ]
            ],
            "type": "contour"
           }
          ],
          "contourcarpet": [
           {
            "colorbar": {
             "outlinewidth": 0,
             "ticks": ""
            },
            "type": "contourcarpet"
           }
          ],
          "heatmap": [
           {
            "colorbar": {
             "outlinewidth": 0,
             "ticks": ""
            },
            "colorscale": [
             [
              0,
              "#0d0887"
             ],
             [
              0.1111111111111111,
              "#46039f"
             ],
             [
              0.2222222222222222,
              "#7201a8"
             ],
             [
              0.3333333333333333,
              "#9c179e"
             ],
             [
              0.4444444444444444,
              "#bd3786"
             ],
             [
              0.5555555555555556,
              "#d8576b"
             ],
             [
              0.6666666666666666,
              "#ed7953"
             ],
             [
              0.7777777777777778,
              "#fb9f3a"
             ],
             [
              0.8888888888888888,
              "#fdca26"
             ],
             [
              1,
              "#f0f921"
             ]
            ],
            "type": "heatmap"
           }
          ],
          "heatmapgl": [
           {
            "colorbar": {
             "outlinewidth": 0,
             "ticks": ""
            },
            "colorscale": [
             [
              0,
              "#0d0887"
             ],
             [
              0.1111111111111111,
              "#46039f"
             ],
             [
              0.2222222222222222,
              "#7201a8"
             ],
             [
              0.3333333333333333,
              "#9c179e"
             ],
             [
              0.4444444444444444,
              "#bd3786"
             ],
             [
              0.5555555555555556,
              "#d8576b"
             ],
             [
              0.6666666666666666,
              "#ed7953"
             ],
             [
              0.7777777777777778,
              "#fb9f3a"
             ],
             [
              0.8888888888888888,
              "#fdca26"
             ],
             [
              1,
              "#f0f921"
             ]
            ],
            "type": "heatmapgl"
           }
          ],
          "histogram": [
           {
            "marker": {
             "pattern": {
              "fillmode": "overlay",
              "size": 10,
              "solidity": 0.2
             }
            },
            "type": "histogram"
           }
          ],
          "histogram2d": [
           {
            "colorbar": {
             "outlinewidth": 0,
             "ticks": ""
            },
            "colorscale": [
             [
              0,
              "#0d0887"
             ],
             [
              0.1111111111111111,
              "#46039f"
             ],
             [
              0.2222222222222222,
              "#7201a8"
             ],
             [
              0.3333333333333333,
              "#9c179e"
             ],
             [
              0.4444444444444444,
              "#bd3786"
             ],
             [
              0.5555555555555556,
              "#d8576b"
             ],
             [
              0.6666666666666666,
              "#ed7953"
             ],
             [
              0.7777777777777778,
              "#fb9f3a"
             ],
             [
              0.8888888888888888,
              "#fdca26"
             ],
             [
              1,
              "#f0f921"
             ]
            ],
            "type": "histogram2d"
           }
          ],
          "histogram2dcontour": [
           {
            "colorbar": {
             "outlinewidth": 0,
             "ticks": ""
            },
            "colorscale": [
             [
              0,
              "#0d0887"
             ],
             [
              0.1111111111111111,
              "#46039f"
             ],
             [
              0.2222222222222222,
              "#7201a8"
             ],
             [
              0.3333333333333333,
              "#9c179e"
             ],
             [
              0.4444444444444444,
              "#bd3786"
             ],
             [
              0.5555555555555556,
              "#d8576b"
             ],
             [
              0.6666666666666666,
              "#ed7953"
             ],
             [
              0.7777777777777778,
              "#fb9f3a"
             ],
             [
              0.8888888888888888,
              "#fdca26"
             ],
             [
              1,
              "#f0f921"
             ]
            ],
            "type": "histogram2dcontour"
           }
          ],
          "mesh3d": [
           {
            "colorbar": {
             "outlinewidth": 0,
             "ticks": ""
            },
            "type": "mesh3d"
           }
          ],
          "parcoords": [
           {
            "line": {
             "colorbar": {
              "outlinewidth": 0,
              "ticks": ""
             }
            },
            "type": "parcoords"
           }
          ],
          "pie": [
           {
            "automargin": true,
            "type": "pie"
           }
          ],
          "scatter": [
           {
            "fillpattern": {
             "fillmode": "overlay",
             "size": 10,
             "solidity": 0.2
            },
            "type": "scatter"
           }
          ],
          "scatter3d": [
           {
            "line": {
             "colorbar": {
              "outlinewidth": 0,
              "ticks": ""
             }
            },
            "marker": {
             "colorbar": {
              "outlinewidth": 0,
              "ticks": ""
             }
            },
            "type": "scatter3d"
           }
          ],
          "scattercarpet": [
           {
            "marker": {
             "colorbar": {
              "outlinewidth": 0,
              "ticks": ""
             }
            },
            "type": "scattercarpet"
           }
          ],
          "scattergeo": [
           {
            "marker": {
             "colorbar": {
              "outlinewidth": 0,
              "ticks": ""
             }
            },
            "type": "scattergeo"
           }
          ],
          "scattergl": [
           {
            "marker": {
             "colorbar": {
              "outlinewidth": 0,
              "ticks": ""
             }
            },
            "type": "scattergl"
           }
          ],
          "scattermapbox": [
           {
            "marker": {
             "colorbar": {
              "outlinewidth": 0,
              "ticks": ""
             }
            },
            "type": "scattermapbox"
           }
          ],
          "scatterpolar": [
           {
            "marker": {
             "colorbar": {
              "outlinewidth": 0,
              "ticks": ""
             }
            },
            "type": "scatterpolar"
           }
          ],
          "scatterpolargl": [
           {
            "marker": {
             "colorbar": {
              "outlinewidth": 0,
              "ticks": ""
             }
            },
            "type": "scatterpolargl"
           }
          ],
          "scatterternary": [
           {
            "marker": {
             "colorbar": {
              "outlinewidth": 0,
              "ticks": ""
             }
            },
            "type": "scatterternary"
           }
          ],
          "surface": [
           {
            "colorbar": {
             "outlinewidth": 0,
             "ticks": ""
            },
            "colorscale": [
             [
              0,
              "#0d0887"
             ],
             [
              0.1111111111111111,
              "#46039f"
             ],
             [
              0.2222222222222222,
              "#7201a8"
             ],
             [
              0.3333333333333333,
              "#9c179e"
             ],
             [
              0.4444444444444444,
              "#bd3786"
             ],
             [
              0.5555555555555556,
              "#d8576b"
             ],
             [
              0.6666666666666666,
              "#ed7953"
             ],
             [
              0.7777777777777778,
              "#fb9f3a"
             ],
             [
              0.8888888888888888,
              "#fdca26"
             ],
             [
              1,
              "#f0f921"
             ]
            ],
            "type": "surface"
           }
          ],
          "table": [
           {
            "cells": {
             "fill": {
              "color": "#EBF0F8"
             },
             "line": {
              "color": "white"
             }
            },
            "header": {
             "fill": {
              "color": "#C8D4E3"
             },
             "line": {
              "color": "white"
             }
            },
            "type": "table"
           }
          ]
         },
         "layout": {
          "annotationdefaults": {
           "arrowcolor": "#2a3f5f",
           "arrowhead": 0,
           "arrowwidth": 1
          },
          "autotypenumbers": "strict",
          "coloraxis": {
           "colorbar": {
            "outlinewidth": 0,
            "ticks": ""
           }
          },
          "colorscale": {
           "diverging": [
            [
             0,
             "#8e0152"
            ],
            [
             0.1,
             "#c51b7d"
            ],
            [
             0.2,
             "#de77ae"
            ],
            [
             0.3,
             "#f1b6da"
            ],
            [
             0.4,
             "#fde0ef"
            ],
            [
             0.5,
             "#f7f7f7"
            ],
            [
             0.6,
             "#e6f5d0"
            ],
            [
             0.7,
             "#b8e186"
            ],
            [
             0.8,
             "#7fbc41"
            ],
            [
             0.9,
             "#4d9221"
            ],
            [
             1,
             "#276419"
            ]
           ],
           "sequential": [
            [
             0,
             "#0d0887"
            ],
            [
             0.1111111111111111,
             "#46039f"
            ],
            [
             0.2222222222222222,
             "#7201a8"
            ],
            [
             0.3333333333333333,
             "#9c179e"
            ],
            [
             0.4444444444444444,
             "#bd3786"
            ],
            [
             0.5555555555555556,
             "#d8576b"
            ],
            [
             0.6666666666666666,
             "#ed7953"
            ],
            [
             0.7777777777777778,
             "#fb9f3a"
            ],
            [
             0.8888888888888888,
             "#fdca26"
            ],
            [
             1,
             "#f0f921"
            ]
           ],
           "sequentialminus": [
            [
             0,
             "#0d0887"
            ],
            [
             0.1111111111111111,
             "#46039f"
            ],
            [
             0.2222222222222222,
             "#7201a8"
            ],
            [
             0.3333333333333333,
             "#9c179e"
            ],
            [
             0.4444444444444444,
             "#bd3786"
            ],
            [
             0.5555555555555556,
             "#d8576b"
            ],
            [
             0.6666666666666666,
             "#ed7953"
            ],
            [
             0.7777777777777778,
             "#fb9f3a"
            ],
            [
             0.8888888888888888,
             "#fdca26"
            ],
            [
             1,
             "#f0f921"
            ]
           ]
          },
          "colorway": [
           "#636efa",
           "#EF553B",
           "#00cc96",
           "#ab63fa",
           "#FFA15A",
           "#19d3f3",
           "#FF6692",
           "#B6E880",
           "#FF97FF",
           "#FECB52"
          ],
          "font": {
           "color": "#2a3f5f"
          },
          "geo": {
           "bgcolor": "white",
           "lakecolor": "white",
           "landcolor": "#E5ECF6",
           "showlakes": true,
           "showland": true,
           "subunitcolor": "white"
          },
          "hoverlabel": {
           "align": "left"
          },
          "hovermode": "closest",
          "mapbox": {
           "style": "light"
          },
          "paper_bgcolor": "white",
          "plot_bgcolor": "#E5ECF6",
          "polar": {
           "angularaxis": {
            "gridcolor": "white",
            "linecolor": "white",
            "ticks": ""
           },
           "bgcolor": "#E5ECF6",
           "radialaxis": {
            "gridcolor": "white",
            "linecolor": "white",
            "ticks": ""
           }
          },
          "scene": {
           "xaxis": {
            "backgroundcolor": "#E5ECF6",
            "gridcolor": "white",
            "gridwidth": 2,
            "linecolor": "white",
            "showbackground": true,
            "ticks": "",
            "zerolinecolor": "white"
           },
           "yaxis": {
            "backgroundcolor": "#E5ECF6",
            "gridcolor": "white",
            "gridwidth": 2,
            "linecolor": "white",
            "showbackground": true,
            "ticks": "",
            "zerolinecolor": "white"
           },
           "zaxis": {
            "backgroundcolor": "#E5ECF6",
            "gridcolor": "white",
            "gridwidth": 2,
            "linecolor": "white",
            "showbackground": true,
            "ticks": "",
            "zerolinecolor": "white"
           }
          },
          "shapedefaults": {
           "line": {
            "color": "#2a3f5f"
           }
          },
          "ternary": {
           "aaxis": {
            "gridcolor": "white",
            "linecolor": "white",
            "ticks": ""
           },
           "baxis": {
            "gridcolor": "white",
            "linecolor": "white",
            "ticks": ""
           },
           "bgcolor": "#E5ECF6",
           "caxis": {
            "gridcolor": "white",
            "linecolor": "white",
            "ticks": ""
           }
          },
          "title": {
           "x": 0.05
          },
          "xaxis": {
           "automargin": true,
           "gridcolor": "white",
           "linecolor": "white",
           "ticks": "",
           "title": {
            "standoff": 15
           },
           "zerolinecolor": "white",
           "zerolinewidth": 2
          },
          "yaxis": {
           "automargin": true,
           "gridcolor": "white",
           "linecolor": "white",
           "ticks": "",
           "title": {
            "standoff": 15
           },
           "zerolinecolor": "white",
           "zerolinewidth": 2
          }
         }
        },
        "title": {
         "text": "🎼 Интерактивная визуализация рекомендованных маршрутов"
        },
        "xaxis": {
         "anchor": "y",
         "domain": [
          0,
          1
         ],
         "title": {
          "text": "🧠 Intellect Score"
         }
        },
        "yaxis": {
         "anchor": "x",
         "domain": [
          0,
          1
         ],
         "title": {
          "text": "🛋️ Comfort Score"
         }
        }
       }
      }
     },
     "metadata": {},
     "output_type": "display_data"
    }
   ],
   "source": [
    "import plotly.express as px\n",
    "\n",
    "viz_df = top_routes.copy()\n",
    "viz_df[\"Маршрут\"] = [f\"Маршрут #{i+1}\" for i in range(len(viz_df))]\n",
    "viz_df[\"Описание\"] = viz_df[\"Sostav\"].apply(\n",
    "    lambda s: \"<br>\".join(concert_name_map.get(cid, f\"#{cid}\") for cid in s)\n",
    ")\n",
    "\n",
    "fig = px.scatter(\n",
    "    viz_df,\n",
    "    x=\"IntellectScore\",\n",
    "    y=\"ComfortScore\",\n",
    "    size=\"Concerts\",\n",
    "    color=\"WeightedScore\",\n",
    "    hover_name=\"Маршрут\",\n",
    "    hover_data={\n",
    "        \"IntellectScore\": True,\n",
    "        \"ComfortScore\": True,\n",
    "        \"Concerts\": True,\n",
    "        \"WeightedScore\": True,\n",
    "        \"Описание\": True\n",
    "    },\n",
    "    labels={\n",
    "        \"IntellectScore\": \"🧠 Intellect Score\",\n",
    "        \"ComfortScore\": \"🛋️ Comfort Score\",\n",
    "        \"WeightedScore\": \"🎯 Weighted Score\"\n",
    "    },\n",
    "    title=\"🎼 Интерактивная визуализация рекомендованных маршрутов\"\n",
    ")\n",
    "\n",
    "fig.add_shape(\n",
    "    type=\"line\",\n",
    "    x0=viz_df[\"IntellectScore\"].min(),\n",
    "    y0=viz_df[\"IntellectScore\"].min(),\n",
    "    x1=viz_df[\"IntellectScore\"].max(),\n",
    "    y1=viz_df[\"IntellectScore\"].max(),\n",
    "    line=dict(color=\"gray\", dash=\"dash\"),\n",
    ")\n",
    "\n",
    "fig.update_traces(marker=dict(line=dict(width=1, color='DarkSlateGrey')))\n",
    "fig.update_layout(legend_title_text=\"Score\", legend=dict(itemsizing='constant'))\n",
    "fig.show()\n"
   ]
  },
  {
   "cell_type": "markdown",
   "id": "83692be7",
   "metadata": {},
   "source": [
    "## 🎯 Интерпретация графика маршрутов фестиваля\n",
    "\n",
    "Каждая точка на графике — это **маршрут** (набор концертов), рекомендованный вам по результатам анкеты.\n",
    "\n",
    "---\n",
    "\n",
    "### 🔍 Что означают визуальные элементы:\n",
    "\n",
    "| Элемент                     | Значение                                                                 |\n",
    "|----------------------------|--------------------------------------------------------------------------|\n",
    "| **🧠 Ось X — Intellect Score** | Насколько интеллектуально насыщен маршрут (сложность, глубина программы) |\n",
    "| **🛋️ Ось Y — Comfort Score**   | Насколько маршрут комфортен (удобная логистика, паузы, распределение по времени) |\n",
    "| **🎨 Цвет точки**             | Общий рейтинг маршрута (взвешенный с учётом ваших приоритетов).  \n",
    "Чем **ярче** — тем **лучше** |\n",
    "| **⚪ Размер круга**           | Количество концертов в маршруте. Большой круг — длинный маршрут |\n",
    "| **➖ Пунктирная линия**       | Линия баланса: интеллект = комфорт |\n",
    "\n",
    "---\n",
    "\n",
    "### 🧭 Как читать график:\n",
    "\n",
    "#### ✅ Зона **вдоль пунктирной линии**\n",
    "- Хорошо сбалансированные маршруты: **интересны и не утомляют**\n",
    "- Лучший выбор, если не хотите делать жёсткий перекос\n",
    "\n",
    "#### 🧠 Область **справа от линии**\n",
    "- **Интеллектуально насыщенные** маршруты\n",
    "- Подойдут тем, кто хочет глубокого художественного опыта\n",
    "\n",
    "#### 🛋️ Область **слева от линии**\n",
    "- **Максимально комфортные** маршруты\n",
    "- Подойдут тем, кто ценит лёгкость восприятия и удобство\n",
    "\n",
    "#### 🌟 Цвет и размер:\n",
    "- **Яркий большой круг в правом верхнем углу** — потенциальный **звёздный маршрут**\n",
    "- **Мелкие и тусклые точки** — менее приоритетны\n",
    "\n",
    "---\n",
    "\n",
    "### 🧑‍💼 Пример интерпретации:\n",
    "\n",
    "> 🔍 _«Эта точка — крупный круг, ярко окрашен, и почти на диагонали.  \n",
    "> Значит, это 4-концертный маршрут, хорошо сбалансирован, с высоким общим рейтингом — стоит рассмотреть!»_\n"
   ]
  },
  {
   "cell_type": "markdown",
   "id": "199bc10e",
   "metadata": {},
   "source": [
    "### автоматическая интерпретация"
   ]
  },
  {
   "cell_type": "markdown",
   "id": "e365f974",
   "metadata": {},
   "source": [
    "На уровне слов и акцентов тут еще надо работать, но можно попробовать еще сделать автоматическую интерпретацию, чтобы клиент ыидел маршрут не только в цифрах но и наборе волшебных слов."
   ]
  },
  {
   "cell_type": "code",
   "execution_count": 153,
   "id": "f588b9ed",
   "metadata": {},
   "outputs": [
    {
     "data": {
      "text/html": [
       "<div>\n",
       "<style scoped>\n",
       "    .dataframe tbody tr th:only-of-type {\n",
       "        vertical-align: middle;\n",
       "    }\n",
       "\n",
       "    .dataframe tbody tr th {\n",
       "        vertical-align: top;\n",
       "    }\n",
       "\n",
       "    .dataframe thead th {\n",
       "        text-align: right;\n",
       "    }\n",
       "</style>\n",
       "<table border=\"1\" class=\"dataframe\">\n",
       "  <thead>\n",
       "    <tr style=\"text-align: right;\">\n",
       "      <th></th>\n",
       "      <th>Маршрут</th>\n",
       "      <th>Состав маршрута</th>\n",
       "      <th>Concerts</th>\n",
       "      <th>IntellectScore</th>\n",
       "      <th>ComfortScore</th>\n",
       "      <th>WeightedScore</th>\n",
       "      <th>Интерпретация зоны</th>\n",
       "    </tr>\n",
       "  </thead>\n",
       "  <tbody>\n",
       "    <tr>\n",
       "      <th>418</th>\n",
       "      <td>Маршрут #1</td>\n",
       "      <td>Шуман;  Арабески, ор. 18;  Симфонические этюды, op. 13; Шуман;  Три фантастические пьесы для виолончели и фортепиано;  Фортепианный квинтет ми-бемоль мажор, ор. 44; Шуман; Барток;  Струнный квартет № 3 ля мажор, ор. 41/3;  Румынские народные танцы</td>\n",
       "      <td>3</td>\n",
       "      <td>60.1</td>\n",
       "      <td>76.2</td>\n",
       "      <td>68.15</td>\n",
       "      <td>🛋️ Комфортный маршрут (разница: -16.1)</td>\n",
       "    </tr>\n",
       "    <tr>\n",
       "      <th>411</th>\n",
       "      <td>Маршрут #2</td>\n",
       "      <td>Шуман;  Арабески, ор. 18;  Симфонические этюды, op. 13; Шуман;  Три фантастические пьесы для виолончели и фортепиано;  Фортепианный квинтет ми-бемоль мажор, ор. 44; _Прочее;  Авторские композиции и традиционные стили фламенко</td>\n",
       "      <td>3</td>\n",
       "      <td>47.4</td>\n",
       "      <td>87.2</td>\n",
       "      <td>67.30</td>\n",
       "      <td>🛋️ Комфортный маршрут (разница: -39.8)</td>\n",
       "    </tr>\n",
       "    <tr>\n",
       "      <th>31</th>\n",
       "      <td>Маршрут #3</td>\n",
       "      <td>Шуман;  Арабески, ор. 18;  Симфонические этюды, op. 13; Шуман;  Три фантастические пьесы для виолончели и фортепиано;  Фортепианный квинтет ми-бемоль мажор, ор. 44</td>\n",
       "      <td>2</td>\n",
       "      <td>43.4</td>\n",
       "      <td>86.9</td>\n",
       "      <td>65.15</td>\n",
       "      <td>🛋️ Комфортный маршрут (разница: -43.5)</td>\n",
       "    </tr>\n",
       "    <tr>\n",
       "      <th>423</th>\n",
       "      <td>Маршрут #4</td>\n",
       "      <td>Шуман;  Арабески, ор. 18;  Симфонические этюды, op. 13; Шуман;  Три фантастические пьесы для виолончели и фортепиано;  Фортепианный квинтет ми-бемоль мажор, ор. 44; _Прочее;  Музыка средневековья и эпохи Возрождения</td>\n",
       "      <td>3</td>\n",
       "      <td>43.3</td>\n",
       "      <td>75.4</td>\n",
       "      <td>59.35</td>\n",
       "      <td>🛋️ Комфортный маршрут (разница: -32.1)</td>\n",
       "    </tr>\n",
       "    <tr>\n",
       "      <th>427</th>\n",
       "      <td>Маршрут #5</td>\n",
       "      <td>Шуман;  Арабески, ор. 18;  Симфонические этюды, op. 13; Шуман;  Три фантастические пьесы для виолончели и фортепиано;  Фортепианный квинтет ми-бемоль мажор, ор. 44; Мендельсон;  «Сон в летнюю ночь» для чтецов, солистов, женского хора и оркестра</td>\n",
       "      <td>3</td>\n",
       "      <td>49.6</td>\n",
       "      <td>65.5</td>\n",
       "      <td>57.55</td>\n",
       "      <td>🛋️ Комфортный маршрут (разница: -15.9)</td>\n",
       "    </tr>\n",
       "    <tr>\n",
       "      <th>424</th>\n",
       "      <td>Маршрут #6</td>\n",
       "      <td>Шуман;  Арабески, ор. 18;  Симфонические этюды, op. 13; Шуман;  Три фантастические пьесы для виолончели и фортепиано;  Фортепианный квинтет ми-бемоль мажор, ор. 44; _Прочее;  Авторские композиции и традиционные стили фламенко</td>\n",
       "      <td>3</td>\n",
       "      <td>47.4</td>\n",
       "      <td>60.1</td>\n",
       "      <td>53.75</td>\n",
       "      <td>🛋️ Комфортный маршрут (разница: -12.7)</td>\n",
       "    </tr>\n",
       "    <tr>\n",
       "      <th>426</th>\n",
       "      <td>Маршрут #7</td>\n",
       "      <td>Шуман;  Арабески, ор. 18;  Симфонические этюды, op. 13; Шуман;  Три фантастические пьесы для виолончели и фортепиано;  Фортепианный квинтет ми-бемоль мажор, ор. 44; _Прочее;  Музыкально-хореографический спектакль о Красоте в танцевальных движениях</td>\n",
       "      <td>3</td>\n",
       "      <td>43.4</td>\n",
       "      <td>56.9</td>\n",
       "      <td>50.15</td>\n",
       "      <td>🛋️ Комфортный маршрут (разница: -13.5)</td>\n",
       "    </tr>\n",
       "    <tr>\n",
       "      <th>7</th>\n",
       "      <td>Маршрут #8</td>\n",
       "      <td>Шуман;  Три фантастические пьесы для виолончели и фортепиано;  Фортепианный квинтет ми-бемоль мажор, ор. 44</td>\n",
       "      <td>1</td>\n",
       "      <td>47.0</td>\n",
       "      <td>48.3</td>\n",
       "      <td>47.65</td>\n",
       "      <td>🛋️ Комфортный маршрут (разница: -1.3)</td>\n",
       "    </tr>\n",
       "    <tr>\n",
       "      <th>16</th>\n",
       "      <td>Маршрут #9</td>\n",
       "      <td>Шуберт;  Фантазия фа минор;  Вариации на оригинальную тему ля-бемоль мажор</td>\n",
       "      <td>1</td>\n",
       "      <td>47.0</td>\n",
       "      <td>48.3</td>\n",
       "      <td>47.65</td>\n",
       "      <td>🛋️ Комфортный маршрут (разница: -1.3)</td>\n",
       "    </tr>\n",
       "    <tr>\n",
       "      <th>0</th>\n",
       "      <td>Маршрут #10</td>\n",
       "      <td>Шуман;  Арабески, ор. 18;  Симфонические этюды, op. 13</td>\n",
       "      <td>1</td>\n",
       "      <td>42.9</td>\n",
       "      <td>48.3</td>\n",
       "      <td>45.60</td>\n",
       "      <td>🛋️ Комфортный маршрут (разница: -5.4)</td>\n",
       "    </tr>\n",
       "  </tbody>\n",
       "</table>\n",
       "</div>"
      ],
      "text/plain": [
       "         Маршрут  \\\n",
       "418   Маршрут #1   \n",
       "411   Маршрут #2   \n",
       "31    Маршрут #3   \n",
       "423   Маршрут #4   \n",
       "427   Маршрут #5   \n",
       "424   Маршрут #6   \n",
       "426   Маршрут #7   \n",
       "7     Маршрут #8   \n",
       "16    Маршрут #9   \n",
       "0    Маршрут #10   \n",
       "\n",
       "                                                                                                                                                                                                                                             Состав маршрута  \\\n",
       "418  Шуман;  Арабески, ор. 18;  Симфонические этюды, op. 13; Шуман;  Три фантастические пьесы для виолончели и фортепиано;  Фортепианный квинтет ми-бемоль мажор, ор. 44; Шуман; Барток;  Струнный квартет № 3 ля мажор, ор. 41/3;  Румынские народные танцы   \n",
       "411                        Шуман;  Арабески, ор. 18;  Симфонические этюды, op. 13; Шуман;  Три фантастические пьесы для виолончели и фортепиано;  Фортепианный квинтет ми-бемоль мажор, ор. 44; _Прочее;  Авторские композиции и традиционные стили фламенко   \n",
       "31                                                                                       Шуман;  Арабески, ор. 18;  Симфонические этюды, op. 13; Шуман;  Три фантастические пьесы для виолончели и фортепиано;  Фортепианный квинтет ми-бемоль мажор, ор. 44   \n",
       "423                                  Шуман;  Арабески, ор. 18;  Симфонические этюды, op. 13; Шуман;  Три фантастические пьесы для виолончели и фортепиано;  Фортепианный квинтет ми-бемоль мажор, ор. 44; _Прочее;  Музыка средневековья и эпохи Возрождения   \n",
       "427     Шуман;  Арабески, ор. 18;  Симфонические этюды, op. 13; Шуман;  Три фантастические пьесы для виолончели и фортепиано;  Фортепианный квинтет ми-бемоль мажор, ор. 44; Мендельсон;  «Сон в летнюю ночь» для чтецов, солистов, женского хора и оркестра   \n",
       "424                        Шуман;  Арабески, ор. 18;  Симфонические этюды, op. 13; Шуман;  Три фантастические пьесы для виолончели и фортепиано;  Фортепианный квинтет ми-бемоль мажор, ор. 44; _Прочее;  Авторские композиции и традиционные стили фламенко   \n",
       "426  Шуман;  Арабески, ор. 18;  Симфонические этюды, op. 13; Шуман;  Три фантастические пьесы для виолончели и фортепиано;  Фортепианный квинтет ми-бемоль мажор, ор. 44; _Прочее;  Музыкально-хореографический спектакль о Красоте в танцевальных движениях   \n",
       "7                                                                                                                                                Шуман;  Три фантастические пьесы для виолончели и фортепиано;  Фортепианный квинтет ми-бемоль мажор, ор. 44   \n",
       "16                                                                                                                                                                                Шуберт;  Фантазия фа минор;  Вариации на оригинальную тему ля-бемоль мажор   \n",
       "0                                                                                                                                                                                                     Шуман;  Арабески, ор. 18;  Симфонические этюды, op. 13   \n",
       "\n",
       "     Concerts  IntellectScore  ComfortScore  WeightedScore  \\\n",
       "418         3            60.1          76.2          68.15   \n",
       "411         3            47.4          87.2          67.30   \n",
       "31          2            43.4          86.9          65.15   \n",
       "423         3            43.3          75.4          59.35   \n",
       "427         3            49.6          65.5          57.55   \n",
       "424         3            47.4          60.1          53.75   \n",
       "426         3            43.4          56.9          50.15   \n",
       "7           1            47.0          48.3          47.65   \n",
       "16          1            47.0          48.3          47.65   \n",
       "0           1            42.9          48.3          45.60   \n",
       "\n",
       "                         Интерпретация зоны  \n",
       "418  🛋️ Комфортный маршрут (разница: -16.1)  \n",
       "411  🛋️ Комфортный маршрут (разница: -39.8)  \n",
       "31   🛋️ Комфортный маршрут (разница: -43.5)  \n",
       "423  🛋️ Комфортный маршрут (разница: -32.1)  \n",
       "427  🛋️ Комфортный маршрут (разница: -15.9)  \n",
       "424  🛋️ Комфортный маршрут (разница: -12.7)  \n",
       "426  🛋️ Комфортный маршрут (разница: -13.5)  \n",
       "7     🛋️ Комфортный маршрут (разница: -1.3)  \n",
       "16    🛋️ Комфортный маршрут (разница: -1.3)  \n",
       "0     🛋️ Комфортный маршрут (разница: -5.4)  "
      ]
     },
     "metadata": {},
     "output_type": "display_data"
    }
   ],
   "source": [
    "import pandas as pd\n",
    "\n",
    "# Предположим, что у вас уже есть DataFrame `viz_df` с колонками:\n",
    "# 'Sostav', 'Concerts', 'IntellectScore', 'ComfortScore', 'WeightedScore'\n",
    "\n",
    "# Интерпретация зон на основе разницы\n",
    "def interpret_point(row):\n",
    "    x, y = row[\"IntellectScore\"], row[\"ComfortScore\"]\n",
    "    delta = round(x - y, 1)\n",
    "    \n",
    "    if abs(delta) <= 1:\n",
    "        zone = \"✅ Сбалансированный маршрут\"\n",
    "    elif delta > 1:\n",
    "        zone = \"🧠 Интеллектуально насыщенный маршрут\"\n",
    "    else:\n",
    "        zone = \"🛋️ Комфортный маршрут\"\n",
    "\n",
    "    return f\"{zone} (разница: {delta:+})\"\n",
    "\n",
    "# Добавим названия маршрутов\n",
    "viz_df = top_routes.copy()\n",
    "viz_df[\"Маршрут\"] = [f\"Маршрут #{i+1}\" for i in range(len(viz_df))]\n",
    "\n",
    "# Интерпретация зоны\n",
    "viz_df[\"Интерпретация зоны\"] = viz_df.apply(interpret_point, axis=1)\n",
    "\n",
    "# Добавим расшифровку состава\n",
    "viz_df[\"Состав маршрута\"] = viz_df[\"Sostav\"].apply(\n",
    "    lambda s: \"; \".join(concert_name_map.get(cid, f\"#{cid}\") for cid in s)\n",
    ")\n",
    "\n",
    "# Отображаемые колонки\n",
    "cols_to_show = [\n",
    "    \"Маршрут\", \"Состав маршрута\", \"Concerts\", \"IntellectScore\", \"ComfortScore\",\n",
    "    \"WeightedScore\", \"Интерпретация зоны\"\n",
    "]\n",
    "\n",
    "# Вывод в Jupyter Notebook\n",
    "from IPython.display import display\n",
    "display(viz_df[cols_to_show])\n"
   ]
  },
  {
   "cell_type": "markdown",
   "id": "95f7df35",
   "metadata": {},
   "source": [
    "# ОЦенка реально купленных маршрутов"
   ]
  },
  {
   "cell_type": "markdown",
   "id": "19715c36",
   "metadata": {},
   "source": [
    "Задним числом коненчо насочинять можно много чего. Но будет честно, если мы просто посмотрим, какие маршруты по факту пользователи купили. Сравним их с нашей системой оценок. Поймем что-то про этих людей. И сравним их совокупные решения с нашим набором \"лучших\" (на наш вкус) рекомендаций. "
   ]
  },
  {
   "cell_type": "code",
   "execution_count": 155,
   "id": "44f908eb",
   "metadata": {},
   "outputs": [],
   "source": [
    "import pandas as pd\n",
    "import ast\n",
    "\n",
    "# Загрузка истории покупок за первый день\n",
    "df_ops_day1 = pd.read_excel(\"GoodOperetions-OneDay.xlsx\") #чтобы не путаться, тут транзакции только по концертам первого дня\n",
    "df_ops_day1.columns = df_ops_day1.columns.str.strip()\n",
    "\n",
    "# Группировка по пользователям\n",
    "user_concerts_day1 = (\n",
    "    df_ops_day1.groupby(\"ClientId\")[\"ShowNum\"]\n",
    "    .apply(lambda x: list(set(x)))\n",
    "    .reset_index(name=\"ShowList\")\n",
    ")\n",
    "user_concerts_day1[\"ConcertCount\"] = user_concerts_day1[\"ShowList\"].apply(len)\n",
    "\n",
    "# Отбор пользователей с маршрутами от 3 концертов\n",
    "user_routes_day1 = user_concerts_day1[user_concerts_day1[\"ConcertCount\"] >= 3].copy()\n",
    "\n",
    "# Загрузка рассчитанных маршрутов\n",
    "df_all_routes = pd.read_csv(\"RouteRange_with_GMM.csv\", low_memory=False)\n",
    "df_all_routes[\"Sostav\"] = df_all_routes[\"Sostav\"].apply(ast.literal_eval)\n",
    "\n",
    "# Построение lookup-таблицы: множество концертов -> строка с метриками\n",
    "route_lookup = {\n",
    "    frozenset(row[\"Sostav\"]): row\n",
    "    for _, row in df_all_routes.iterrows()\n",
    "}\n",
    "\n",
    "# Сопоставление маршрутов и сбор метрик\n",
    "rows = []\n",
    "for _, row in user_routes_day1.iterrows():\n",
    "    concerts = row[\"ShowList\"]\n",
    "    route_data = route_lookup.get(frozenset(concerts))\n",
    "    if route_data is not None:\n",
    "        rows.append({\n",
    "            \"ClientId\": row[\"ClientId\"],\n",
    "            \"Concerts\": len(concerts),\n",
    "            \"IntellectScore\": route_data[\"IntellectScore\"],\n",
    "            \"ComfortScore\": route_data[\"ComfortScore\"],\n",
    "            \"TransTime\": route_data[\"TransTime\"],\n",
    "            \"WaitTime\": route_data[\"WaitTime\"],\n",
    "            \"Costs\": route_data[\"Costs\"]\n",
    "        })\n",
    "\n",
    "# Сбор результатов в таблицу\n",
    "df_user_day1_real_routes = pd.DataFrame(rows)\n",
    "\n",
    "df_user_day1_real_routes.to_csv(\"user_day1_routes.csv\", index=False)\n",
    "\n"
   ]
  },
  {
   "cell_type": "code",
   "execution_count": 156,
   "id": "765dd64e",
   "metadata": {},
   "outputs": [
    {
     "data": {
      "text/html": [
       "<div>\n",
       "<style scoped>\n",
       "    .dataframe tbody tr th:only-of-type {\n",
       "        vertical-align: middle;\n",
       "    }\n",
       "\n",
       "    .dataframe tbody tr th {\n",
       "        vertical-align: top;\n",
       "    }\n",
       "\n",
       "    .dataframe thead th {\n",
       "        text-align: right;\n",
       "    }\n",
       "</style>\n",
       "<table border=\"1\" class=\"dataframe\">\n",
       "  <thead>\n",
       "    <tr style=\"text-align: right;\">\n",
       "      <th></th>\n",
       "      <th>ClientId</th>\n",
       "      <th>Concerts</th>\n",
       "      <th>IntellectScore</th>\n",
       "      <th>ComfortScore</th>\n",
       "      <th>TransTime</th>\n",
       "      <th>WaitTime</th>\n",
       "      <th>Costs</th>\n",
       "    </tr>\n",
       "  </thead>\n",
       "  <tbody>\n",
       "    <tr>\n",
       "      <th>0</th>\n",
       "      <td>395</td>\n",
       "      <td>4</td>\n",
       "      <td>45.2</td>\n",
       "      <td>12.5</td>\n",
       "      <td>26.0</td>\n",
       "      <td>345.0</td>\n",
       "      <td>800</td>\n",
       "    </tr>\n",
       "    <tr>\n",
       "      <th>1</th>\n",
       "      <td>472</td>\n",
       "      <td>3</td>\n",
       "      <td>45.5</td>\n",
       "      <td>36.8</td>\n",
       "      <td>13.0</td>\n",
       "      <td>305.0</td>\n",
       "      <td>600</td>\n",
       "    </tr>\n",
       "    <tr>\n",
       "      <th>2</th>\n",
       "      <td>511</td>\n",
       "      <td>4</td>\n",
       "      <td>46.2</td>\n",
       "      <td>55.0</td>\n",
       "      <td>19.0</td>\n",
       "      <td>150.0</td>\n",
       "      <td>800</td>\n",
       "    </tr>\n",
       "    <tr>\n",
       "      <th>3</th>\n",
       "      <td>750</td>\n",
       "      <td>3</td>\n",
       "      <td>38.6</td>\n",
       "      <td>90.5</td>\n",
       "      <td>0.0</td>\n",
       "      <td>165.0</td>\n",
       "      <td>600</td>\n",
       "    </tr>\n",
       "    <tr>\n",
       "      <th>4</th>\n",
       "      <td>902</td>\n",
       "      <td>4</td>\n",
       "      <td>44.4</td>\n",
       "      <td>71.9</td>\n",
       "      <td>10.0</td>\n",
       "      <td>255.0</td>\n",
       "      <td>800</td>\n",
       "    </tr>\n",
       "    <tr>\n",
       "      <th>...</th>\n",
       "      <td>...</td>\n",
       "      <td>...</td>\n",
       "      <td>...</td>\n",
       "      <td>...</td>\n",
       "      <td>...</td>\n",
       "      <td>...</td>\n",
       "      <td>...</td>\n",
       "    </tr>\n",
       "    <tr>\n",
       "      <th>265</th>\n",
       "      <td>99371</td>\n",
       "      <td>3</td>\n",
       "      <td>43.9</td>\n",
       "      <td>89.4</td>\n",
       "      <td>1.0</td>\n",
       "      <td>150.0</td>\n",
       "      <td>600</td>\n",
       "    </tr>\n",
       "    <tr>\n",
       "      <th>266</th>\n",
       "      <td>99373</td>\n",
       "      <td>5</td>\n",
       "      <td>40.8</td>\n",
       "      <td>46.7</td>\n",
       "      <td>28.0</td>\n",
       "      <td>170.0</td>\n",
       "      <td>1000</td>\n",
       "    </tr>\n",
       "    <tr>\n",
       "      <th>267</th>\n",
       "      <td>99411</td>\n",
       "      <td>3</td>\n",
       "      <td>38.6</td>\n",
       "      <td>90.5</td>\n",
       "      <td>0.0</td>\n",
       "      <td>165.0</td>\n",
       "      <td>600</td>\n",
       "    </tr>\n",
       "    <tr>\n",
       "      <th>268</th>\n",
       "      <td>99629</td>\n",
       "      <td>3</td>\n",
       "      <td>43.7</td>\n",
       "      <td>43.5</td>\n",
       "      <td>14.0</td>\n",
       "      <td>165.0</td>\n",
       "      <td>600</td>\n",
       "    </tr>\n",
       "    <tr>\n",
       "      <th>269</th>\n",
       "      <td>99707</td>\n",
       "      <td>3</td>\n",
       "      <td>46.3</td>\n",
       "      <td>63.2</td>\n",
       "      <td>7.0</td>\n",
       "      <td>285.0</td>\n",
       "      <td>600</td>\n",
       "    </tr>\n",
       "  </tbody>\n",
       "</table>\n",
       "<p>270 rows × 7 columns</p>\n",
       "</div>"
      ],
      "text/plain": [
       "     ClientId  Concerts  IntellectScore  ComfortScore  TransTime  WaitTime  \\\n",
       "0         395         4            45.2          12.5       26.0     345.0   \n",
       "1         472         3            45.5          36.8       13.0     305.0   \n",
       "2         511         4            46.2          55.0       19.0     150.0   \n",
       "3         750         3            38.6          90.5        0.0     165.0   \n",
       "4         902         4            44.4          71.9       10.0     255.0   \n",
       "..        ...       ...             ...           ...        ...       ...   \n",
       "265     99371         3            43.9          89.4        1.0     150.0   \n",
       "266     99373         5            40.8          46.7       28.0     170.0   \n",
       "267     99411         3            38.6          90.5        0.0     165.0   \n",
       "268     99629         3            43.7          43.5       14.0     165.0   \n",
       "269     99707         3            46.3          63.2        7.0     285.0   \n",
       "\n",
       "     Costs  \n",
       "0      800  \n",
       "1      600  \n",
       "2      800  \n",
       "3      600  \n",
       "4      800  \n",
       "..     ...  \n",
       "265    600  \n",
       "266   1000  \n",
       "267    600  \n",
       "268    600  \n",
       "269    600  \n",
       "\n",
       "[270 rows x 7 columns]"
      ]
     },
     "execution_count": 156,
     "metadata": {},
     "output_type": "execute_result"
    }
   ],
   "source": [
    "df_user_day1_real_routes"
   ]
  },
  {
   "cell_type": "markdown",
   "id": "f8b6daec",
   "metadata": {},
   "source": [
    "Мы получили характеристики всех пользовательских маршрутов за первый день. ИНтересно будет их оценить визуально"
   ]
  },
  {
   "cell_type": "code",
   "execution_count": 161,
   "id": "26e6e690",
   "metadata": {},
   "outputs": [
    {
     "data": {
      "application/vnd.plotly.v1+json": {
       "config": {
        "plotlyServerURL": "https://plot.ly"
       },
       "data": [
        {
         "customdata": [
          [
           395,
           4,
           800,
           26,
           345
          ],
          [
           472,
           3,
           600,
           13,
           305
          ],
          [
           511,
           4,
           800,
           19,
           150
          ],
          [
           750,
           3,
           600,
           0,
           165
          ],
          [
           902,
           4,
           800,
           10,
           255
          ],
          [
           1055,
           3,
           600,
           10,
           355
          ],
          [
           1148,
           3,
           600,
           8,
           165
          ],
          [
           2013,
           3,
           600,
           1,
           195
          ],
          [
           2619,
           3,
           600,
           7,
           60
          ],
          [
           2812,
           3,
           600,
           7,
           130
          ],
          [
           3048,
           3,
           600,
           14,
           105
          ],
          [
           3152,
           3,
           600,
           15,
           150
          ],
          [
           3345,
           3,
           600,
           0,
           125
          ],
          [
           3545,
           3,
           600,
           14,
           125
          ],
          [
           3572,
           3,
           600,
           15,
           435
          ],
          [
           3632,
           3,
           600,
           15,
           120
          ],
          [
           4005,
           3,
           600,
           16,
           280
          ],
          [
           4240,
           3,
           600,
           9,
           105
          ],
          [
           4832,
           4,
           800,
           17,
           315
          ],
          [
           4957,
           3,
           600,
           12,
           135
          ],
          [
           5621,
           3,
           600,
           22,
           125
          ],
          [
           5752,
           4,
           800,
           3,
           75
          ],
          [
           6164,
           4,
           800,
           2,
           150
          ],
          [
           6729,
           4,
           800,
           4,
           310
          ],
          [
           6780,
           4,
           800,
           32,
           210
          ],
          [
           6809,
           3,
           600,
           14,
           90
          ],
          [
           7057,
           3,
           600,
           16,
           115
          ],
          [
           8095,
           5,
           1000,
           15,
           320
          ],
          [
           8600,
           4,
           800,
           3,
           150
          ],
          [
           8694,
           3,
           600,
           1,
           110
          ],
          [
           8996,
           4,
           800,
           18,
           225
          ],
          [
           9022,
           4,
           800,
           21,
           180
          ],
          [
           9584,
           4,
           800,
           3,
           75
          ],
          [
           9905,
           3,
           600,
           6,
           210
          ],
          [
           10526,
           3,
           600,
           12,
           110
          ],
          [
           11011,
           5,
           1000,
           15,
           300
          ],
          [
           13992,
           4,
           800,
           14,
           255
          ],
          [
           14680,
           4,
           800,
           13,
           150
          ],
          [
           15823,
           3,
           600,
           2,
           130
          ],
          [
           16321,
           3,
           600,
           18,
           315
          ],
          [
           16467,
           4,
           800,
           1,
           190
          ],
          [
           17286,
           5,
           1000,
           22,
           210
          ],
          [
           17370,
           3,
           600,
           7,
           150
          ],
          [
           17731,
           4,
           800,
           15,
           105
          ],
          [
           17747,
           3,
           600,
           8,
           260
          ],
          [
           17761,
           5,
           1000,
           27,
           225
          ],
          [
           18177,
           3,
           600,
           3,
           225
          ],
          [
           19020,
           5,
           1000,
           11,
           265
          ],
          [
           19927,
           3,
           600,
           9,
           180
          ],
          [
           20055,
           3,
           600,
           1,
           105
          ],
          [
           20650,
           5,
           1000,
           20,
           195
          ],
          [
           21434,
           3,
           600,
           12,
           330
          ],
          [
           21971,
           4,
           800,
           13,
           130
          ],
          [
           22230,
           5,
           1000,
           3,
           260
          ],
          [
           22577,
           3,
           600,
           24,
           285
          ],
          [
           22585,
           3,
           600,
           7,
           195
          ],
          [
           23469,
           3,
           600,
           0,
           145
          ],
          [
           25679,
           3,
           600,
           9,
           105
          ],
          [
           25875,
           3,
           600,
           13,
           35
          ],
          [
           26126,
           3,
           600,
           1,
           290
          ],
          [
           26168,
           3,
           600,
           8,
           360
          ],
          [
           26252,
           3,
           600,
           1,
           110
          ],
          [
           26356,
           3,
           600,
           1,
           85
          ],
          [
           27008,
           3,
           600,
           1,
           30
          ],
          [
           28156,
           4,
           800,
           10,
           255
          ],
          [
           28167,
           3,
           600,
           1,
           150
          ],
          [
           28860,
           3,
           600,
           13,
           130
          ],
          [
           29091,
           3,
           600,
           7,
           90
          ],
          [
           29228,
           5,
           1000,
           21,
           180
          ],
          [
           29609,
           4,
           800,
           13,
           235
          ],
          [
           29705,
           3,
           600,
           14,
           125
          ],
          [
           30133,
           4,
           800,
           7,
           240
          ],
          [
           30277,
           3,
           600,
           9,
           95
          ],
          [
           31054,
           4,
           800,
           16,
           130
          ],
          [
           31247,
           3,
           600,
           8,
           260
          ],
          [
           31877,
           5,
           1000,
           23,
           265
          ],
          [
           31885,
           4,
           800,
           16,
           285
          ],
          [
           32287,
           3,
           600,
           8,
           195
          ],
          [
           32323,
           3,
           600,
           7,
           130
          ],
          [
           32827,
           3,
           600,
           0,
           300
          ],
          [
           33532,
           5,
           1000,
           14,
           245
          ],
          [
           33551,
           3,
           600,
           2,
           120
          ],
          [
           33962,
           3,
           600,
           19,
           315
          ],
          [
           34860,
           4,
           800,
           7,
           250
          ],
          [
           36226,
           3,
           600,
           3,
           330
          ],
          [
           36347,
           3,
           600,
           20,
           105
          ],
          [
           36570,
           3,
           600,
           7,
           255
          ],
          [
           36613,
           3,
           600,
           2,
           110
          ],
          [
           37425,
           3,
           600,
           13,
           280
          ],
          [
           38636,
           3,
           600,
           7,
           260
          ],
          [
           39436,
           3,
           600,
           3,
           115
          ],
          [
           39448,
           4,
           800,
           8,
           210
          ],
          [
           40147,
           4,
           800,
           17,
           180
          ],
          [
           40553,
           3,
           600,
           0,
           300
          ],
          [
           40900,
           3,
           600,
           7,
           75
          ],
          [
           41082,
           3,
           600,
           8,
           205
          ],
          [
           41345,
           3,
           600,
           14,
           125
          ],
          [
           41677,
           3,
           600,
           14,
           105
          ],
          [
           41937,
           3,
           600,
           16,
           115
          ],
          [
           43871,
           3,
           600,
           1,
           195
          ],
          [
           43984,
           3,
           600,
           2,
           405
          ],
          [
           45749,
           3,
           600,
           13,
           150
          ],
          [
           46033,
           3,
           600,
           15,
           180
          ],
          [
           46288,
           3,
           600,
           2,
           385
          ],
          [
           46836,
           3,
           600,
           14,
           155
          ],
          [
           47278,
           3,
           600,
           2,
           110
          ],
          [
           47565,
           3,
           600,
           13,
           90
          ],
          [
           47706,
           3,
           600,
           18,
           180
          ],
          [
           48709,
           4,
           800,
           13,
           180
          ],
          [
           49818,
           3,
           600,
           1,
           280
          ],
          [
           50995,
           3,
           600,
           1,
           85
          ],
          [
           51002,
           6,
           1200,
           1,
           290
          ],
          [
           51260,
           3,
           600,
           14,
           160
          ],
          [
           52126,
           3,
           600,
           14,
           150
          ],
          [
           52511,
           3,
           600,
           12,
           125
          ],
          [
           52855,
           3,
           600,
           16,
           90
          ],
          [
           53418,
           4,
           800,
           11,
           305
          ],
          [
           53445,
           3,
           600,
           7,
           375
          ],
          [
           53535,
           4,
           800,
           25,
           175
          ],
          [
           53609,
           5,
           1000,
           17,
           230
          ],
          [
           53924,
           3,
           600,
           2,
           75
          ],
          [
           53930,
           3,
           600,
           12,
           225
          ],
          [
           54437,
           5,
           1000,
           21,
           265
          ],
          [
           54917,
           3,
           600,
           24,
           110
          ],
          [
           55378,
           3,
           600,
           14,
           165
          ],
          [
           55562,
           4,
           800,
           7,
           315
          ],
          [
           55682,
           5,
           1000,
           4,
           240
          ],
          [
           55895,
           4,
           800,
           2,
           150
          ],
          [
           55970,
           3,
           600,
           7,
           150
          ],
          [
           56143,
           5,
           1000,
           28,
           300
          ],
          [
           56381,
           3,
           600,
           0,
           125
          ],
          [
           56814,
           3,
           600,
           3,
           120
          ],
          [
           57237,
           3,
           600,
           13,
           165
          ],
          [
           58011,
           4,
           800,
           16,
           290
          ],
          [
           58057,
           6,
           1200,
           4,
           185
          ],
          [
           58215,
           3,
           600,
           2,
           120
          ],
          [
           59724,
           6,
           1200,
           37,
           225
          ],
          [
           59766,
           3,
           600,
           14,
           145
          ],
          [
           60111,
           3,
           600,
           18,
           225
          ],
          [
           61287,
           3,
           600,
           14,
           280
          ],
          [
           61341,
           3,
           600,
           14,
           105
          ],
          [
           61721,
           4,
           800,
           22,
           235
          ],
          [
           62112,
           3,
           600,
           8,
           135
          ],
          [
           62497,
           3,
           600,
           13,
           115
          ],
          [
           62554,
           3,
           600,
           7,
           35
          ],
          [
           62645,
           3,
           600,
           8,
           195
          ],
          [
           62902,
           3,
           600,
           12,
           110
          ],
          [
           63424,
           4,
           800,
           15,
           390
          ],
          [
           64150,
           4,
           800,
           2,
           200
          ],
          [
           64249,
           3,
           600,
           8,
           60
          ],
          [
           64406,
           3,
           600,
           7,
           75
          ],
          [
           64492,
           3,
           600,
           10,
           180
          ],
          [
           64882,
           3,
           600,
           1,
           145
          ],
          [
           65013,
           4,
           800,
           9,
           255
          ],
          [
           65620,
           3,
           600,
           14,
           165
          ],
          [
           66410,
           4,
           800,
           3,
           75
          ],
          [
           67243,
           3,
           600,
           13,
           135
          ],
          [
           67511,
           3,
           600,
           13,
           375
          ],
          [
           67672,
           4,
           800,
           23,
           255
          ],
          [
           67845,
           3,
           600,
           16,
           90
          ],
          [
           68082,
           3,
           600,
           14,
           165
          ],
          [
           68193,
           3,
           600,
           17,
           210
          ],
          [
           68237,
           3,
           600,
           10,
           300
          ],
          [
           68365,
           5,
           1000,
           24,
           205
          ],
          [
           68503,
           5,
           1000,
           27,
           270
          ],
          [
           68757,
           4,
           800,
           16,
           200
          ],
          [
           68993,
           5,
           1000,
           27,
           110
          ],
          [
           71128,
           3,
           600,
           18,
           165
          ],
          [
           71225,
           3,
           600,
           1,
           160
          ],
          [
           71631,
           4,
           800,
           20,
           105
          ],
          [
           72313,
           3,
           600,
           16,
           115
          ],
          [
           72363,
           4,
           800,
           8,
           330
          ],
          [
           72756,
           3,
           600,
           2,
           465
          ],
          [
           73121,
           3,
           600,
           13,
           90
          ],
          [
           73178,
           3,
           600,
           11,
           190
          ],
          [
           73205,
           4,
           800,
           10,
           255
          ],
          [
           73232,
           5,
           1000,
           23,
           270
          ],
          [
           73442,
           3,
           600,
           2,
           120
          ],
          [
           73464,
           4,
           800,
           17,
           290
          ],
          [
           73549,
           3,
           600,
           0,
           255
          ],
          [
           76192,
           3,
           600,
           19,
           195
          ],
          [
           76624,
           4,
           800,
           24,
           180
          ],
          [
           77370,
           4,
           800,
           4,
           175
          ],
          [
           77414,
           4,
           800,
           31,
           120
          ],
          [
           77503,
           3,
           600,
           13,
           225
          ],
          [
           77540,
           4,
           800,
           17,
           195
          ],
          [
           78041,
           3,
           600,
           20,
           105
          ],
          [
           78042,
           4,
           800,
           15,
           280
          ],
          [
           78245,
           5,
           1000,
           21,
           225
          ],
          [
           78330,
           3,
           600,
           18,
           70
          ],
          [
           78449,
           3,
           600,
           10,
           180
          ],
          [
           78679,
           5,
           1000,
           15,
           210
          ],
          [
           78701,
           4,
           800,
           9,
           255
          ],
          [
           78724,
           3,
           600,
           1,
           165
          ],
          [
           78792,
           3,
           600,
           18,
           180
          ],
          [
           78818,
           3,
           600,
           12,
           325
          ],
          [
           78879,
           3,
           600,
           1,
           105
          ],
          [
           78994,
           3,
           600,
           12,
           135
          ],
          [
           79036,
           3,
           600,
           7,
           255
          ],
          [
           79262,
           4,
           800,
           12,
           200
          ],
          [
           79616,
           3,
           600,
           2,
           175
          ],
          [
           79967,
           3,
           600,
           1,
           165
          ],
          [
           83065,
           5,
           1000,
           15,
           195
          ],
          [
           83424,
           4,
           800,
           0,
           415
          ],
          [
           83601,
           3,
           600,
           8,
           130
          ],
          [
           84790,
           3,
           600,
           3,
           335
          ],
          [
           87852,
           3,
           600,
           14,
           220
          ],
          [
           88508,
           3,
           600,
           19,
           90
          ],
          [
           88586,
           4,
           800,
           13,
           80
          ],
          [
           88646,
           4,
           800,
           23,
           255
          ],
          [
           89039,
           3,
           600,
           2,
           135
          ],
          [
           89174,
           3,
           600,
           2,
           105
          ],
          [
           89308,
           3,
           600,
           15,
           180
          ],
          [
           89404,
           3,
           600,
           14,
           410
          ],
          [
           89668,
           3,
           600,
           9,
           105
          ],
          [
           89684,
           3,
           600,
           16,
           160
          ],
          [
           90183,
           3,
           600,
           0,
           125
          ],
          [
           90515,
           4,
           800,
           12,
           215
          ],
          [
           90517,
           4,
           800,
           12,
           215
          ],
          [
           91173,
           3,
           600,
           3,
           385
          ],
          [
           91458,
           3,
           600,
           25,
           335
          ],
          [
           94173,
           4,
           800,
           26,
           315
          ],
          [
           94209,
           3,
           600,
           3,
           360
          ],
          [
           95432,
           4,
           800,
           9,
           90
          ],
          [
           95808,
           4,
           800,
           18,
           285
          ],
          [
           96624,
           5,
           1000,
           5,
           240
          ],
          [
           96762,
           3,
           600,
           3,
           115
          ],
          [
           96895,
           3,
           600,
           18,
           180
          ],
          [
           96897,
           4,
           800,
           13,
           415
          ],
          [
           96903,
           4,
           800,
           1,
           380
          ],
          [
           97006,
           3,
           600,
           3,
           360
          ],
          [
           97094,
           4,
           800,
           3,
           290
          ],
          [
           97126,
           3,
           600,
           10,
           105
          ],
          [
           97199,
           3,
           600,
           9,
           105
          ],
          [
           97204,
           3,
           600,
           3,
           120
          ],
          [
           97205,
           3,
           600,
           1,
           165
          ],
          [
           97233,
           3,
           600,
           3,
           120
          ],
          [
           97234,
           3,
           600,
           3,
           120
          ],
          [
           97238,
           3,
           600,
           3,
           120
          ],
          [
           97255,
           3,
           600,
           3,
           120
          ],
          [
           97292,
           3,
           600,
           0,
           125
          ],
          [
           97335,
           3,
           600,
           18,
           120
          ],
          [
           97428,
           3,
           600,
           25,
           135
          ],
          [
           97504,
           4,
           800,
           8,
           250
          ],
          [
           97750,
           3,
           600,
           0,
           180
          ],
          [
           98130,
           3,
           600,
           12,
           135
          ],
          [
           98310,
           3,
           600,
           0,
           165
          ],
          [
           98328,
           3,
           600,
           7,
           145
          ],
          [
           98347,
           3,
           600,
           12,
           120
          ],
          [
           98390,
           3,
           600,
           6,
           130
          ],
          [
           98400,
           3,
           600,
           13,
           250
          ],
          [
           98454,
           3,
           600,
           26,
           135
          ],
          [
           98460,
           3,
           600,
           8,
           165
          ],
          [
           98532,
           3,
           600,
           2,
           130
          ],
          [
           98686,
           3,
           600,
           7,
           285
          ],
          [
           98698,
           3,
           600,
           7,
           285
          ],
          [
           98879,
           3,
           600,
           16,
           335
          ],
          [
           98954,
           5,
           1000,
           28,
           300
          ],
          [
           99074,
           3,
           600,
           9,
           105
          ],
          [
           99075,
           3,
           600,
           9,
           105
          ],
          [
           99092,
           3,
           600,
           14,
           125
          ],
          [
           99104,
           4,
           800,
           2,
           285
          ],
          [
           99171,
           3,
           600,
           2,
           255
          ],
          [
           99205,
           4,
           800,
           2,
           290
          ],
          [
           99299,
           3,
           600,
           9,
           105
          ],
          [
           99371,
           3,
           600,
           1,
           150
          ],
          [
           99373,
           5,
           1000,
           28,
           170
          ],
          [
           99411,
           3,
           600,
           0,
           165
          ],
          [
           99629,
           3,
           600,
           14,
           165
          ],
          [
           99707,
           3,
           600,
           7,
           285
          ]
         ],
         "hovertemplate": "Source=👥 Пользователь<br>ClientId=%{customdata[0]}<br>Concerts=%{customdata[1]}<br>Costs=%{customdata[2]}<br>TransTime=%{customdata[3]}<br>WaitTime=%{customdata[4]}<extra></extra>",
         "legendgroup": "👥 Пользователь",
         "marker": {
          "color": "#636efa",
          "opacity": 0.8,
          "size": 10,
          "symbol": "circle"
         },
         "mode": "markers",
         "name": "👥 Пользователь",
         "orientation": "v",
         "showlegend": true,
         "type": "scatter",
         "x": [
          45.2,
          45.5,
          46.2,
          38.6,
          44.4,
          49,
          47.7,
          52.4,
          41.2,
          51.5,
          35.4,
          50.8,
          68.7,
          55.3,
          51.1,
          38.4,
          46.6,
          31.4,
          42.3,
          50.3,
          49.9,
          47.8,
          52.1,
          49.4,
          52.7,
          30.8,
          53.3,
          45.6,
          51.2,
          67.5,
          51.8,
          38.9,
          47.8,
          60.1,
          57.1,
          58.8,
          40.4,
          55.9,
          49.6,
          57.7,
          47.4,
          46,
          60.1,
          48.2,
          57.1,
          46.1,
          63.3,
          63.2,
          41.2,
          37.7,
          50.4,
          37.9,
          56.3,
          36.8,
          41.2,
          33.5,
          65.3,
          31.4,
          43.4,
          60,
          47,
          67.5,
          64.2,
          49.7,
          52.7,
          43.9,
          44.9,
          65.3,
          46.6,
          62.3,
          55.3,
          39.6,
          30.9,
          41.3,
          55.3,
          59.6,
          59.2,
          44.9,
          51.5,
          61.4,
          67.5,
          48.6,
          42.9,
          59.6,
          56.6,
          31.8,
          53.4,
          53.9,
          53,
          56.6,
          54.5,
          51.2,
          39.5,
          61.4,
          43.8,
          52.2,
          55.3,
          37.2,
          53.3,
          46.4,
          54.2,
          51.5,
          52.3,
          53.8,
          54.3,
          53.9,
          42.2,
          57.6,
          45.8,
          40.9,
          64.2,
          41.7,
          43.4,
          45.5,
          53.4,
          65.5,
          47.1,
          44.5,
          55.6,
          59,
          33.9,
          36.6,
          46.9,
          48.8,
          43.7,
          37.5,
          55.3,
          65.5,
          60.1,
          66.8,
          68.7,
          49.9,
          35.8,
          72,
          68.4,
          48.6,
          61.2,
          57,
          42.7,
          44.4,
          35.4,
          61,
          44.7,
          33.5,
          57.1,
          47.2,
          48.3,
          56.8,
          50.1,
          43.4,
          43.8,
          43.4,
          48,
          45.7,
          66.9,
          47.8,
          47.9,
          48.7,
          50.3,
          65.5,
          43.7,
          55.4,
          48.9,
          61.6,
          55,
          40.5,
          42.7,
          44.9,
          38.9,
          53.1,
          53.3,
          40.1,
          47.5,
          42.2,
          47.7,
          41.3,
          40,
          48.6,
          56.4,
          43.4,
          37.7,
          34.5,
          62.3,
          33.8,
          42.6,
          47,
          31.8,
          43,
          41.9,
          43.4,
          33,
          51.4,
          46.1,
          44.2,
          57.6,
          60.6,
          37.6,
          50.3,
          53.4,
          66.8,
          44.2,
          57.8,
          51.9,
          53.5,
          47.5,
          56.6,
          54,
          40.6,
          57.7,
          37.4,
          48,
          46.7,
          52.3,
          54.3,
          31.4,
          28.5,
          68.7,
          64.7,
          64.7,
          43.6,
          49,
          61.3,
          48.7,
          33.1,
          58.8,
          40.4,
          54.5,
          50.3,
          52.3,
          48.5,
          48.7,
          69.7,
          33.3,
          31.4,
          49.9,
          44.2,
          49.9,
          49.9,
          49.9,
          49.9,
          68.7,
          36.5,
          44.8,
          37,
          50.3,
          59.9,
          38.6,
          47.8,
          36.7,
          41.2,
          43.1,
          44.1,
          42,
          49.6,
          53,
          53,
          56.5,
          40.1,
          31.4,
          31.4,
          55.3,
          70.8,
          45.6,
          67.8,
          31.4,
          43.9,
          40.8,
          38.6,
          43.7,
          46.3
         ],
         "xaxis": "x",
         "y": [
          12.5,
          36.8,
          55,
          90.5,
          71.9,
          44.1,
          68.3,
          84.6,
          83,
          78.9,
          48.9,
          39.3,
          94.4,
          47.4,
          17.3,
          42.1,
          24.1,
          69.1,
          41,
          60.3,
          29.2,
          97,
          94.6,
          74.6,
          22.8,
          49.8,
          40,
          65.2,
          93.6,
          92.9,
          50.9,
          44.9,
          97,
          76.2,
          62.2,
          66.7,
          61.3,
          78.8,
          88.6,
          15,
          92.4,
          59.8,
          76.8,
          70.4,
          59,
          42.8,
          77.1,
          79.2,
          62.1,
          93.3,
          69.1,
          40.8,
          80.2,
          84.1,
          11.3,
          71.9,
          92.7,
          69.1,
          59.7,
          75.1,
          50,
          92.9,
          94.7,
          96.4,
          71.9,
          89.4,
          54.9,
          81.6,
          67.5,
          70.3,
          47.4,
          81.4,
          69.6,
          65,
          59,
          49.4,
          47.4,
          65,
          78.9,
          76.7,
          77.6,
          89.2,
          12.6,
          80.1,
          66.9,
          32,
          66.5,
          89.9,
          40.2,
          65.9,
          88,
          83.5,
          58.2,
          76.7,
          82.4,
          64,
          47.4,
          48.9,
          40,
          84.6,
          65.3,
          52.8,
          36.2,
          65.8,
          44.5,
          89.9,
          57.6,
          28.6,
          76.4,
          76.8,
          94.7,
          78.5,
          44.2,
          45.1,
          61.1,
          41.6,
          65.1,
          56.3,
          35,
          71.3,
          92.1,
          51,
          55.8,
          28.3,
          43.5,
          71.4,
          86.2,
          94.6,
          76.8,
          28.4,
          94.4,
          87.6,
          51.3,
          46.6,
          95.7,
          89.2,
          34.1,
          45.7,
          24,
          32.4,
          48.9,
          36.1,
          71.3,
          56,
          83.7,
          65,
          62.2,
          43.4,
          90.7,
          76.1,
          82.4,
          60.2,
          90.1,
          73.8,
          43.5,
          97,
          54.3,
          32.3,
          30.3,
          41.6,
          43.5,
          28.2,
          48,
          55,
          35,
          59.7,
          52.5,
          30.2,
          88.6,
          53.8,
          40,
          67.7,
          63.8,
          57.6,
          58.1,
          71.9,
          47.4,
          89.2,
          43.6,
          81.8,
          24.4,
          37.2,
          91.4,
          30.6,
          45.1,
          57.1,
          32,
          52.7,
          61.6,
          37.6,
          60.2,
          79.8,
          73.8,
          87.9,
          28.6,
          41.5,
          93.3,
          60.3,
          66.5,
          77.9,
          84,
          87.9,
          81.9,
          70.8,
          72,
          66.3,
          38.2,
          34,
          82,
          30.3,
          88,
          90.4,
          36.2,
          23.7,
          69.1,
          36,
          94.4,
          75.9,
          75.9,
          64.1,
          5.4,
          14.7,
          65,
          88.9,
          41.9,
          85.9,
          88,
          28.6,
          53.4,
          72.4,
          65,
          76.6,
          67.2,
          69.1,
          87.6,
          87.9,
          87.6,
          87.6,
          87.6,
          87.6,
          94.4,
          34.4,
          25.4,
          77.6,
          88.9,
          60.3,
          90.5,
          77.4,
          61.5,
          84.6,
          43.2,
          24.8,
          68.3,
          88.6,
          63.2,
          63.2,
          18.3,
          28.4,
          69.1,
          69.1,
          47.4,
          78.4,
          76.2,
          77.6,
          69.1,
          89.4,
          46.7,
          90.5,
          43.5,
          63.2
         ],
         "yaxis": "y"
        },
        {
         "customdata": [
          [
           "Top",
           6,
           1200,
           23,
           200
          ],
          [
           "Top",
           5,
           1000,
           14,
           245
          ],
          [
           "Top",
           5,
           1000,
           23,
           245
          ],
          [
           "Top",
           5,
           1000,
           22,
           245
          ],
          [
           "Top",
           5,
           1000,
           16,
           240
          ],
          [
           "Top",
           5,
           1000,
           14,
           245
          ],
          [
           "Top",
           6,
           1200,
           15,
           200
          ],
          [
           "Top",
           4,
           800,
           13,
           290
          ],
          [
           "Top",
           6,
           1200,
           33,
           200
          ],
          [
           "Top",
           4,
           800,
           22,
           290
          ],
          [
           "Top",
           6,
           1200,
           15,
           200
          ],
          [
           "Top",
           5,
           1000,
           22,
           265
          ],
          [
           "Top",
           5,
           1000,
           20,
           340
          ],
          [
           "Top",
           6,
           1200,
           30,
           220
          ],
          [
           "Top",
           5,
           1000,
           18,
           240
          ],
          [
           "Top",
           5,
           1000,
           29,
           320
          ],
          [
           "Top",
           6,
           1200,
           28,
           295
          ],
          [
           "Top",
           6,
           1200,
           30,
           275
          ],
          [
           "Top",
           5,
           1000,
           13,
           320
          ],
          [
           "Top",
           5,
           1000,
           21,
           320
          ]
         ],
         "hovertemplate": "Source=🎯 Рекомендация<br>ClientId=%{customdata[0]}<br>Concerts=%{customdata[1]}<br>Costs=%{customdata[2]}<br>TransTime=%{customdata[3]}<br>WaitTime=%{customdata[4]}<extra></extra>",
         "legendgroup": "🎯 Рекомендация",
         "marker": {
          "color": "#EF553B",
          "opacity": 0.8,
          "size": 10,
          "symbol": "diamond"
         },
         "mode": "markers",
         "name": "🎯 Рекомендация",
         "orientation": "v",
         "showlegend": true,
         "type": "scatter",
         "x": [
          74.6,
          74.4,
          74.4,
          74.1,
          74,
          73.9,
          73.8,
          73.7,
          73.7,
          73.7,
          73.5,
          73.5,
          73.5,
          73.4,
          73.2,
          73.2,
          73.1,
          73.1,
          72.7,
          72.7
         ],
         "xaxis": "x",
         "y": [
          76,
          77.6,
          51.6,
          54.4,
          72.1,
          77.6,
          89.5,
          61.7,
          47.5,
          27.5,
          89.5,
          52.3,
          50.5,
          53.8,
          67.3,
          24.3,
          47.3,
          44.2,
          70.6,
          48.8
         ],
         "yaxis": "y"
        },
        {
         "line": {
          "color": "gray",
          "dash": "dash"
         },
         "marker": {
          "opacity": 0.8,
          "size": 10
         },
         "mode": "lines",
         "name": "Баланс: интеллект = комфорт",
         "type": "scatter",
         "x": [
          0.40000000000000036,
          102
         ],
         "y": [
          0.40000000000000036,
          102
         ]
        }
       ],
       "layout": {
        "autosize": false,
        "height": 800,
        "hoverlabel": {
         "bgcolor": "white",
         "font": {
          "size": 12
         }
        },
        "legend": {
         "orientation": "h",
         "title": {
          "text": "Тип маршрута"
         },
         "tracegroupgap": 0,
         "x": 0.5,
         "xanchor": "center",
         "y": -0.3,
         "yanchor": "bottom"
        },
        "shapes": [
         {
          "fillcolor": "lightgray",
          "layer": "below",
          "line": {
           "width": 0
          },
          "opacity": 0.3,
          "type": "rect",
          "x0": 0.40000000000000036,
          "x1": 102,
          "y0": -9.6,
          "y1": 112
         }
        ],
        "template": {
         "data": {
          "bar": [
           {
            "error_x": {
             "color": "#2a3f5f"
            },
            "error_y": {
             "color": "#2a3f5f"
            },
            "marker": {
             "line": {
              "color": "#E5ECF6",
              "width": 0.5
             },
             "pattern": {
              "fillmode": "overlay",
              "size": 10,
              "solidity": 0.2
             }
            },
            "type": "bar"
           }
          ],
          "barpolar": [
           {
            "marker": {
             "line": {
              "color": "#E5ECF6",
              "width": 0.5
             },
             "pattern": {
              "fillmode": "overlay",
              "size": 10,
              "solidity": 0.2
             }
            },
            "type": "barpolar"
           }
          ],
          "carpet": [
           {
            "aaxis": {
             "endlinecolor": "#2a3f5f",
             "gridcolor": "white",
             "linecolor": "white",
             "minorgridcolor": "white",
             "startlinecolor": "#2a3f5f"
            },
            "baxis": {
             "endlinecolor": "#2a3f5f",
             "gridcolor": "white",
             "linecolor": "white",
             "minorgridcolor": "white",
             "startlinecolor": "#2a3f5f"
            },
            "type": "carpet"
           }
          ],
          "choropleth": [
           {
            "colorbar": {
             "outlinewidth": 0,
             "ticks": ""
            },
            "type": "choropleth"
           }
          ],
          "contour": [
           {
            "colorbar": {
             "outlinewidth": 0,
             "ticks": ""
            },
            "colorscale": [
             [
              0,
              "#0d0887"
             ],
             [
              0.1111111111111111,
              "#46039f"
             ],
             [
              0.2222222222222222,
              "#7201a8"
             ],
             [
              0.3333333333333333,
              "#9c179e"
             ],
             [
              0.4444444444444444,
              "#bd3786"
             ],
             [
              0.5555555555555556,
              "#d8576b"
             ],
             [
              0.6666666666666666,
              "#ed7953"
             ],
             [
              0.7777777777777778,
              "#fb9f3a"
             ],
             [
              0.8888888888888888,
              "#fdca26"
             ],
             [
              1,
              "#f0f921"
             ]
            ],
            "type": "contour"
           }
          ],
          "contourcarpet": [
           {
            "colorbar": {
             "outlinewidth": 0,
             "ticks": ""
            },
            "type": "contourcarpet"
           }
          ],
          "heatmap": [
           {
            "colorbar": {
             "outlinewidth": 0,
             "ticks": ""
            },
            "colorscale": [
             [
              0,
              "#0d0887"
             ],
             [
              0.1111111111111111,
              "#46039f"
             ],
             [
              0.2222222222222222,
              "#7201a8"
             ],
             [
              0.3333333333333333,
              "#9c179e"
             ],
             [
              0.4444444444444444,
              "#bd3786"
             ],
             [
              0.5555555555555556,
              "#d8576b"
             ],
             [
              0.6666666666666666,
              "#ed7953"
             ],
             [
              0.7777777777777778,
              "#fb9f3a"
             ],
             [
              0.8888888888888888,
              "#fdca26"
             ],
             [
              1,
              "#f0f921"
             ]
            ],
            "type": "heatmap"
           }
          ],
          "heatmapgl": [
           {
            "colorbar": {
             "outlinewidth": 0,
             "ticks": ""
            },
            "colorscale": [
             [
              0,
              "#0d0887"
             ],
             [
              0.1111111111111111,
              "#46039f"
             ],
             [
              0.2222222222222222,
              "#7201a8"
             ],
             [
              0.3333333333333333,
              "#9c179e"
             ],
             [
              0.4444444444444444,
              "#bd3786"
             ],
             [
              0.5555555555555556,
              "#d8576b"
             ],
             [
              0.6666666666666666,
              "#ed7953"
             ],
             [
              0.7777777777777778,
              "#fb9f3a"
             ],
             [
              0.8888888888888888,
              "#fdca26"
             ],
             [
              1,
              "#f0f921"
             ]
            ],
            "type": "heatmapgl"
           }
          ],
          "histogram": [
           {
            "marker": {
             "pattern": {
              "fillmode": "overlay",
              "size": 10,
              "solidity": 0.2
             }
            },
            "type": "histogram"
           }
          ],
          "histogram2d": [
           {
            "colorbar": {
             "outlinewidth": 0,
             "ticks": ""
            },
            "colorscale": [
             [
              0,
              "#0d0887"
             ],
             [
              0.1111111111111111,
              "#46039f"
             ],
             [
              0.2222222222222222,
              "#7201a8"
             ],
             [
              0.3333333333333333,
              "#9c179e"
             ],
             [
              0.4444444444444444,
              "#bd3786"
             ],
             [
              0.5555555555555556,
              "#d8576b"
             ],
             [
              0.6666666666666666,
              "#ed7953"
             ],
             [
              0.7777777777777778,
              "#fb9f3a"
             ],
             [
              0.8888888888888888,
              "#fdca26"
             ],
             [
              1,
              "#f0f921"
             ]
            ],
            "type": "histogram2d"
           }
          ],
          "histogram2dcontour": [
           {
            "colorbar": {
             "outlinewidth": 0,
             "ticks": ""
            },
            "colorscale": [
             [
              0,
              "#0d0887"
             ],
             [
              0.1111111111111111,
              "#46039f"
             ],
             [
              0.2222222222222222,
              "#7201a8"
             ],
             [
              0.3333333333333333,
              "#9c179e"
             ],
             [
              0.4444444444444444,
              "#bd3786"
             ],
             [
              0.5555555555555556,
              "#d8576b"
             ],
             [
              0.6666666666666666,
              "#ed7953"
             ],
             [
              0.7777777777777778,
              "#fb9f3a"
             ],
             [
              0.8888888888888888,
              "#fdca26"
             ],
             [
              1,
              "#f0f921"
             ]
            ],
            "type": "histogram2dcontour"
           }
          ],
          "mesh3d": [
           {
            "colorbar": {
             "outlinewidth": 0,
             "ticks": ""
            },
            "type": "mesh3d"
           }
          ],
          "parcoords": [
           {
            "line": {
             "colorbar": {
              "outlinewidth": 0,
              "ticks": ""
             }
            },
            "type": "parcoords"
           }
          ],
          "pie": [
           {
            "automargin": true,
            "type": "pie"
           }
          ],
          "scatter": [
           {
            "fillpattern": {
             "fillmode": "overlay",
             "size": 10,
             "solidity": 0.2
            },
            "type": "scatter"
           }
          ],
          "scatter3d": [
           {
            "line": {
             "colorbar": {
              "outlinewidth": 0,
              "ticks": ""
             }
            },
            "marker": {
             "colorbar": {
              "outlinewidth": 0,
              "ticks": ""
             }
            },
            "type": "scatter3d"
           }
          ],
          "scattercarpet": [
           {
            "marker": {
             "colorbar": {
              "outlinewidth": 0,
              "ticks": ""
             }
            },
            "type": "scattercarpet"
           }
          ],
          "scattergeo": [
           {
            "marker": {
             "colorbar": {
              "outlinewidth": 0,
              "ticks": ""
             }
            },
            "type": "scattergeo"
           }
          ],
          "scattergl": [
           {
            "marker": {
             "colorbar": {
              "outlinewidth": 0,
              "ticks": ""
             }
            },
            "type": "scattergl"
           }
          ],
          "scattermapbox": [
           {
            "marker": {
             "colorbar": {
              "outlinewidth": 0,
              "ticks": ""
             }
            },
            "type": "scattermapbox"
           }
          ],
          "scatterpolar": [
           {
            "marker": {
             "colorbar": {
              "outlinewidth": 0,
              "ticks": ""
             }
            },
            "type": "scatterpolar"
           }
          ],
          "scatterpolargl": [
           {
            "marker": {
             "colorbar": {
              "outlinewidth": 0,
              "ticks": ""
             }
            },
            "type": "scatterpolargl"
           }
          ],
          "scatterternary": [
           {
            "marker": {
             "colorbar": {
              "outlinewidth": 0,
              "ticks": ""
             }
            },
            "type": "scatterternary"
           }
          ],
          "surface": [
           {
            "colorbar": {
             "outlinewidth": 0,
             "ticks": ""
            },
            "colorscale": [
             [
              0,
              "#0d0887"
             ],
             [
              0.1111111111111111,
              "#46039f"
             ],
             [
              0.2222222222222222,
              "#7201a8"
             ],
             [
              0.3333333333333333,
              "#9c179e"
             ],
             [
              0.4444444444444444,
              "#bd3786"
             ],
             [
              0.5555555555555556,
              "#d8576b"
             ],
             [
              0.6666666666666666,
              "#ed7953"
             ],
             [
              0.7777777777777778,
              "#fb9f3a"
             ],
             [
              0.8888888888888888,
              "#fdca26"
             ],
             [
              1,
              "#f0f921"
             ]
            ],
            "type": "surface"
           }
          ],
          "table": [
           {
            "cells": {
             "fill": {
              "color": "#EBF0F8"
             },
             "line": {
              "color": "white"
             }
            },
            "header": {
             "fill": {
              "color": "#C8D4E3"
             },
             "line": {
              "color": "white"
             }
            },
            "type": "table"
           }
          ]
         },
         "layout": {
          "annotationdefaults": {
           "arrowcolor": "#2a3f5f",
           "arrowhead": 0,
           "arrowwidth": 1
          },
          "autotypenumbers": "strict",
          "coloraxis": {
           "colorbar": {
            "outlinewidth": 0,
            "ticks": ""
           }
          },
          "colorscale": {
           "diverging": [
            [
             0,
             "#8e0152"
            ],
            [
             0.1,
             "#c51b7d"
            ],
            [
             0.2,
             "#de77ae"
            ],
            [
             0.3,
             "#f1b6da"
            ],
            [
             0.4,
             "#fde0ef"
            ],
            [
             0.5,
             "#f7f7f7"
            ],
            [
             0.6,
             "#e6f5d0"
            ],
            [
             0.7,
             "#b8e186"
            ],
            [
             0.8,
             "#7fbc41"
            ],
            [
             0.9,
             "#4d9221"
            ],
            [
             1,
             "#276419"
            ]
           ],
           "sequential": [
            [
             0,
             "#0d0887"
            ],
            [
             0.1111111111111111,
             "#46039f"
            ],
            [
             0.2222222222222222,
             "#7201a8"
            ],
            [
             0.3333333333333333,
             "#9c179e"
            ],
            [
             0.4444444444444444,
             "#bd3786"
            ],
            [
             0.5555555555555556,
             "#d8576b"
            ],
            [
             0.6666666666666666,
             "#ed7953"
            ],
            [
             0.7777777777777778,
             "#fb9f3a"
            ],
            [
             0.8888888888888888,
             "#fdca26"
            ],
            [
             1,
             "#f0f921"
            ]
           ],
           "sequentialminus": [
            [
             0,
             "#0d0887"
            ],
            [
             0.1111111111111111,
             "#46039f"
            ],
            [
             0.2222222222222222,
             "#7201a8"
            ],
            [
             0.3333333333333333,
             "#9c179e"
            ],
            [
             0.4444444444444444,
             "#bd3786"
            ],
            [
             0.5555555555555556,
             "#d8576b"
            ],
            [
             0.6666666666666666,
             "#ed7953"
            ],
            [
             0.7777777777777778,
             "#fb9f3a"
            ],
            [
             0.8888888888888888,
             "#fdca26"
            ],
            [
             1,
             "#f0f921"
            ]
           ]
          },
          "colorway": [
           "#636efa",
           "#EF553B",
           "#00cc96",
           "#ab63fa",
           "#FFA15A",
           "#19d3f3",
           "#FF6692",
           "#B6E880",
           "#FF97FF",
           "#FECB52"
          ],
          "font": {
           "color": "#2a3f5f"
          },
          "geo": {
           "bgcolor": "white",
           "lakecolor": "white",
           "landcolor": "#E5ECF6",
           "showlakes": true,
           "showland": true,
           "subunitcolor": "white"
          },
          "hoverlabel": {
           "align": "left"
          },
          "hovermode": "closest",
          "mapbox": {
           "style": "light"
          },
          "paper_bgcolor": "white",
          "plot_bgcolor": "#E5ECF6",
          "polar": {
           "angularaxis": {
            "gridcolor": "white",
            "linecolor": "white",
            "ticks": ""
           },
           "bgcolor": "#E5ECF6",
           "radialaxis": {
            "gridcolor": "white",
            "linecolor": "white",
            "ticks": ""
           }
          },
          "scene": {
           "xaxis": {
            "backgroundcolor": "#E5ECF6",
            "gridcolor": "white",
            "gridwidth": 2,
            "linecolor": "white",
            "showbackground": true,
            "ticks": "",
            "zerolinecolor": "white"
           },
           "yaxis": {
            "backgroundcolor": "#E5ECF6",
            "gridcolor": "white",
            "gridwidth": 2,
            "linecolor": "white",
            "showbackground": true,
            "ticks": "",
            "zerolinecolor": "white"
           },
           "zaxis": {
            "backgroundcolor": "#E5ECF6",
            "gridcolor": "white",
            "gridwidth": 2,
            "linecolor": "white",
            "showbackground": true,
            "ticks": "",
            "zerolinecolor": "white"
           }
          },
          "shapedefaults": {
           "line": {
            "color": "#2a3f5f"
           }
          },
          "ternary": {
           "aaxis": {
            "gridcolor": "white",
            "linecolor": "white",
            "ticks": ""
           },
           "baxis": {
            "gridcolor": "white",
            "linecolor": "white",
            "ticks": ""
           },
           "bgcolor": "#E5ECF6",
           "caxis": {
            "gridcolor": "white",
            "linecolor": "white",
            "ticks": ""
           }
          },
          "title": {
           "x": 0.05
          },
          "xaxis": {
           "automargin": true,
           "gridcolor": "white",
           "linecolor": "white",
           "ticks": "",
           "title": {
            "standoff": 15
           },
           "zerolinecolor": "white",
           "zerolinewidth": 2
          },
          "yaxis": {
           "automargin": true,
           "gridcolor": "white",
           "linecolor": "white",
           "ticks": "",
           "title": {
            "standoff": 15
           },
           "zerolinecolor": "white",
           "zerolinewidth": 2
          }
         }
        },
        "title": {
         "text": "📊 Интерактивное сравнение маршрутов: пользователи vs рекомендации"
        },
        "width": 1000,
        "xaxis": {
         "anchor": "y",
         "domain": [
          0,
          1
         ],
         "title": {
          "text": "IntellectScore"
         }
        },
        "yaxis": {
         "anchor": "x",
         "domain": [
          0,
          1
         ],
         "title": {
          "text": "ComfortScore"
         }
        }
       }
      }
     },
     "metadata": {},
     "output_type": "display_data"
    }
   ],
   "source": [
    "import plotly.express as px\n",
    "import plotly.graph_objects as go\n",
    "import pandas as pd\n",
    "\n",
    "# Указание источников данных\n",
    "df_user_day1_real_routes[\"Source\"] = \"👥 Пользователь\"\n",
    "top_routes[\"Source\"] = \"🎯 Рекомендация\"\n",
    "top_routes[\"ClientId\"] = \"Top\"\n",
    "\n",
    "# Объединение\n",
    "viz_df = pd.concat([\n",
    "    df_user_day1_real_routes[[\n",
    "        \"IntellectScore\", \"ComfortScore\", \"Source\", \"ClientId\",\n",
    "        \"Costs\", \"TransTime\", \"WaitTime\", \"Concerts\"\n",
    "    ]],\n",
    "    top_routes[[\n",
    "        \"IntellectScore\", \"ComfortScore\", \"Source\", \"ClientId\",\n",
    "        \"Costs\", \"TransTime\", \"WaitTime\", \"Concerts\"\n",
    "    ]]\n",
    "])\n",
    "\n",
    "# Границы\n",
    "min_val = min(viz_df[\"IntellectScore\"].min(), viz_df[\"ComfortScore\"].min()) - 5\n",
    "max_val = max(viz_df[\"IntellectScore\"].max(), viz_df[\"ComfortScore\"].max()) + 5\n",
    "\n",
    "# Базовый график\n",
    "fig = px.scatter(\n",
    "    viz_df,\n",
    "    x=\"IntellectScore\",\n",
    "    y=\"ComfortScore\",\n",
    "    color=\"Source\",\n",
    "    symbol=\"Source\",\n",
    "    hover_data={\n",
    "        \"ClientId\": True,\n",
    "        \"Concerts\": True,\n",
    "        \"Costs\": True,\n",
    "        \"TransTime\": True,\n",
    "        \"WaitTime\": True,\n",
    "        \"IntellectScore\": False,\n",
    "        \"ComfortScore\": False\n",
    "    },\n",
    "    title=\"📊 Интерактивное сравнение маршрутов: пользователи vs рекомендации\"\n",
    ")\n",
    "\n",
    "# Добавим зону баланса ±10\n",
    "fig.add_shape(\n",
    "    type=\"rect\",\n",
    "    x0=min_val,\n",
    "    y0=min_val - 10,\n",
    "    x1=max_val,\n",
    "    y1=max_val + 10,\n",
    "    line=dict(width=0),\n",
    "    fillcolor=\"lightgray\",\n",
    "    opacity=0.3,\n",
    "    layer=\"below\"\n",
    ")\n",
    "\n",
    "# Диагональ — баланс\n",
    "fig.add_trace(go.Scatter(\n",
    "    x=[min_val, max_val],\n",
    "    y=[min_val, max_val],\n",
    "    mode=\"lines\",\n",
    "    line=dict(dash=\"dash\", color=\"gray\"),\n",
    "    name=\"Баланс: интеллект = комфорт\"\n",
    "))\n",
    "\n",
    "# Оформление\n",
    "fig.update_traces(marker=dict(size=10, opacity=0.8))\n",
    "fig.update_layout(\n",
    "    legend=dict(\n",
    "        title=\"Тип маршрута\",\n",
    "        orientation=\"h\",\n",
    "        yanchor=\"bottom\",\n",
    "        y=-0.3,\n",
    "        xanchor=\"center\",\n",
    "        x=0.5\n",
    "    ),\n",
    "    hoverlabel=dict(bgcolor=\"white\", font_size=12),\n",
    "    autosize=False,\n",
    "    width=1000,\n",
    "    height=800\n",
    ")\n",
    "\n",
    "fig.show()\n"
   ]
  },
  {
   "cell_type": "markdown",
   "id": "5e75f041",
   "metadata": {},
   "source": [
    "ЧТо можно сказать... наши лушие рекомендации делают прямо фронт на графике. А польщователльский выбор размазан почти равномерно по площади. Это не плохо. Но, учитывая, что в зону наших рекомендаций попала не так много реальных клиентов, можно предположить, что:\n",
    "* Мощный маршрут придумать не так просто\n",
    "* не все готовы даже не то что тратить время, но и просто задумываться над этим.\n",
    "* нам есть кому советовать"
   ]
  },
  {
   "cell_type": "code",
   "execution_count": 163,
   "id": "f3ae325a",
   "metadata": {},
   "outputs": [
    {
     "name": "stderr",
     "output_type": "stream",
     "text": [
      "/var/folders/ph/7m0lcx1d1_q_2b1f5fzxch7m0000gn/T/ipykernel_82224/3114469448.py:5: DtypeWarning:\n",
      "\n",
      "Columns (40) have mixed types. Specify dtype option on import or set low_memory=False.\n",
      "\n"
     ]
    },
    {
     "name": "stdout",
     "output_type": "stream",
     "text": [
      "\n",
      "Средние улучшения по сравнению с пользовательскими маршрутами:\n",
      "\n",
      "        Metric  Mean Improvement by Recommendation\n",
      "IntellectScore                           30.593797\n",
      "  ComfortScore                           23.525426\n",
      "      WaitTime                          147.774621\n",
      "     TransTime                           20.521307\n",
      "         Costs                          889.583333\n"
     ]
    }
   ],
   "source": [
    "import pandas as pd\n",
    "import ast\n",
    "\n",
    "# Загрузка маршрутов\n",
    "df_all_routes = pd.read_csv(\"RouteRange_with_GMM.csv\")\n",
    "df_all_routes[\"Sostav\"] = df_all_routes[\"Sostav\"].apply(ast.literal_eval)\n",
    "df_all_routes[\"SostavTuple\"] = df_all_routes[\"Sostav\"].apply(lambda x: tuple(sorted(x)))\n",
    "\n",
    "# Загрузка операций\n",
    "df_ops = pd.read_excel(\"GoodOperetions-OneDay.xlsx\")\n",
    "\n",
    "# Сборка маршрутов по пользователям\n",
    "user_routes = (\n",
    "    df_ops.groupby(\"ClientId\")[\"ShowNum\"]\n",
    "    .apply(lambda x: tuple(sorted(set(x))))\n",
    "    .reset_index()\n",
    "    .rename(columns={\"ShowNum\": \"SostavTuple\"})\n",
    ")\n",
    "\n",
    "# Создаем таблицу с маршрутами пользователей\n",
    "df_user_day1_real_routes = user_routes.copy()\n",
    "\n",
    "# Метрики\n",
    "metric_cols = [\"IntellectScore\", \"ComfortScore\", \"WaitTime\", \"TransTime\", \"Costs\"]\n",
    "\n",
    "# Преобразуем lookup по строковому ключу\n",
    "df_all_routes[\"SostavTuple_str\"] = df_all_routes[\"SostavTuple\"].map(str)\n",
    "route_lookup = df_all_routes.set_index(\"SostavTuple_str\")[metric_cols]\n",
    "\n",
    "# Выбираем лучший рекомендованный маршрут\n",
    "best_recommendation = df_all_routes.sort_values(\n",
    "    by=[\"IntellectScore\", \"ComfortScore\"],\n",
    "    ascending=[False, False]\n",
    ").iloc[0][metric_cols]\n",
    "\n",
    "# Добавляем строковый ключ\n",
    "df_user_day1_real_routes[\"SostavTuple_str\"] = df_user_day1_real_routes[\"SostavTuple\"].map(str)\n",
    "\n",
    "# Сравнение метрик\n",
    "output_rows = []\n",
    "for idx, row in df_user_day1_real_routes.iterrows():\n",
    "    user_key = row[\"SostavTuple_str\"]\n",
    "    if user_key not in route_lookup.index:\n",
    "        continue\n",
    "    real_metrics = route_lookup.loc[user_key]\n",
    "    diff = best_recommendation - real_metrics\n",
    "    output_rows.append(diff.to_dict())\n",
    "\n",
    "# Подсчет среднего улучшения\n",
    "df_diffs = pd.DataFrame(output_rows)\n",
    "mean_diffs = df_diffs.mean().to_frame(name=\"Mean Improvement by Recommendation\")\n",
    "mean_diffs.reset_index(inplace=True)\n",
    "mean_diffs.rename(columns={\"index\": \"Metric\"}, inplace=True)\n",
    "\n",
    "# Вывод результата\n",
    "print(\"\\nСредние улучшения по сравнению с пользовательскими маршрутами:\\n\")\n",
    "print(mean_diffs.to_string(index=False))\n"
   ]
  },
  {
   "cell_type": "markdown",
   "id": "9ae03611",
   "metadata": {},
   "source": [
    "Этот вывод показывает среднюю разницу между лучшим рекомендованным маршрутом (на основе всех возможных маршрутов первого дня) и реальными маршрутами пользователей, которые действительно купили ≥3 концерта на первый день фестиваля."
   ]
  },
  {
   "cell_type": "markdown",
   "id": "d0eb4fe6",
   "metadata": {},
   "source": [
    "### 📊 Интерпретация метрик улучшения\n",
    "\n",
    "Этот отчёт показывает **среднюю разницу между лучшим рекомендованным маршрутом** (из всех возможных маршрутов первого дня фестиваля) и **реальными маршрутами пользователей**, которые действительно купили ≥3 концерта на первый день.\n",
    "\n",
    "| Метрика         | Среднее улучшение | Интерпретация |\n",
    "|-----------------|-------------------|----------------|\n",
    "| 🎓 **IntellectScore** | +30.6              | Рекомендованный маршрут содержит более интеллектуально насыщенную программу: интересные композиторы, редкие произведения, сложные жанры. |\n",
    "| 🛋️ **ComfortScore**   | +23.5              | Логистика и удобство маршрута выше: лучше по времени, меньше накладок, удобнее для перемещений. |\n",
    "| ⏱️ **WaitTime**       | +147.8             | Ожидание между концертами больше — это **минус**, если пользователь хочет компактный маршрут. |\n",
    "| 🔁 **TransTime**      | +20.5              | Больше времени на перемещения — скорее всего, маршруты проходят через удалённые площадки. |\n",
    "| 💰 **Costs**          | +889 ₽             | Более дорогой маршрут — либо за счёт количества концертов, либо за счёт уровня представлений (больше финальных концертов дня). |\n",
    "\n",
    "---\n",
    "\n",
    "### 💡 Выводы\n",
    "\n",
    "- **Сильные стороны** наших рекомендаций:\n",
    "  - Существенно выигрывают по содержательной (интеллектуальной) и логистической (комфорт) составляющим.\n",
    "  \n",
    "- **Слабые стороны**:\n",
    "  - Требуют больше времени между концертами и перемещениями.\n",
    "  - Обходятся дороже.\n"
   ]
  },
  {
   "cell_type": "markdown",
   "id": "42cc1e6f",
   "metadata": {},
   "source": [
    "Помечу, чтобы не забыть идеи:\n",
    "🔎 Возможные шаги:\n",
    "- Сравнить с медианным маршрутом.\n",
    "- Разбить пользователей на кластеры по типу маршрута.\n",
    "- Визуализировать распределение отличий."
   ]
  },
  {
   "cell_type": "code",
   "execution_count": 164,
   "id": "6cff7ea4",
   "metadata": {},
   "outputs": [
    {
     "name": "stderr",
     "output_type": "stream",
     "text": [
      "/var/folders/ph/7m0lcx1d1_q_2b1f5fzxch7m0000gn/T/ipykernel_82224/3311425805.py:5: DtypeWarning:\n",
      "\n",
      "Columns (40) have mixed types. Specify dtype option on import or set low_memory=False.\n",
      "\n",
      "/Users/georgijmamarin/Library/Python/3.10/lib/python/site-packages/IPython/core/pylabtools.py:152: UserWarning:\n",
      "\n",
      "Glyph 128202 (\\N{BAR CHART}) missing from current font.\n",
      "\n"
     ]
    },
    {
     "data": {
      "image/png": "[encoded data removed]",
      "text/plain": [
       "<Figure size 1500x1000 with 5 Axes>"
      ]
     },
     "metadata": {},
     "output_type": "display_data"
    }
   ],
   "source": [
    "import pandas as pd\n",
    "import matplotlib.pyplot as plt\n",
    "\n",
    "# --- Загрузка данных ---\n",
    "routes_df = pd.read_csv(\"RouteRange_with_GMM.csv\")\n",
    "ops_df = pd.read_excel(\"GoodOperetions-OneDay.xlsx\")\n",
    "\n",
    "# --- Подготовка маршрутов ---\n",
    "routes_df[\"RouteKey\"] = routes_df[\"Sostav\"].apply(\n",
    "    lambda x: \",\".join(sorted(map(str, eval(x))))\n",
    ")\n",
    "\n",
    "# --- Подготовка пользовательских маршрутов ---\n",
    "user_day1 = ops_df.groupby(\"ClientId\")[\"ShowId\"].apply(\n",
    "    lambda x: sorted(x.tolist())\n",
    ").reset_index()\n",
    "user_day1[\"RouteKey\"] = user_day1[\"ShowId\"].apply(lambda lst: \",\".join(map(str, sorted(lst))))\n",
    "user_day1[\"Len\"] = user_day1[\"ShowId\"].apply(len)\n",
    "user_day1 = user_day1[user_day1[\"Len\"] >= 3]\n",
    "\n",
    "user_routes_df = pd.merge(\n",
    "    user_day1, routes_df, on=\"RouteKey\", how=\"inner\"\n",
    ")\n",
    "user_routes_df[\"Type\"] = \"Пользователь\"\n",
    "\n",
    "# --- Подготовка топ-рекомендаций ---\n",
    "top_routes_df = (\n",
    "    routes_df.sort_values(by=[\"IntellectScore\", \"ComfortScore\"], ascending=False)\n",
    "    .head(len(user_routes_df))\n",
    "    .copy()\n",
    ")\n",
    "top_routes_df[\"ClientId\"] = user_routes_df[\"ClientId\"].values\n",
    "top_routes_df[\"Type\"] = \"Рекомендация\"\n",
    "\n",
    "# --- Объединение таблиц для анализа ---\n",
    "cols_needed = [\"ClientId\", \"IntellectScore\", \"ComfortScore\", \"WaitTime\", \"TransTime\", \"Costs\", \"Type\"]\n",
    "user_routes_df = user_routes_df[cols_needed]\n",
    "top_routes_df = top_routes_df[cols_needed]\n",
    "df_comparison = pd.concat([user_routes_df, top_routes_df], ignore_index=True)\n",
    "\n",
    "# --- Формирование таблиц с метриками ---\n",
    "recommended_metrics = df_comparison[\n",
    "    df_comparison[\"Type\"] == \"Рекомендация\"\n",
    "].set_index(\"ClientId\")[[\"IntellectScore\", \"ComfortScore\", \"WaitTime\", \"TransTime\", \"Costs\"]]\n",
    "\n",
    "user_metrics = df_comparison[\n",
    "    df_comparison[\"Type\"] == \"Пользователь\"\n",
    "].set_index(\"ClientId\")[[\"IntellectScore\", \"ComfortScore\", \"WaitTime\", \"TransTime\", \"Costs\"]]\n",
    "\n",
    "# --- Построение гистограмм различий ---\n",
    "metric_cols = ['IntellectScore', 'ComfortScore', 'WaitTime', 'TransTime', 'Costs']\n",
    "plt.figure(figsize=(15, 10))\n",
    "\n",
    "for i, col in enumerate(metric_cols):\n",
    "    plt.subplot(2, 3, i + 1)\n",
    "    diff = recommended_metrics[col] - user_metrics[col]\n",
    "    plt.hist(diff, bins=30, color='skyblue', edgecolor='black')\n",
    "    plt.axvline(0, color='red', linestyle='--', linewidth=1)\n",
    "    plt.title(f\"Разница в {col}\")\n",
    "    plt.xlabel(\"Рекомендация - Пользователь\")\n",
    "    plt.ylabel(\"Частота\")\n",
    "\n",
    "plt.tight_layout()\n",
    "plt.suptitle(\"📊 Распределение различий между рекомендациями и пользовательскими маршрутами\", fontsize=14, y=1.05)\n",
    "plt.show()\n"
   ]
  },
  {
   "cell_type": "markdown",
   "id": "d38a8410",
   "metadata": {},
   "source": [
    "На графиках показано распределение различий между рекомендованными и фактическими пользовательскими маршрутами по ключевым метрикам:\n",
    "\n",
    "* Значения правее красной линии означают, что рекомендации лучше по данной метрике.\n",
    "\n",
    "* Левее красной линии — пользовательский выбор оказался предпочтительнее.\n",
    "\n",
    "* Чем больше площадь справа, тем выше доля случаев, когда рекомендации дают лучший результат.\n",
    "\n",
    "Можно видеть, что по метрикам IntellectScore, ComfortScore и Costs рекомендации стабильно превосходят пользовательские маршруты. "
   ]
  },
  {
   "cell_type": "markdown",
   "id": "748c68ae",
   "metadata": {},
   "source": [
    "Вот таблица со сравнением средних значений метрик между пользовательскими маршрутами и нашими рекомендациями:"
   ]
  },
  {
   "cell_type": "code",
   "execution_count": 165,
   "id": "3fa1bb6a",
   "metadata": {},
   "outputs": [
    {
     "name": "stdout",
     "output_type": "stream",
     "text": [
      "                User (avg)  Recommended (avg)  Δ (rec - user)     % Δ\n",
      "IntellectScore       37.06              74.30           37.24  100.49\n",
      "ComfortScore         37.52              66.34           28.82   76.81\n",
      "WaitTime            266.00             235.00          -31.00  -11.65\n",
      "TransTime            13.40              19.60            6.20   46.27\n",
      "Costs               600.00            1040.00          440.00   73.33\n"
     ]
    }
   ],
   "source": [
    "# user_metrics — метрики маршрутов пользователей\n",
    "# recommended_metrics — метрики рекомендованных маршрутов\n",
    "\n",
    "# Вычисление средних значений и разницы\n",
    "summary_df = pd.DataFrame({\n",
    "    \"User (avg)\": user_metrics.mean(),\n",
    "    \"Recommended (avg)\": recommended_metrics.mean(),\n",
    "    \"Δ (rec - user)\": recommended_metrics.mean() - user_metrics.mean(),\n",
    "    \"% Δ\": 100 * (recommended_metrics.mean() - user_metrics.mean()) / user_metrics.mean()\n",
    "}).round(2)\n",
    "\n",
    "# Вывод таблицы\n",
    "print(summary_df)\n"
   ]
  },
  {
   "cell_type": "markdown",
   "id": "50f0117c",
   "metadata": {},
   "source": [
    "Рекомендации заметно выигрывают по интеллектуальности и комфорту, немного уменьшают время ожидания, но требуют больше передвижений и затрат. (считаем, что стоимость концерта в 300р погоды в принятии решений не делает, потому стоимость растет просто от увеличения числа концертов и это не плохо)"
   ]
  },
  {
   "cell_type": "code",
   "execution_count": 166,
   "id": "f253a56d",
   "metadata": {},
   "outputs": [
    {
     "name": "stderr",
     "output_type": "stream",
     "text": [
      "/var/folders/ph/7m0lcx1d1_q_2b1f5fzxch7m0000gn/T/ipykernel_82224/654519573.py:30: UserWarning:\n",
      "\n",
      "Glyph 128200 (\\N{CHART WITH UPWARDS TREND}) missing from current font.\n",
      "\n",
      "/Users/georgijmamarin/Library/Python/3.10/lib/python/site-packages/IPython/core/pylabtools.py:152: UserWarning:\n",
      "\n",
      "Glyph 128200 (\\N{CHART WITH UPWARDS TREND}) missing from current font.\n",
      "\n"
     ]
    },
    {
     "data": {
      "image/png": "[encoded data removed]",
      "text/plain": [
       "<Figure size 1600x1000 with 6 Axes>"
      ]
     },
     "metadata": {},
     "output_type": "display_data"
    }
   ],
   "source": [
    "import seaborn as sns\n",
    "\n",
    "# Список метрик, которые сравниваем\n",
    "metric_cols = ['IntellectScore', 'ComfortScore', 'WaitTime', 'TransTime', 'Costs']\n",
    "\n",
    "# Построение scatter-пар для каждой метрики\n",
    "fig, axes = plt.subplots(2, 3, figsize=(16, 10))\n",
    "axes = axes.flatten()\n",
    "\n",
    "for i, col in enumerate(metric_cols):\n",
    "    ax = axes[i]\n",
    "    sns.scatterplot(\n",
    "        x=user_metrics[col],\n",
    "        y=recommended_metrics[col],\n",
    "        ax=ax,\n",
    "        alpha=0.6,\n",
    "        edgecolor='k'\n",
    "    )\n",
    "    # Диагональная линия равенства\n",
    "    min_val = min(user_metrics[col].min(), recommended_metrics[col].min())\n",
    "    max_val = max(user_metrics[col].max(), recommended_metrics[col].max())\n",
    "    ax.plot([min_val, max_val], [min_val, max_val], linestyle='--', color='gray')\n",
    "\n",
    "    ax.set_title(f\"{col}: Пользователь vs Рекомендация\")\n",
    "    ax.set_xlabel(\"Пользовательский маршрут\")\n",
    "    ax.set_ylabel(\"Рекомендованный маршрут\")\n",
    "\n",
    "# Общий заголовок и компоновка\n",
    "fig.suptitle(\"📈 Сравнение метрик: пользовательские vs рекомендованные маршруты\", fontsize=16)\n",
    "plt.tight_layout()\n",
    "plt.show()\n"
   ]
  },
  {
   "cell_type": "markdown",
   "id": "1827d9cf",
   "metadata": {},
   "source": [
    "А вот scatter-графики, сравнивающие метрики пользовательских маршрутов с рекомендованными:\n",
    "\n",
    "* Каждая точка — один пользователь.\n",
    "\n",
    "* Диагональная серая линия — зона равенства (если пользователь и рекомендация одинаково хороши).\n",
    "\n",
    "* Точки выше линии означают, что рекомендация лучше по данной метрике, а ниже — хуже.\n",
    "\n",
    "Это помогает быстро увидеть, по каким метрикам наши рекомендации выигрывают у пользовательских маршрутов, а по каким уступают."
   ]
  }
 ],
 "metadata": {
  "kernelspec": {
   "display_name": "Python 3",
   "language": "python",
   "name": "python3"
  },
  "language_info": {
   "codemirror_mode": {
    "name": "ipython",
    "version": 3
   },
   "file_extension": ".py",
   "mimetype": "text/x-python",
   "name": "python",
   "nbconvert_exporter": "python",
   "pygments_lexer": "ipython3",
   "version": "3.10.6"
  }
 },
 "nbformat": 4,
 "nbformat_minor": 5
}
